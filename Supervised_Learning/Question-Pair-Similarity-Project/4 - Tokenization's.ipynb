{
 "cells": [
  {
   "cell_type": "markdown",
   "id": "5052aea9",
   "metadata": {},
   "source": [
    "# Tokenizations Techniques\n",
    "> Word tokenization is a fundamental technique used in natural language processing (NLP) and computational linguistics to break down a text document or a sentence into individual words or tokens. Each token represents a meaningful unit, such as a word or punctuation mark, and serves as the basic building block for various NLP tasks.\n",
    "\n",
    "#### Various Tokenizations are:\n",
    "\n",
    "1. `Word Tokenization:` This technique breaks the text into individual words. The most straightforward approach is to split the text on whitespace characters such as spaces and tabs.\n",
    "\n",
    "2. `Sentence Tokenization:` In sentence tokenization, the text is divided into individual sentences. This is typically done by identifying sentence boundaries using punctuation marks like periods, question marks, and exclamation marks.\n",
    "\n",
    "3. `wordpunct tokenization:` It is a specific tokenization method provided by the NLTK (Natural Language Toolkit) library in Python. It is designed to tokenize text by considering both words and punctuation marks as separate tokens.\n",
    "\n",
    "4. `TextBlob's word tokenization:` It considers whitespace and punctuation marks as token boundaries. It provides a straightforward and convenient way to tokenize text without the need for additional libraries or complex regular expressions.It's important to note that TextBlob's word tokenization may not handle certain cases, such as contractions or specialized punctuation, as accurately as more advanced tokenization techniques. "
   ]
  },
  {
   "cell_type": "markdown",
   "id": "487f8bd6",
   "metadata": {},
   "source": [
    "## Import Required libraries"
   ]
  },
  {
   "cell_type": "code",
   "execution_count": 18,
   "id": "3e9d3bc2",
   "metadata": {},
   "outputs": [
    {
     "name": "stderr",
     "output_type": "stream",
     "text": [
      "[nltk_data] Downloading package stopwords to C:\\Users\\GUDLA\n",
      "[nltk_data]     RAGUWING\\AppData\\Roaming\\nltk_data...\n",
      "[nltk_data]   Package stopwords is already up-to-date!\n"
     ]
    },
    {
     "data": {
      "text/plain": [
       "True"
      ]
     },
     "execution_count": 18,
     "metadata": {},
     "output_type": "execute_result"
    },
    {
     "name": "stderr",
     "output_type": "stream",
     "text": [
      "[nltk_data] Downloading package wordnet to C:\\Users\\GUDLA\n",
      "[nltk_data]     RAGUWING\\AppData\\Roaming\\nltk_data...\n",
      "[nltk_data]   Package wordnet is already up-to-date!\n"
     ]
    },
    {
     "data": {
      "text/plain": [
       "True"
      ]
     },
     "execution_count": 18,
     "metadata": {},
     "output_type": "execute_result"
    },
    {
     "name": "stderr",
     "output_type": "stream",
     "text": [
      "[nltk_data] Downloading package omw-1.4 to C:\\Users\\GUDLA\n",
      "[nltk_data]     RAGUWING\\AppData\\Roaming\\nltk_data...\n",
      "[nltk_data]   Package omw-1.4 is already up-to-date!\n"
     ]
    },
    {
     "data": {
      "text/plain": [
       "True"
      ]
     },
     "execution_count": 18,
     "metadata": {},
     "output_type": "execute_result"
    },
    {
     "name": "stderr",
     "output_type": "stream",
     "text": [
      "[nltk_data] Downloading package punkt to C:\\Users\\GUDLA\n",
      "[nltk_data]     RAGUWING\\AppData\\Roaming\\nltk_data...\n",
      "[nltk_data]   Package punkt is already up-to-date!\n"
     ]
    },
    {
     "data": {
      "text/plain": [
       "True"
      ]
     },
     "execution_count": 18,
     "metadata": {},
     "output_type": "execute_result"
    }
   ],
   "source": [
    "import pandas as pd\n",
    "import numpy as np\n",
    "\n",
    "import re\n",
    "import seaborn as sns\n",
    "import matplotlib.pyplot as plt\n",
    "\n",
    "import nltk\n",
    "from nltk.tokenize import word_tokenize, wordpunct_tokenize, sent_tokenize\n",
    "from nltk.corpus import stopwords\n",
    "from nltk.stem.porter import PorterStemmer\n",
    "from nltk.stem import WordNetLemmatizer\n",
    "\n",
    "import nltk\n",
    "nltk.download('stopwords')\n",
    "# Downloading wordnet before applying Lemmatizer\n",
    "nltk.download('wordnet')\n",
    "nltk.download('omw-1.4')\n",
    "import nltk\n",
    "nltk.download('punkt')\n",
    "\n",
    "from pickle import dump\n",
    "from pickle import load\n",
    "\n",
    "sns.set_style('whitegrid')\n",
    "plt.style.use('bmh')\n",
    "\n",
    "import warnings\n",
    "warnings.filterwarnings('ignore')\n",
    "\n",
    "from IPython.core.interactiveshell import InteractiveShell\n",
    "InteractiveShell.ast_node_interactivity = 'all'\n",
    "\n",
    "# for HD visualizations\n",
    "%config InlineBackend.figure_format='retina'"
   ]
  },
  {
   "cell_type": "markdown",
   "id": "1dc6494c",
   "metadata": {},
   "source": [
    "## Note:\n",
    "* Here in this code file, first we are going to load the cleaned csv file that we obtained from after performing EDA on the original csv file. Now we are going to apply various Tokenization techniques to see how they works."
   ]
  },
  {
   "cell_type": "code",
   "execution_count": 9,
   "id": "b7c0945d",
   "metadata": {},
   "outputs": [],
   "source": [
    "df_cleaned = pd.read_csv(r\"C:\\Users\\GUDLA RAGUWING\\Data Science Course\\Internship_Project\\cleaned_df.csv\")"
   ]
  },
  {
   "cell_type": "code",
   "execution_count": 10,
   "id": "1f51630a",
   "metadata": {},
   "outputs": [
    {
     "data": {
      "text/html": [
       "<div>\n",
       "<style scoped>\n",
       "    .dataframe tbody tr th:only-of-type {\n",
       "        vertical-align: middle;\n",
       "    }\n",
       "\n",
       "    .dataframe tbody tr th {\n",
       "        vertical-align: top;\n",
       "    }\n",
       "\n",
       "    .dataframe thead th {\n",
       "        text-align: right;\n",
       "    }\n",
       "</style>\n",
       "<table border=\"1\" class=\"dataframe\">\n",
       "  <thead>\n",
       "    <tr style=\"text-align: right;\">\n",
       "      <th></th>\n",
       "      <th>Unnamed: 0</th>\n",
       "      <th>id</th>\n",
       "      <th>qid1</th>\n",
       "      <th>question1</th>\n",
       "      <th>qid2</th>\n",
       "      <th>question2</th>\n",
       "      <th>is_duplicate</th>\n",
       "      <th>Question_similarity</th>\n",
       "    </tr>\n",
       "  </thead>\n",
       "  <tbody>\n",
       "    <tr>\n",
       "      <th>0</th>\n",
       "      <td>0</td>\n",
       "      <td>0</td>\n",
       "      <td>1</td>\n",
       "      <td>What is the step by step guide to invest in sh...</td>\n",
       "      <td>2</td>\n",
       "      <td>What is the step by step guide to invest in sh...</td>\n",
       "      <td>0</td>\n",
       "      <td>Not Similar</td>\n",
       "    </tr>\n",
       "    <tr>\n",
       "      <th>1</th>\n",
       "      <td>1</td>\n",
       "      <td>1</td>\n",
       "      <td>3</td>\n",
       "      <td>What is the story of Kohinoor (Koh-i-Noor) Dia...</td>\n",
       "      <td>4</td>\n",
       "      <td>What would happen if the Indian government sto...</td>\n",
       "      <td>0</td>\n",
       "      <td>Not Similar</td>\n",
       "    </tr>\n",
       "    <tr>\n",
       "      <th>2</th>\n",
       "      <td>2</td>\n",
       "      <td>2</td>\n",
       "      <td>5</td>\n",
       "      <td>How can I increase the speed of my internet co...</td>\n",
       "      <td>6</td>\n",
       "      <td>How can Internet speed be increased by hacking...</td>\n",
       "      <td>0</td>\n",
       "      <td>Not Similar</td>\n",
       "    </tr>\n",
       "    <tr>\n",
       "      <th>3</th>\n",
       "      <td>3</td>\n",
       "      <td>3</td>\n",
       "      <td>7</td>\n",
       "      <td>Why am I mentally very lonely? How can I solve...</td>\n",
       "      <td>8</td>\n",
       "      <td>Find the remainder when [math]23^{24}[/math] i...</td>\n",
       "      <td>0</td>\n",
       "      <td>Not Similar</td>\n",
       "    </tr>\n",
       "    <tr>\n",
       "      <th>4</th>\n",
       "      <td>4</td>\n",
       "      <td>4</td>\n",
       "      <td>9</td>\n",
       "      <td>Which one dissolve in water quikly sugar, salt...</td>\n",
       "      <td>10</td>\n",
       "      <td>Which fish would survive in salt water?</td>\n",
       "      <td>0</td>\n",
       "      <td>Not Similar</td>\n",
       "    </tr>\n",
       "  </tbody>\n",
       "</table>\n",
       "</div>"
      ],
      "text/plain": [
       "   Unnamed: 0  id  qid1                                          question1  \\\n",
       "0           0   0     1  What is the step by step guide to invest in sh...   \n",
       "1           1   1     3  What is the story of Kohinoor (Koh-i-Noor) Dia...   \n",
       "2           2   2     5  How can I increase the speed of my internet co...   \n",
       "3           3   3     7  Why am I mentally very lonely? How can I solve...   \n",
       "4           4   4     9  Which one dissolve in water quikly sugar, salt...   \n",
       "\n",
       "   qid2                                          question2  is_duplicate  \\\n",
       "0     2  What is the step by step guide to invest in sh...             0   \n",
       "1     4  What would happen if the Indian government sto...             0   \n",
       "2     6  How can Internet speed be increased by hacking...             0   \n",
       "3     8  Find the remainder when [math]23^{24}[/math] i...             0   \n",
       "4    10            Which fish would survive in salt water?             0   \n",
       "\n",
       "  Question_similarity  \n",
       "0         Not Similar  \n",
       "1         Not Similar  \n",
       "2         Not Similar  \n",
       "3         Not Similar  \n",
       "4         Not Similar  "
      ]
     },
     "execution_count": 10,
     "metadata": {},
     "output_type": "execute_result"
    }
   ],
   "source": [
    "df_cleaned.head()"
   ]
  },
  {
   "cell_type": "markdown",
   "id": "b1b035cb",
   "metadata": {},
   "source": [
    "## Applying word_tokenize(Word Tokenizer)"
   ]
  },
  {
   "cell_type": "code",
   "execution_count": 2,
   "id": "3d1fbef1",
   "metadata": {},
   "outputs": [],
   "source": [
    "def preprocess(raw_text):\n",
    "    # Removing special characters and digits\n",
    "    sentence = re.sub(\"[^a-zA-Z]\", \" \", raw_text)\n",
    "    \n",
    "    # change sentence to lower case\n",
    "    sentence = sentence.lower()\n",
    "    \n",
    "    # tokenize into words\n",
    "    tokens = word_tokenize(sentence)\n",
    "    # remove stop words                \n",
    "    clean_tokens = [t for t in tokens if not t in stopwords.words(\"english\")]\n",
    "    \n",
    "    return pd.Series([\" \".join(clean_tokens), len(clean_tokens)])\n"
   ]
  },
  {
   "cell_type": "code",
   "execution_count": 14,
   "id": "29c6acfa",
   "metadata": {},
   "outputs": [
    {
     "data": {
      "text/plain": [
       "'tqdm.pandas() is a method provided by tqdm library  that allows you to create/apply progress bars to pandas operations.\\nWorks for pandas series as well as DataFrame, \\nyou can visualize the progress of your operations and get an estimate amount of time to complete the pandas task'"
      ]
     },
     "execution_count": 14,
     "metadata": {},
     "output_type": "execute_result"
    }
   ],
   "source": [
    "from tqdm import tqdm, tqdm_notebook\n",
    "tqdm.pandas()\n",
    "'''tqdm.pandas() is a method provided by tqdm library  that allows you to create/apply progress bars to pandas operations.\n",
    "Works for pandas series as well as DataFrame, \n",
    "you can visualize the progress of your operations and get an estimate amount of time to complete the pandas task'''"
   ]
  },
  {
   "cell_type": "code",
   "execution_count": 26,
   "id": "1ece5452",
   "metadata": {},
   "outputs": [
    {
     "name": "stderr",
     "output_type": "stream",
     "text": [
      "100%|█████████████████████████████████████████████████████████████████████████| 404290/404290 [19:16<00:00, 349.73it/s]\n"
     ]
    },
    {
     "data": {
      "text/html": [
       "<div>\n",
       "<style scoped>\n",
       "    .dataframe tbody tr th:only-of-type {\n",
       "        vertical-align: middle;\n",
       "    }\n",
       "\n",
       "    .dataframe tbody tr th {\n",
       "        vertical-align: top;\n",
       "    }\n",
       "\n",
       "    .dataframe thead th {\n",
       "        text-align: right;\n",
       "    }\n",
       "</style>\n",
       "<table border=\"1\" class=\"dataframe\">\n",
       "  <thead>\n",
       "    <tr style=\"text-align: right;\">\n",
       "      <th></th>\n",
       "      <th>0</th>\n",
       "      <th>1</th>\n",
       "    </tr>\n",
       "  </thead>\n",
       "  <tbody>\n",
       "    <tr>\n",
       "      <th>0</th>\n",
       "      <td>step step guide invest share market india</td>\n",
       "      <td>7</td>\n",
       "    </tr>\n",
       "    <tr>\n",
       "      <th>1</th>\n",
       "      <td>story kohinoor koh noor diamond</td>\n",
       "      <td>5</td>\n",
       "    </tr>\n",
       "    <tr>\n",
       "      <th>2</th>\n",
       "      <td>increase speed internet connection using vpn</td>\n",
       "      <td>6</td>\n",
       "    </tr>\n",
       "    <tr>\n",
       "      <th>3</th>\n",
       "      <td>mentally lonely solve</td>\n",
       "      <td>3</td>\n",
       "    </tr>\n",
       "    <tr>\n",
       "      <th>4</th>\n",
       "      <td>one dissolve water quikly sugar salt methane c...</td>\n",
       "      <td>10</td>\n",
       "    </tr>\n",
       "  </tbody>\n",
       "</table>\n",
       "</div>"
      ],
      "text/plain": [
       "                                                   0   1\n",
       "0          step step guide invest share market india   7\n",
       "1                    story kohinoor koh noor diamond   5\n",
       "2       increase speed internet connection using vpn   6\n",
       "3                              mentally lonely solve   3\n",
       "4  one dissolve water quikly sugar salt methane c...  10"
      ]
     },
     "execution_count": 26,
     "metadata": {},
     "output_type": "execute_result"
    }
   ],
   "source": [
    "temp_df = df_cleaned['question1'].progress_apply(lambda x: preprocess(x))\n",
    "\n",
    "temp_df.head()"
   ]
  },
  {
   "cell_type": "code",
   "execution_count": 27,
   "id": "9f623ecf",
   "metadata": {},
   "outputs": [
    {
     "name": "stderr",
     "output_type": "stream",
     "text": [
      "100%|█████████████████████████████████████████████████████████████████████████| 404290/404290 [19:44<00:00, 341.28it/s]\n"
     ]
    },
    {
     "data": {
      "text/html": [
       "<div>\n",
       "<style scoped>\n",
       "    .dataframe tbody tr th:only-of-type {\n",
       "        vertical-align: middle;\n",
       "    }\n",
       "\n",
       "    .dataframe tbody tr th {\n",
       "        vertical-align: top;\n",
       "    }\n",
       "\n",
       "    .dataframe thead th {\n",
       "        text-align: right;\n",
       "    }\n",
       "</style>\n",
       "<table border=\"1\" class=\"dataframe\">\n",
       "  <thead>\n",
       "    <tr style=\"text-align: right;\">\n",
       "      <th></th>\n",
       "      <th>0</th>\n",
       "      <th>1</th>\n",
       "    </tr>\n",
       "  </thead>\n",
       "  <tbody>\n",
       "    <tr>\n",
       "      <th>0</th>\n",
       "      <td>step step guide invest share market</td>\n",
       "      <td>6</td>\n",
       "    </tr>\n",
       "    <tr>\n",
       "      <th>1</th>\n",
       "      <td>would happen indian government stole kohinoor ...</td>\n",
       "      <td>10</td>\n",
       "    </tr>\n",
       "    <tr>\n",
       "      <th>2</th>\n",
       "      <td>internet speed increased hacking dns</td>\n",
       "      <td>5</td>\n",
       "    </tr>\n",
       "    <tr>\n",
       "      <th>3</th>\n",
       "      <td>find remainder math math divided</td>\n",
       "      <td>5</td>\n",
       "    </tr>\n",
       "    <tr>\n",
       "      <th>4</th>\n",
       "      <td>fish would survive salt water</td>\n",
       "      <td>5</td>\n",
       "    </tr>\n",
       "  </tbody>\n",
       "</table>\n",
       "</div>"
      ],
      "text/plain": [
       "                                                   0   1\n",
       "0                step step guide invest share market   6\n",
       "1  would happen indian government stole kohinoor ...  10\n",
       "2               internet speed increased hacking dns   5\n",
       "3                   find remainder math math divided   5\n",
       "4                      fish would survive salt water   5"
      ]
     },
     "execution_count": 27,
     "metadata": {},
     "output_type": "execute_result"
    }
   ],
   "source": [
    "temp_df1 = df_cleaned['question2'].progress_apply(lambda x: preprocess(x))\n",
    "\n",
    "temp_df1.head()"
   ]
  },
  {
   "cell_type": "code",
   "execution_count": 31,
   "id": "f9a65c9c",
   "metadata": {},
   "outputs": [],
   "source": [
    "Word_tokenize = pd.concat([temp_df,temp_df1], axis = 1)"
   ]
  },
  {
   "cell_type": "code",
   "execution_count": 32,
   "id": "7b5eff37",
   "metadata": {},
   "outputs": [],
   "source": [
    "Word_tokenize.columns = ['Text_Wordtokenize_Q1','Text_len_Q2','Text_Wordtokenize_Q2','Text_len_Q2']"
   ]
  },
  {
   "cell_type": "code",
   "execution_count": 33,
   "id": "8284d739",
   "metadata": {},
   "outputs": [
    {
     "data": {
      "text/html": [
       "<div>\n",
       "<style scoped>\n",
       "    .dataframe tbody tr th:only-of-type {\n",
       "        vertical-align: middle;\n",
       "    }\n",
       "\n",
       "    .dataframe tbody tr th {\n",
       "        vertical-align: top;\n",
       "    }\n",
       "\n",
       "    .dataframe thead th {\n",
       "        text-align: right;\n",
       "    }\n",
       "</style>\n",
       "<table border=\"1\" class=\"dataframe\">\n",
       "  <thead>\n",
       "    <tr style=\"text-align: right;\">\n",
       "      <th></th>\n",
       "      <th>Text_Wordtokenize_Q1</th>\n",
       "      <th>Text_len_Q2</th>\n",
       "      <th>Text_Wordtokenize_Q2</th>\n",
       "      <th>Text_len_Q2</th>\n",
       "    </tr>\n",
       "  </thead>\n",
       "  <tbody>\n",
       "    <tr>\n",
       "      <th>0</th>\n",
       "      <td>step step guide invest share market india</td>\n",
       "      <td>7</td>\n",
       "      <td>step step guide invest share market</td>\n",
       "      <td>6</td>\n",
       "    </tr>\n",
       "    <tr>\n",
       "      <th>1</th>\n",
       "      <td>story kohinoor koh noor diamond</td>\n",
       "      <td>5</td>\n",
       "      <td>would happen indian government stole kohinoor ...</td>\n",
       "      <td>10</td>\n",
       "    </tr>\n",
       "    <tr>\n",
       "      <th>2</th>\n",
       "      <td>increase speed internet connection using vpn</td>\n",
       "      <td>6</td>\n",
       "      <td>internet speed increased hacking dns</td>\n",
       "      <td>5</td>\n",
       "    </tr>\n",
       "    <tr>\n",
       "      <th>3</th>\n",
       "      <td>mentally lonely solve</td>\n",
       "      <td>3</td>\n",
       "      <td>find remainder math math divided</td>\n",
       "      <td>5</td>\n",
       "    </tr>\n",
       "    <tr>\n",
       "      <th>4</th>\n",
       "      <td>one dissolve water quikly sugar salt methane c...</td>\n",
       "      <td>10</td>\n",
       "      <td>fish would survive salt water</td>\n",
       "      <td>5</td>\n",
       "    </tr>\n",
       "  </tbody>\n",
       "</table>\n",
       "</div>"
      ],
      "text/plain": [
       "                                Text_Wordtokenize_Q1  Text_len_Q2  \\\n",
       "0          step step guide invest share market india            7   \n",
       "1                    story kohinoor koh noor diamond            5   \n",
       "2       increase speed internet connection using vpn            6   \n",
       "3                              mentally lonely solve            3   \n",
       "4  one dissolve water quikly sugar salt methane c...           10   \n",
       "\n",
       "                                Text_Wordtokenize_Q2  Text_len_Q2  \n",
       "0                step step guide invest share market            6  \n",
       "1  would happen indian government stole kohinoor ...           10  \n",
       "2               internet speed increased hacking dns            5  \n",
       "3                   find remainder math math divided            5  \n",
       "4                      fish would survive salt water            5  "
      ]
     },
     "execution_count": 33,
     "metadata": {},
     "output_type": "execute_result"
    }
   ],
   "source": [
    "Word_tokenize.head()"
   ]
  },
  {
   "cell_type": "markdown",
   "id": "93b1839d",
   "metadata": {},
   "source": [
    "## Applying sent_tokenize(Sentence Tokenizer)"
   ]
  },
  {
   "cell_type": "code",
   "execution_count": 25,
   "id": "98795092",
   "metadata": {},
   "outputs": [],
   "source": [
    "def preprocess(raw_text):\n",
    "    # Removing special characters and digits\n",
    "    sentence = re.sub(\"[^a-zA-Z]\", \" \", raw_text)\n",
    "    \n",
    "    # change sentence to lower case\n",
    "    sentence = sentence.lower()\n",
    "    \n",
    "    # tokenize into words\n",
    "    tokens = sent_tokenize(sentence)\n",
    "    \n",
    "    return pd.Series([\" \".join(tokens), len(tokens)])\n"
   ]
  },
  {
   "cell_type": "code",
   "execution_count": 26,
   "id": "06232f8f",
   "metadata": {},
   "outputs": [
    {
     "name": "stderr",
     "output_type": "stream",
     "text": [
      "100%|████████████████████████████████████████████████████████████████████████| 404290/404290 [00:59<00:00, 6750.52it/s]\n"
     ]
    },
    {
     "data": {
      "text/html": [
       "<div>\n",
       "<style scoped>\n",
       "    .dataframe tbody tr th:only-of-type {\n",
       "        vertical-align: middle;\n",
       "    }\n",
       "\n",
       "    .dataframe tbody tr th {\n",
       "        vertical-align: top;\n",
       "    }\n",
       "\n",
       "    .dataframe thead th {\n",
       "        text-align: right;\n",
       "    }\n",
       "</style>\n",
       "<table border=\"1\" class=\"dataframe\">\n",
       "  <thead>\n",
       "    <tr style=\"text-align: right;\">\n",
       "      <th></th>\n",
       "      <th>0</th>\n",
       "      <th>1</th>\n",
       "    </tr>\n",
       "  </thead>\n",
       "  <tbody>\n",
       "    <tr>\n",
       "      <th>0</th>\n",
       "      <td>what is the step by step guide to invest in sh...</td>\n",
       "      <td>1</td>\n",
       "    </tr>\n",
       "    <tr>\n",
       "      <th>1</th>\n",
       "      <td>what is the story of kohinoor  koh i noor  dia...</td>\n",
       "      <td>1</td>\n",
       "    </tr>\n",
       "    <tr>\n",
       "      <th>2</th>\n",
       "      <td>how can i increase the speed of my internet co...</td>\n",
       "      <td>1</td>\n",
       "    </tr>\n",
       "    <tr>\n",
       "      <th>3</th>\n",
       "      <td>why am i mentally very lonely  how can i solve it</td>\n",
       "      <td>1</td>\n",
       "    </tr>\n",
       "    <tr>\n",
       "      <th>4</th>\n",
       "      <td>which one dissolve in water quikly sugar  salt...</td>\n",
       "      <td>1</td>\n",
       "    </tr>\n",
       "  </tbody>\n",
       "</table>\n",
       "</div>"
      ],
      "text/plain": [
       "                                                   0  1\n",
       "0  what is the step by step guide to invest in sh...  1\n",
       "1  what is the story of kohinoor  koh i noor  dia...  1\n",
       "2  how can i increase the speed of my internet co...  1\n",
       "3  why am i mentally very lonely  how can i solve it  1\n",
       "4  which one dissolve in water quikly sugar  salt...  1"
      ]
     },
     "execution_count": 26,
     "metadata": {},
     "output_type": "execute_result"
    }
   ],
   "source": [
    "temp_df2 = df_cleaned['question1'].progress_apply(lambda x: preprocess(x))\n",
    "\n",
    "temp_df2.head()"
   ]
  },
  {
   "cell_type": "code",
   "execution_count": 31,
   "id": "1d8b7b30",
   "metadata": {
    "scrolled": true
   },
   "outputs": [
    {
     "name": "stderr",
     "output_type": "stream",
     "text": [
      "100%|████████████████████████████████████████████████████████████████████████| 404290/404290 [01:01<00:00, 6577.32it/s]\n"
     ]
    },
    {
     "data": {
      "text/html": [
       "<div>\n",
       "<style scoped>\n",
       "    .dataframe tbody tr th:only-of-type {\n",
       "        vertical-align: middle;\n",
       "    }\n",
       "\n",
       "    .dataframe tbody tr th {\n",
       "        vertical-align: top;\n",
       "    }\n",
       "\n",
       "    .dataframe thead th {\n",
       "        text-align: right;\n",
       "    }\n",
       "</style>\n",
       "<table border=\"1\" class=\"dataframe\">\n",
       "  <thead>\n",
       "    <tr style=\"text-align: right;\">\n",
       "      <th></th>\n",
       "      <th>0</th>\n",
       "      <th>1</th>\n",
       "    </tr>\n",
       "  </thead>\n",
       "  <tbody>\n",
       "    <tr>\n",
       "      <th>0</th>\n",
       "      <td>what is the step by step guide to invest in sh...</td>\n",
       "      <td>1</td>\n",
       "    </tr>\n",
       "    <tr>\n",
       "      <th>1</th>\n",
       "      <td>what would happen if the indian government sto...</td>\n",
       "      <td>1</td>\n",
       "    </tr>\n",
       "    <tr>\n",
       "      <th>2</th>\n",
       "      <td>how can internet speed be increased by hacking...</td>\n",
       "      <td>1</td>\n",
       "    </tr>\n",
       "    <tr>\n",
       "      <th>3</th>\n",
       "      <td>find the remainder when  math          math  i...</td>\n",
       "      <td>1</td>\n",
       "    </tr>\n",
       "    <tr>\n",
       "      <th>4</th>\n",
       "      <td>which fish would survive in salt water</td>\n",
       "      <td>1</td>\n",
       "    </tr>\n",
       "  </tbody>\n",
       "</table>\n",
       "</div>"
      ],
      "text/plain": [
       "                                                   0  1\n",
       "0  what is the step by step guide to invest in sh...  1\n",
       "1  what would happen if the indian government sto...  1\n",
       "2  how can internet speed be increased by hacking...  1\n",
       "3  find the remainder when  math          math  i...  1\n",
       "4             which fish would survive in salt water  1"
      ]
     },
     "execution_count": 31,
     "metadata": {},
     "output_type": "execute_result"
    }
   ],
   "source": [
    "temp_df3 = df_cleaned['question2'].progress_apply(lambda x: preprocess(x))\n",
    "\n",
    "temp_df3.head()"
   ]
  },
  {
   "cell_type": "code",
   "execution_count": 32,
   "id": "65aabc7f",
   "metadata": {},
   "outputs": [],
   "source": [
    "Sentence_tokenize = pd.concat([temp_df2,temp_df3], axis = 1)"
   ]
  },
  {
   "cell_type": "code",
   "execution_count": 33,
   "id": "4d2c56cf",
   "metadata": {},
   "outputs": [],
   "source": [
    "Sentence_tokenize.columns = ['Text_sentencetokenize_Q1','Text_len_Q2','Text_sentencetokenize_Q2','Text_len_Q2']"
   ]
  },
  {
   "cell_type": "code",
   "execution_count": 34,
   "id": "40ed50e2",
   "metadata": {},
   "outputs": [
    {
     "data": {
      "text/html": [
       "<div>\n",
       "<style scoped>\n",
       "    .dataframe tbody tr th:only-of-type {\n",
       "        vertical-align: middle;\n",
       "    }\n",
       "\n",
       "    .dataframe tbody tr th {\n",
       "        vertical-align: top;\n",
       "    }\n",
       "\n",
       "    .dataframe thead th {\n",
       "        text-align: right;\n",
       "    }\n",
       "</style>\n",
       "<table border=\"1\" class=\"dataframe\">\n",
       "  <thead>\n",
       "    <tr style=\"text-align: right;\">\n",
       "      <th></th>\n",
       "      <th>Text_sentencetokenize_Q1</th>\n",
       "      <th>Text_len_Q2</th>\n",
       "      <th>Text_sentencetokenize_Q2</th>\n",
       "      <th>Text_len_Q2</th>\n",
       "    </tr>\n",
       "  </thead>\n",
       "  <tbody>\n",
       "    <tr>\n",
       "      <th>0</th>\n",
       "      <td>what is the step by step guide to invest in sh...</td>\n",
       "      <td>1</td>\n",
       "      <td>what is the step by step guide to invest in sh...</td>\n",
       "      <td>1</td>\n",
       "    </tr>\n",
       "    <tr>\n",
       "      <th>1</th>\n",
       "      <td>what is the story of kohinoor  koh i noor  dia...</td>\n",
       "      <td>1</td>\n",
       "      <td>what would happen if the indian government sto...</td>\n",
       "      <td>1</td>\n",
       "    </tr>\n",
       "    <tr>\n",
       "      <th>2</th>\n",
       "      <td>how can i increase the speed of my internet co...</td>\n",
       "      <td>1</td>\n",
       "      <td>how can internet speed be increased by hacking...</td>\n",
       "      <td>1</td>\n",
       "    </tr>\n",
       "    <tr>\n",
       "      <th>3</th>\n",
       "      <td>why am i mentally very lonely  how can i solve it</td>\n",
       "      <td>1</td>\n",
       "      <td>find the remainder when  math          math  i...</td>\n",
       "      <td>1</td>\n",
       "    </tr>\n",
       "    <tr>\n",
       "      <th>4</th>\n",
       "      <td>which one dissolve in water quikly sugar  salt...</td>\n",
       "      <td>1</td>\n",
       "      <td>which fish would survive in salt water</td>\n",
       "      <td>1</td>\n",
       "    </tr>\n",
       "  </tbody>\n",
       "</table>\n",
       "</div>"
      ],
      "text/plain": [
       "                            Text_sentencetokenize_Q1  Text_len_Q2  \\\n",
       "0  what is the step by step guide to invest in sh...            1   \n",
       "1  what is the story of kohinoor  koh i noor  dia...            1   \n",
       "2  how can i increase the speed of my internet co...            1   \n",
       "3  why am i mentally very lonely  how can i solve it            1   \n",
       "4  which one dissolve in water quikly sugar  salt...            1   \n",
       "\n",
       "                            Text_sentencetokenize_Q2  Text_len_Q2  \n",
       "0  what is the step by step guide to invest in sh...            1  \n",
       "1  what would happen if the indian government sto...            1  \n",
       "2  how can internet speed be increased by hacking...            1  \n",
       "3  find the remainder when  math          math  i...            1  \n",
       "4             which fish would survive in salt water            1  "
      ]
     },
     "execution_count": 34,
     "metadata": {},
     "output_type": "execute_result"
    }
   ],
   "source": [
    "Sentence_tokenize.head()"
   ]
  },
  {
   "cell_type": "markdown",
   "id": "c5a1f112",
   "metadata": {},
   "source": [
    "## Applying wordpunct_tokenize(Punctuation-based Tokenizer)\n",
    "* This tokenizer splits the sentences into words based on whitespaces and punctuations."
   ]
  },
  {
   "cell_type": "code",
   "execution_count": 19,
   "id": "0fddb794",
   "metadata": {},
   "outputs": [],
   "source": [
    "def preprocess(raw_text):\n",
    "    # Removing special characters and digits\n",
    "    sentence = re.sub(\"[^?.,!():;-_a-zA-Z]\", \" \", raw_text)\n",
    "    \n",
    "    # change sentence to lower case\n",
    "    sentence = sentence.lower()\n",
    "    \n",
    "    # tokenize into words\n",
    "    tokens = wordpunct_tokenize(sentence)\n",
    "    \n",
    "    return pd.Series([\" \".join(tokens), len(tokens)])\n"
   ]
  },
  {
   "cell_type": "code",
   "execution_count": 21,
   "id": "0d13abd8",
   "metadata": {},
   "outputs": [
    {
     "name": "stderr",
     "output_type": "stream",
     "text": [
      "100%|████████████████████████████████████████████████████████████████████████| 404290/404290 [00:50<00:00, 7994.02it/s]\n"
     ]
    },
    {
     "data": {
      "text/html": [
       "<div>\n",
       "<style scoped>\n",
       "    .dataframe tbody tr th:only-of-type {\n",
       "        vertical-align: middle;\n",
       "    }\n",
       "\n",
       "    .dataframe tbody tr th {\n",
       "        vertical-align: top;\n",
       "    }\n",
       "\n",
       "    .dataframe thead th {\n",
       "        text-align: right;\n",
       "    }\n",
       "</style>\n",
       "<table border=\"1\" class=\"dataframe\">\n",
       "  <thead>\n",
       "    <tr style=\"text-align: right;\">\n",
       "      <th></th>\n",
       "      <th>0</th>\n",
       "      <th>1</th>\n",
       "    </tr>\n",
       "  </thead>\n",
       "  <tbody>\n",
       "    <tr>\n",
       "      <th>0</th>\n",
       "      <td>what is the step by step guide to invest in sh...</td>\n",
       "      <td>15</td>\n",
       "    </tr>\n",
       "    <tr>\n",
       "      <th>1</th>\n",
       "      <td>what is the story of kohinoor ( koh i noor ) d...</td>\n",
       "      <td>13</td>\n",
       "    </tr>\n",
       "    <tr>\n",
       "      <th>2</th>\n",
       "      <td>how can i increase the speed of my internet co...</td>\n",
       "      <td>15</td>\n",
       "    </tr>\n",
       "    <tr>\n",
       "      <th>3</th>\n",
       "      <td>why am i mentally very lonely ? how can i solv...</td>\n",
       "      <td>13</td>\n",
       "    </tr>\n",
       "    <tr>\n",
       "      <th>4</th>\n",
       "      <td>which one dissolve in water quikly sugar , sal...</td>\n",
       "      <td>16</td>\n",
       "    </tr>\n",
       "  </tbody>\n",
       "</table>\n",
       "</div>"
      ],
      "text/plain": [
       "                                                   0   1\n",
       "0  what is the step by step guide to invest in sh...  15\n",
       "1  what is the story of kohinoor ( koh i noor ) d...  13\n",
       "2  how can i increase the speed of my internet co...  15\n",
       "3  why am i mentally very lonely ? how can i solv...  13\n",
       "4  which one dissolve in water quikly sugar , sal...  16"
      ]
     },
     "execution_count": 21,
     "metadata": {},
     "output_type": "execute_result"
    }
   ],
   "source": [
    "temp_df2 = df_cleaned['question1'].progress_apply(lambda x: preprocess(x))\n",
    "\n",
    "temp_df2.head()"
   ]
  },
  {
   "cell_type": "code",
   "execution_count": 22,
   "id": "9bf43473",
   "metadata": {},
   "outputs": [
    {
     "name": "stderr",
     "output_type": "stream",
     "text": [
      "100%|████████████████████████████████████████████████████████████████████████| 404290/404290 [00:58<00:00, 6953.09it/s]\n"
     ]
    },
    {
     "data": {
      "text/html": [
       "<div>\n",
       "<style scoped>\n",
       "    .dataframe tbody tr th:only-of-type {\n",
       "        vertical-align: middle;\n",
       "    }\n",
       "\n",
       "    .dataframe tbody tr th {\n",
       "        vertical-align: top;\n",
       "    }\n",
       "\n",
       "    .dataframe thead th {\n",
       "        text-align: right;\n",
       "    }\n",
       "</style>\n",
       "<table border=\"1\" class=\"dataframe\">\n",
       "  <thead>\n",
       "    <tr style=\"text-align: right;\">\n",
       "      <th></th>\n",
       "      <th>0</th>\n",
       "      <th>1</th>\n",
       "    </tr>\n",
       "  </thead>\n",
       "  <tbody>\n",
       "    <tr>\n",
       "      <th>0</th>\n",
       "      <td>what is the step by step guide to invest in sh...</td>\n",
       "      <td>13</td>\n",
       "    </tr>\n",
       "    <tr>\n",
       "      <th>1</th>\n",
       "      <td>what would happen if the indian government sto...</td>\n",
       "      <td>18</td>\n",
       "    </tr>\n",
       "    <tr>\n",
       "      <th>2</th>\n",
       "      <td>how can internet speed be increased by hacking...</td>\n",
       "      <td>11</td>\n",
       "    </tr>\n",
       "    <tr>\n",
       "      <th>3</th>\n",
       "      <td>find the remainder when [ math ] ^ [ math ] is...</td>\n",
       "      <td>16</td>\n",
       "    </tr>\n",
       "    <tr>\n",
       "      <th>4</th>\n",
       "      <td>which fish would survive in salt water ?</td>\n",
       "      <td>8</td>\n",
       "    </tr>\n",
       "  </tbody>\n",
       "</table>\n",
       "</div>"
      ],
      "text/plain": [
       "                                                   0   1\n",
       "0  what is the step by step guide to invest in sh...  13\n",
       "1  what would happen if the indian government sto...  18\n",
       "2  how can internet speed be increased by hacking...  11\n",
       "3  find the remainder when [ math ] ^ [ math ] is...  16\n",
       "4           which fish would survive in salt water ?   8"
      ]
     },
     "execution_count": 22,
     "metadata": {},
     "output_type": "execute_result"
    }
   ],
   "source": [
    "temp_df3 = df_cleaned['question2'].progress_apply(lambda x: preprocess(x))\n",
    "\n",
    "temp_df3.head()"
   ]
  },
  {
   "cell_type": "code",
   "execution_count": 23,
   "id": "4e1c81cf",
   "metadata": {},
   "outputs": [],
   "source": [
    "Punct_Tokenize = pd.concat([temp_df2,temp_df3], axis = 1)\n",
    "Punct_Tokenize.columns = ['Text_puncttokenize_Q1','Text_len_Q2','Text_puncttokenize_Q2','Text_len_Q2']"
   ]
  },
  {
   "cell_type": "code",
   "execution_count": 24,
   "id": "4caf875d",
   "metadata": {},
   "outputs": [
    {
     "data": {
      "text/html": [
       "<div>\n",
       "<style scoped>\n",
       "    .dataframe tbody tr th:only-of-type {\n",
       "        vertical-align: middle;\n",
       "    }\n",
       "\n",
       "    .dataframe tbody tr th {\n",
       "        vertical-align: top;\n",
       "    }\n",
       "\n",
       "    .dataframe thead th {\n",
       "        text-align: right;\n",
       "    }\n",
       "</style>\n",
       "<table border=\"1\" class=\"dataframe\">\n",
       "  <thead>\n",
       "    <tr style=\"text-align: right;\">\n",
       "      <th></th>\n",
       "      <th>Text_puncttokenize_Q1</th>\n",
       "      <th>Text_len_Q2</th>\n",
       "      <th>Text_puncttokenize_Q2</th>\n",
       "      <th>Text_len_Q2</th>\n",
       "    </tr>\n",
       "  </thead>\n",
       "  <tbody>\n",
       "    <tr>\n",
       "      <th>0</th>\n",
       "      <td>what is the step by step guide to invest in sh...</td>\n",
       "      <td>15</td>\n",
       "      <td>what is the step by step guide to invest in sh...</td>\n",
       "      <td>13</td>\n",
       "    </tr>\n",
       "    <tr>\n",
       "      <th>1</th>\n",
       "      <td>what is the story of kohinoor ( koh i noor ) d...</td>\n",
       "      <td>13</td>\n",
       "      <td>what would happen if the indian government sto...</td>\n",
       "      <td>18</td>\n",
       "    </tr>\n",
       "    <tr>\n",
       "      <th>2</th>\n",
       "      <td>how can i increase the speed of my internet co...</td>\n",
       "      <td>15</td>\n",
       "      <td>how can internet speed be increased by hacking...</td>\n",
       "      <td>11</td>\n",
       "    </tr>\n",
       "    <tr>\n",
       "      <th>3</th>\n",
       "      <td>why am i mentally very lonely ? how can i solv...</td>\n",
       "      <td>13</td>\n",
       "      <td>find the remainder when [ math ] ^ [ math ] is...</td>\n",
       "      <td>16</td>\n",
       "    </tr>\n",
       "    <tr>\n",
       "      <th>4</th>\n",
       "      <td>which one dissolve in water quikly sugar , sal...</td>\n",
       "      <td>16</td>\n",
       "      <td>which fish would survive in salt water ?</td>\n",
       "      <td>8</td>\n",
       "    </tr>\n",
       "  </tbody>\n",
       "</table>\n",
       "</div>"
      ],
      "text/plain": [
       "                               Text_puncttokenize_Q1  Text_len_Q2  \\\n",
       "0  what is the step by step guide to invest in sh...           15   \n",
       "1  what is the story of kohinoor ( koh i noor ) d...           13   \n",
       "2  how can i increase the speed of my internet co...           15   \n",
       "3  why am i mentally very lonely ? how can i solv...           13   \n",
       "4  which one dissolve in water quikly sugar , sal...           16   \n",
       "\n",
       "                               Text_puncttokenize_Q2  Text_len_Q2  \n",
       "0  what is the step by step guide to invest in sh...           13  \n",
       "1  what would happen if the indian government sto...           18  \n",
       "2  how can internet speed be increased by hacking...           11  \n",
       "3  find the remainder when [ math ] ^ [ math ] is...           16  \n",
       "4           which fish would survive in salt water ?            8  "
      ]
     },
     "execution_count": 24,
     "metadata": {},
     "output_type": "execute_result"
    }
   ],
   "source": [
    "Punct_Tokenize.head()"
   ]
  },
  {
   "cell_type": "markdown",
   "id": "98ca8e34",
   "metadata": {},
   "source": [
    "## Observations:\n",
    "* We could notice the difference between a word in word_tokenize and split it in the wordpunct_tokenize. We can observe that it consideres the punctuations also for the tokens."
   ]
  },
  {
   "cell_type": "markdown",
   "id": "24784c53",
   "metadata": {},
   "source": [
    "## Applying TextBlob Word Tokenize"
   ]
  },
  {
   "cell_type": "code",
   "execution_count": 37,
   "id": "3601286c",
   "metadata": {},
   "outputs": [],
   "source": [
    "#!pip install -U textblob\n",
    "#!python3 -m textblob.download_corpora"
   ]
  },
  {
   "cell_type": "code",
   "execution_count": 38,
   "id": "ef3cf2a3",
   "metadata": {},
   "outputs": [],
   "source": [
    "from textblob import TextBlob"
   ]
  },
  {
   "cell_type": "markdown",
   "id": "1ffebf46",
   "metadata": {},
   "source": [
    "> TextBlob is a Python library for processing textual data. It provides a consistent API for diving into common natural language processing (NLP) tasks such as part-of-speech tagging, noun phrase extraction, sentiment analysis, classification, translation, and more."
   ]
  },
  {
   "cell_type": "code",
   "execution_count": 39,
   "id": "b0016c63",
   "metadata": {},
   "outputs": [],
   "source": [
    "def preproce(raw_text):\n",
    "    # Removing special characters and digits\n",
    "    sentence = re.sub(\"[^?.,!():;-_a-zA-Z]\", \" \", raw_text)\n",
    "    \n",
    "    # change sentence to lower case\n",
    "    text = sentence.lower()\n",
    "    # tokenize into words\n",
    "    blob_object = TextBlob(text)\n",
    "    text_words = blob_object.words\n",
    "    \n",
    "    return pd.Series([\" \".join(text_words), len(text_words)])\n"
   ]
  },
  {
   "cell_type": "code",
   "execution_count": 40,
   "id": "a3f968e2",
   "metadata": {},
   "outputs": [
    {
     "name": "stderr",
     "output_type": "stream",
     "text": [
      "100%|████████████████████████████████████████████████████████████████████████| 404290/404290 [02:24<00:00, 2792.82it/s]\n"
     ]
    },
    {
     "data": {
      "text/html": [
       "<div>\n",
       "<style scoped>\n",
       "    .dataframe tbody tr th:only-of-type {\n",
       "        vertical-align: middle;\n",
       "    }\n",
       "\n",
       "    .dataframe tbody tr th {\n",
       "        vertical-align: top;\n",
       "    }\n",
       "\n",
       "    .dataframe thead th {\n",
       "        text-align: right;\n",
       "    }\n",
       "</style>\n",
       "<table border=\"1\" class=\"dataframe\">\n",
       "  <thead>\n",
       "    <tr style=\"text-align: right;\">\n",
       "      <th></th>\n",
       "      <th>0</th>\n",
       "      <th>1</th>\n",
       "    </tr>\n",
       "  </thead>\n",
       "  <tbody>\n",
       "    <tr>\n",
       "      <th>0</th>\n",
       "      <td>what is the step by step guide to invest in sh...</td>\n",
       "      <td>14</td>\n",
       "    </tr>\n",
       "    <tr>\n",
       "      <th>1</th>\n",
       "      <td>what is the story of kohinoor koh i noor diamond</td>\n",
       "      <td>10</td>\n",
       "    </tr>\n",
       "    <tr>\n",
       "      <th>2</th>\n",
       "      <td>how can i increase the speed of my internet co...</td>\n",
       "      <td>14</td>\n",
       "    </tr>\n",
       "    <tr>\n",
       "      <th>3</th>\n",
       "      <td>why am i mentally very lonely how can i solve it</td>\n",
       "      <td>11</td>\n",
       "    </tr>\n",
       "    <tr>\n",
       "      <th>4</th>\n",
       "      <td>which one dissolve in water quikly sugar salt ...</td>\n",
       "      <td>13</td>\n",
       "    </tr>\n",
       "  </tbody>\n",
       "</table>\n",
       "</div>"
      ],
      "text/plain": [
       "                                                   0   1\n",
       "0  what is the step by step guide to invest in sh...  14\n",
       "1   what is the story of kohinoor koh i noor diamond  10\n",
       "2  how can i increase the speed of my internet co...  14\n",
       "3   why am i mentally very lonely how can i solve it  11\n",
       "4  which one dissolve in water quikly sugar salt ...  13"
      ]
     },
     "execution_count": 40,
     "metadata": {},
     "output_type": "execute_result"
    }
   ],
   "source": [
    "temp_df4 = df_cleaned['question1'].progress_apply(lambda x: preproce(x))\n",
    "\n",
    "temp_df4.head()"
   ]
  },
  {
   "cell_type": "code",
   "execution_count": 41,
   "id": "8c9ab652",
   "metadata": {},
   "outputs": [
    {
     "name": "stderr",
     "output_type": "stream",
     "text": [
      "100%|████████████████████████████████████████████████████████████████████████| 404290/404290 [02:31<00:00, 2664.02it/s]\n"
     ]
    },
    {
     "data": {
      "text/html": [
       "<div>\n",
       "<style scoped>\n",
       "    .dataframe tbody tr th:only-of-type {\n",
       "        vertical-align: middle;\n",
       "    }\n",
       "\n",
       "    .dataframe tbody tr th {\n",
       "        vertical-align: top;\n",
       "    }\n",
       "\n",
       "    .dataframe thead th {\n",
       "        text-align: right;\n",
       "    }\n",
       "</style>\n",
       "<table border=\"1\" class=\"dataframe\">\n",
       "  <thead>\n",
       "    <tr style=\"text-align: right;\">\n",
       "      <th></th>\n",
       "      <th>0</th>\n",
       "      <th>1</th>\n",
       "    </tr>\n",
       "  </thead>\n",
       "  <tbody>\n",
       "    <tr>\n",
       "      <th>0</th>\n",
       "      <td>what is the step by step guide to invest in sh...</td>\n",
       "      <td>12</td>\n",
       "    </tr>\n",
       "    <tr>\n",
       "      <th>1</th>\n",
       "      <td>what would happen if the indian government sto...</td>\n",
       "      <td>15</td>\n",
       "    </tr>\n",
       "    <tr>\n",
       "      <th>2</th>\n",
       "      <td>how can internet speed be increased by hacking...</td>\n",
       "      <td>10</td>\n",
       "    </tr>\n",
       "    <tr>\n",
       "      <th>3</th>\n",
       "      <td>find the remainder when math math is divided by</td>\n",
       "      <td>9</td>\n",
       "    </tr>\n",
       "    <tr>\n",
       "      <th>4</th>\n",
       "      <td>which fish would survive in salt water</td>\n",
       "      <td>7</td>\n",
       "    </tr>\n",
       "  </tbody>\n",
       "</table>\n",
       "</div>"
      ],
      "text/plain": [
       "                                                   0   1\n",
       "0  what is the step by step guide to invest in sh...  12\n",
       "1  what would happen if the indian government sto...  15\n",
       "2  how can internet speed be increased by hacking...  10\n",
       "3    find the remainder when math math is divided by   9\n",
       "4             which fish would survive in salt water   7"
      ]
     },
     "execution_count": 41,
     "metadata": {},
     "output_type": "execute_result"
    }
   ],
   "source": [
    "temp_df5 = df_cleaned['question2'].progress_apply(lambda x: preproce(x))\n",
    "\n",
    "temp_df5.head()"
   ]
  },
  {
   "cell_type": "code",
   "execution_count": 42,
   "id": "1de2961b",
   "metadata": {},
   "outputs": [],
   "source": [
    "Textblob_tokenize = pd.concat([temp_df4,temp_df5], axis = 1)"
   ]
  },
  {
   "cell_type": "code",
   "execution_count": 43,
   "id": "30cdd23b",
   "metadata": {},
   "outputs": [],
   "source": [
    "Textblob_tokenize.columns = ['Text_TextBlobtokenize_Q1','Text_len_Q2','Text_TextBlobtokenize_Q2','Text_len_Q2']"
   ]
  },
  {
   "cell_type": "code",
   "execution_count": 44,
   "id": "679f621e",
   "metadata": {},
   "outputs": [
    {
     "data": {
      "text/html": [
       "<div>\n",
       "<style scoped>\n",
       "    .dataframe tbody tr th:only-of-type {\n",
       "        vertical-align: middle;\n",
       "    }\n",
       "\n",
       "    .dataframe tbody tr th {\n",
       "        vertical-align: top;\n",
       "    }\n",
       "\n",
       "    .dataframe thead th {\n",
       "        text-align: right;\n",
       "    }\n",
       "</style>\n",
       "<table border=\"1\" class=\"dataframe\">\n",
       "  <thead>\n",
       "    <tr style=\"text-align: right;\">\n",
       "      <th></th>\n",
       "      <th>Text_TextBlobtokenize_Q1</th>\n",
       "      <th>Text_len_Q2</th>\n",
       "      <th>Text_TextBlobtokenize_Q2</th>\n",
       "      <th>Text_len_Q2</th>\n",
       "    </tr>\n",
       "  </thead>\n",
       "  <tbody>\n",
       "    <tr>\n",
       "      <th>0</th>\n",
       "      <td>what is the step by step guide to invest in sh...</td>\n",
       "      <td>14</td>\n",
       "      <td>what is the step by step guide to invest in sh...</td>\n",
       "      <td>12</td>\n",
       "    </tr>\n",
       "    <tr>\n",
       "      <th>1</th>\n",
       "      <td>what is the story of kohinoor koh i noor diamond</td>\n",
       "      <td>10</td>\n",
       "      <td>what would happen if the indian government sto...</td>\n",
       "      <td>15</td>\n",
       "    </tr>\n",
       "    <tr>\n",
       "      <th>2</th>\n",
       "      <td>how can i increase the speed of my internet co...</td>\n",
       "      <td>14</td>\n",
       "      <td>how can internet speed be increased by hacking...</td>\n",
       "      <td>10</td>\n",
       "    </tr>\n",
       "    <tr>\n",
       "      <th>3</th>\n",
       "      <td>why am i mentally very lonely how can i solve it</td>\n",
       "      <td>11</td>\n",
       "      <td>find the remainder when math math is divided by</td>\n",
       "      <td>9</td>\n",
       "    </tr>\n",
       "    <tr>\n",
       "      <th>4</th>\n",
       "      <td>which one dissolve in water quikly sugar salt ...</td>\n",
       "      <td>13</td>\n",
       "      <td>which fish would survive in salt water</td>\n",
       "      <td>7</td>\n",
       "    </tr>\n",
       "  </tbody>\n",
       "</table>\n",
       "</div>"
      ],
      "text/plain": [
       "                            Text_TextBlobtokenize_Q1  Text_len_Q2  \\\n",
       "0  what is the step by step guide to invest in sh...           14   \n",
       "1   what is the story of kohinoor koh i noor diamond           10   \n",
       "2  how can i increase the speed of my internet co...           14   \n",
       "3   why am i mentally very lonely how can i solve it           11   \n",
       "4  which one dissolve in water quikly sugar salt ...           13   \n",
       "\n",
       "                            Text_TextBlobtokenize_Q2  Text_len_Q2  \n",
       "0  what is the step by step guide to invest in sh...           12  \n",
       "1  what would happen if the indian government sto...           15  \n",
       "2  how can internet speed be increased by hacking...           10  \n",
       "3    find the remainder when math math is divided by            9  \n",
       "4             which fish would survive in salt water            7  "
      ]
     },
     "execution_count": 44,
     "metadata": {},
     "output_type": "execute_result"
    }
   ],
   "source": [
    "Textblob_tokenize.head()"
   ]
  },
  {
   "cell_type": "markdown",
   "id": "40058ff5",
   "metadata": {},
   "source": [
    "### Obsrvation:\n",
    "* We could notice that the TextBlob tokenizer removes the punctuations, special characters, etc. In addition, it has rules for English contractions.\n",
    "* English contractions are shortened forms of words or phrases where letters or sounds are omitted and replaced with an apostrophe ('), resulting in a more informal and conversational style of writing or speaking. Eg: can't - can not."
   ]
  },
  {
   "cell_type": "markdown",
   "id": "20e58ec6",
   "metadata": {},
   "source": [
    "## Conclusion : \n",
    "> The use of tokenization in solving a specific nlp project totally depends upon the problem statement we are dealing with and the type of text to numerical word embedding that we are going to use. So choose carefully."
   ]
  },
  {
   "cell_type": "code",
   "execution_count": null,
   "id": "6ed3a974",
   "metadata": {},
   "outputs": [],
   "source": []
  }
 ],
 "metadata": {
  "kernelspec": {
   "display_name": "Python 3 (ipykernel)",
   "language": "python",
   "name": "python3"
  },
  "language_info": {
   "codemirror_mode": {
    "name": "ipython",
    "version": 3
   },
   "file_extension": ".py",
   "mimetype": "text/x-python",
   "name": "python",
   "nbconvert_exporter": "python",
   "pygments_lexer": "ipython3",
   "version": "3.9.16"
  }
 },
 "nbformat": 4,
 "nbformat_minor": 5
}
