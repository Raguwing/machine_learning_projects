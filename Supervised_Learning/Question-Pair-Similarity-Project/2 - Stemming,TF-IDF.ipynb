{
 "cells": [
  {
   "cell_type": "markdown",
   "id": "bc0456f1",
   "metadata": {},
   "source": [
    "# Application of TF-IDF - on top of Stemming Text Preprocessing "
   ]
  },
  {
   "cell_type": "markdown",
   "id": "6b42db38",
   "metadata": {},
   "source": [
    "## Import Required Libraries"
   ]
  },
  {
   "cell_type": "code",
   "execution_count": 2,
   "id": "3e9d3bc2",
   "metadata": {},
   "outputs": [
    {
     "name": "stderr",
     "output_type": "stream",
     "text": [
      "[nltk_data] Downloading package stopwords to C:\\Users\\GUDLA\n",
      "[nltk_data]     RAGUWING\\AppData\\Roaming\\nltk_data...\n",
      "[nltk_data]   Package stopwords is already up-to-date!\n"
     ]
    },
    {
     "data": {
      "text/plain": [
       "True"
      ]
     },
     "execution_count": 2,
     "metadata": {},
     "output_type": "execute_result"
    },
    {
     "name": "stderr",
     "output_type": "stream",
     "text": [
      "[nltk_data] Downloading package wordnet to C:\\Users\\GUDLA\n",
      "[nltk_data]     RAGUWING\\AppData\\Roaming\\nltk_data...\n",
      "[nltk_data]   Package wordnet is already up-to-date!\n"
     ]
    },
    {
     "data": {
      "text/plain": [
       "True"
      ]
     },
     "execution_count": 2,
     "metadata": {},
     "output_type": "execute_result"
    },
    {
     "name": "stderr",
     "output_type": "stream",
     "text": [
      "[nltk_data] Downloading package omw-1.4 to C:\\Users\\GUDLA\n",
      "[nltk_data]     RAGUWING\\AppData\\Roaming\\nltk_data...\n",
      "[nltk_data]   Package omw-1.4 is already up-to-date!\n"
     ]
    },
    {
     "data": {
      "text/plain": [
       "True"
      ]
     },
     "execution_count": 2,
     "metadata": {},
     "output_type": "execute_result"
    }
   ],
   "source": [
    "import pandas as pd\n",
    "import numpy as np\n",
    "\n",
    "import re\n",
    "import seaborn as sns\n",
    "import matplotlib.pyplot as plt\n",
    "\n",
    "import nltk\n",
    "from nltk.tokenize import word_tokenize\n",
    "from nltk.corpus import stopwords\n",
    "from nltk.stem.porter import PorterStemmer\n",
    "from nltk.stem import WordNetLemmatizer\n",
    "\n",
    "import nltk\n",
    "nltk.download('stopwords')\n",
    "# Downloading wordnet before applying Lemmatizer\n",
    "nltk.download('wordnet')\n",
    "nltk.download('omw-1.4')\n",
    "\n",
    "# For serialization and de-serialization\n",
    "import numpy as np\n",
    "from pickle import load\n",
    "from pickle import dump\n",
    "# VIZ Style \n",
    "sns.set_style('whitegrid')\n",
    "plt.style.use('bmh')\n",
    "\n",
    "import warnings\n",
    "warnings.filterwarnings('ignore')\n",
    "\n",
    "from IPython.core.interactiveshell import InteractiveShell\n",
    "InteractiveShell.ast_node_interactivity = 'all'\n",
    "\n",
    "# for HD visualizations\n",
    "%config InlineBackend.figure_format='retina'"
   ]
  },
  {
   "cell_type": "markdown",
   "id": "8216f699",
   "metadata": {},
   "source": [
    "## Note:\n",
    "* Here in this code file, first we are going to load the cleaned csv file that we obtained from after performing EDA on the original csv file. We will be applying `Stemming` and on top of Stemming we will apply `TF-IDF - Term frequency and inverse document frequency`."
   ]
  },
  {
   "cell_type": "code",
   "execution_count": 101,
   "id": "b7c0945d",
   "metadata": {},
   "outputs": [],
   "source": [
    "df_cleaned = pd.read_csv(r\"C:\\Users\\GUDLA RAGUWING\\Data Science Course\\Internship_Project\\cleaned_df.csv\") # Load the data"
   ]
  },
  {
   "cell_type": "code",
   "execution_count": 102,
   "id": "f471e19a",
   "metadata": {},
   "outputs": [],
   "source": [
    "y = df_cleaned['is_duplicate']\n",
    "X = df_cleaned[['question1','question2']] # Rearrange the columns"
   ]
  },
  {
   "cell_type": "code",
   "execution_count": 103,
   "id": "e7ce200a",
   "metadata": {},
   "outputs": [],
   "source": [
    "from sklearn.model_selection import train_test_split\n",
    "# Splitting the data into train and test\n",
    "X_train, X_test, y_train, y_test = train_test_split(X, y, test_size=0.3, random_state=42)"
   ]
  },
  {
   "cell_type": "code",
   "execution_count": 7,
   "id": "41b67f7e",
   "metadata": {},
   "outputs": [
    {
     "data": {
      "text/plain": [
       "(283003, 2)"
      ]
     },
     "execution_count": 7,
     "metadata": {},
     "output_type": "execute_result"
    },
    {
     "data": {
      "text/plain": [
       "(121287, 2)"
      ]
     },
     "execution_count": 7,
     "metadata": {},
     "output_type": "execute_result"
    },
    {
     "data": {
      "text/plain": [
       "(283003,)"
      ]
     },
     "execution_count": 7,
     "metadata": {},
     "output_type": "execute_result"
    },
    {
     "data": {
      "text/plain": [
       "(121287,)"
      ]
     },
     "execution_count": 7,
     "metadata": {},
     "output_type": "execute_result"
    }
   ],
   "source": [
    "X_train.shape\n",
    "X_test.shape\n",
    "y_train.shape\n",
    "y_test.shape"
   ]
  },
  {
   "cell_type": "markdown",
   "id": "b1b035cb",
   "metadata": {},
   "source": [
    "## Applying Stemming Text Preprocessing technique on Train Data"
   ]
  },
  {
   "cell_type": "code",
   "execution_count": 9,
   "id": "e997eef5",
   "metadata": {},
   "outputs": [],
   "source": [
    "## initialise the inbuilt Stemmer\n",
    "stemmer = PorterStemmer()"
   ]
  },
  {
   "cell_type": "code",
   "execution_count": 10,
   "id": "3d1fbef1",
   "metadata": {},
   "outputs": [],
   "source": [
    "def preprocess(raw_text, flag):\n",
    "    # Removing special characters and digits\n",
    "    sentence = re.sub(\"[^a-zA-Z]\", \" \", raw_text)\n",
    "    \n",
    "    # change sentence to lower case\n",
    "    sentence = sentence.lower()\n",
    "\n",
    "    # tokenize into words\n",
    "    tokens = sentence.split()\n",
    "    \n",
    "    # remove stop words                \n",
    "    clean_tokens = [t for t in tokens if not t in stopwords.words(\"english\")]\n",
    "    \n",
    "    # Stemming/Lemmatization\n",
    "    if(flag == 'stem'):\n",
    "        clean_tokens = [stemmer.stem(word) for word in clean_tokens]\n",
    "    else:\n",
    "        clean_tokens = [lemmatizer.lemmatize(word) for word in clean_tokens]\n",
    "    \n",
    "    return pd.Series([\" \".join(clean_tokens), len(clean_tokens)])"
   ]
  },
  {
   "cell_type": "code",
   "execution_count": 11,
   "id": "a0025217",
   "metadata": {},
   "outputs": [
    {
     "data": {
      "text/plain": [
       "'tqdm.pandas() is a method provided by tqdm library  that allows you to create/apply progress bars to pandas operations.\\nWorks for pandas series as well as DataFrame, \\nyou can visualize the progress of your operations and get an estimate amount of time to complete the pandas task'"
      ]
     },
     "execution_count": 11,
     "metadata": {},
     "output_type": "execute_result"
    }
   ],
   "source": [
    "from tqdm import tqdm, tqdm_notebook\n",
    "tqdm.pandas()\n",
    "'''tqdm.pandas() is a method provided by tqdm library  that allows you to create/apply progress bars to pandas operations.\n",
    "Works for pandas series as well as DataFrame, \n",
    "you can visualize the progress of your operations and get an estimate amount of time to complete the pandas task'''"
   ]
  },
  {
   "cell_type": "code",
   "execution_count": 12,
   "id": "a560c1d8",
   "metadata": {
    "scrolled": true
   },
   "outputs": [
    {
     "name": "stderr",
     "output_type": "stream",
     "text": [
      "100%|█████████████████████████████████████████████████████████████████████████| 283003/283003 [16:32<00:00, 285.05it/s]\n"
     ]
    },
    {
     "data": {
      "text/html": [
       "<div>\n",
       "<style scoped>\n",
       "    .dataframe tbody tr th:only-of-type {\n",
       "        vertical-align: middle;\n",
       "    }\n",
       "\n",
       "    .dataframe tbody tr th {\n",
       "        vertical-align: top;\n",
       "    }\n",
       "\n",
       "    .dataframe thead th {\n",
       "        text-align: right;\n",
       "    }\n",
       "</style>\n",
       "<table border=\"1\" class=\"dataframe\">\n",
       "  <thead>\n",
       "    <tr style=\"text-align: right;\">\n",
       "      <th></th>\n",
       "      <th>0</th>\n",
       "      <th>1</th>\n",
       "    </tr>\n",
       "  </thead>\n",
       "  <tbody>\n",
       "    <tr>\n",
       "      <th>20128</th>\n",
       "      <td>work environ sbi life mumbai</td>\n",
       "      <td>5</td>\n",
       "    </tr>\n",
       "    <tr>\n",
       "      <th>296237</th>\n",
       "      <td>us citizen work canada</td>\n",
       "      <td>4</td>\n",
       "    </tr>\n",
       "    <tr>\n",
       "      <th>107095</th>\n",
       "      <td>benefit wash hand soap</td>\n",
       "      <td>4</td>\n",
       "    </tr>\n",
       "    <tr>\n",
       "      <th>27940</th>\n",
       "      <td>holi scriptur hinduism compar contrast taoism</td>\n",
       "      <td>6</td>\n",
       "    </tr>\n",
       "    <tr>\n",
       "      <th>251434</th>\n",
       "      <td>humanoid shape inevit speci similar intellig a...</td>\n",
       "      <td>10</td>\n",
       "    </tr>\n",
       "  </tbody>\n",
       "</table>\n",
       "</div>"
      ],
      "text/plain": [
       "                                                        0   1\n",
       "20128                        work environ sbi life mumbai   5\n",
       "296237                             us citizen work canada   4\n",
       "107095                             benefit wash hand soap   4\n",
       "27940       holi scriptur hinduism compar contrast taoism   6\n",
       "251434  humanoid shape inevit speci similar intellig a...  10"
      ]
     },
     "execution_count": 12,
     "metadata": {},
     "output_type": "execute_result"
    }
   ],
   "source": [
    "temp_df = X_train['question1'].progress_apply(lambda x: preprocess(x, 'stem'))\n",
    "\n",
    "temp_df.head()"
   ]
  },
  {
   "cell_type": "code",
   "execution_count": 14,
   "id": "73975752",
   "metadata": {},
   "outputs": [
    {
     "name": "stderr",
     "output_type": "stream",
     "text": [
      "100%|█████████████████████████████████████████████████████████████████████████| 283003/283003 [14:00<00:00, 336.82it/s]\n"
     ]
    },
    {
     "data": {
      "text/html": [
       "<div>\n",
       "<style scoped>\n",
       "    .dataframe tbody tr th:only-of-type {\n",
       "        vertical-align: middle;\n",
       "    }\n",
       "\n",
       "    .dataframe tbody tr th {\n",
       "        vertical-align: top;\n",
       "    }\n",
       "\n",
       "    .dataframe thead th {\n",
       "        text-align: right;\n",
       "    }\n",
       "</style>\n",
       "<table border=\"1\" class=\"dataframe\">\n",
       "  <thead>\n",
       "    <tr style=\"text-align: right;\">\n",
       "      <th></th>\n",
       "      <th>0</th>\n",
       "      <th>1</th>\n",
       "    </tr>\n",
       "  </thead>\n",
       "  <tbody>\n",
       "    <tr>\n",
       "      <th>20128</th>\n",
       "      <td>stress work sbi clerk</td>\n",
       "      <td>4</td>\n",
       "    </tr>\n",
       "    <tr>\n",
       "      <th>296237</th>\n",
       "      <td>us graduat degre help non us citizen get job c...</td>\n",
       "      <td>14</td>\n",
       "    </tr>\n",
       "    <tr>\n",
       "      <th>107095</th>\n",
       "      <td>import wash hand soap</td>\n",
       "      <td>4</td>\n",
       "    </tr>\n",
       "    <tr>\n",
       "      <th>27940</th>\n",
       "      <td>holi scriptur hinduism compar contrast italo r...</td>\n",
       "      <td>8</td>\n",
       "    </tr>\n",
       "    <tr>\n",
       "      <th>251434</th>\n",
       "      <td>rna evolv inevit eventu intellig life form pla...</td>\n",
       "      <td>14</td>\n",
       "    </tr>\n",
       "  </tbody>\n",
       "</table>\n",
       "</div>"
      ],
      "text/plain": [
       "                                                        0   1\n",
       "20128                               stress work sbi clerk   4\n",
       "296237  us graduat degre help non us citizen get job c...  14\n",
       "107095                              import wash hand soap   4\n",
       "27940   holi scriptur hinduism compar contrast italo r...   8\n",
       "251434  rna evolv inevit eventu intellig life form pla...  14"
      ]
     },
     "execution_count": 14,
     "metadata": {},
     "output_type": "execute_result"
    }
   ],
   "source": [
    "temp_df1 = X_train['question2'].progress_apply(lambda x: preprocess(x, 'stem'))\n",
    "\n",
    "temp_df1.head()"
   ]
  },
  {
   "cell_type": "code",
   "execution_count": 15,
   "id": "c3399d7f",
   "metadata": {},
   "outputs": [],
   "source": [
    "train_stem = pd.concat([temp_df,temp_df1], axis = 1)"
   ]
  },
  {
   "cell_type": "code",
   "execution_count": 16,
   "id": "e930c8e6",
   "metadata": {},
   "outputs": [],
   "source": [
    "train_stem.columns = ['Text_stem_Q1','Text_len_Q2','Text_stem_Q2','Text_len_Q2']"
   ]
  },
  {
   "cell_type": "code",
   "execution_count": 17,
   "id": "ee640855",
   "metadata": {},
   "outputs": [
    {
     "data": {
      "text/html": [
       "<div>\n",
       "<style scoped>\n",
       "    .dataframe tbody tr th:only-of-type {\n",
       "        vertical-align: middle;\n",
       "    }\n",
       "\n",
       "    .dataframe tbody tr th {\n",
       "        vertical-align: top;\n",
       "    }\n",
       "\n",
       "    .dataframe thead th {\n",
       "        text-align: right;\n",
       "    }\n",
       "</style>\n",
       "<table border=\"1\" class=\"dataframe\">\n",
       "  <thead>\n",
       "    <tr style=\"text-align: right;\">\n",
       "      <th></th>\n",
       "      <th>Text_stem_Q1</th>\n",
       "      <th>Text_len_Q2</th>\n",
       "      <th>Text_stem_Q2</th>\n",
       "      <th>Text_len_Q2</th>\n",
       "    </tr>\n",
       "  </thead>\n",
       "  <tbody>\n",
       "    <tr>\n",
       "      <th>20128</th>\n",
       "      <td>work environ sbi life mumbai</td>\n",
       "      <td>5</td>\n",
       "      <td>stress work sbi clerk</td>\n",
       "      <td>4</td>\n",
       "    </tr>\n",
       "    <tr>\n",
       "      <th>296237</th>\n",
       "      <td>us citizen work canada</td>\n",
       "      <td>4</td>\n",
       "      <td>us graduat degre help non us citizen get job c...</td>\n",
       "      <td>14</td>\n",
       "    </tr>\n",
       "    <tr>\n",
       "      <th>107095</th>\n",
       "      <td>benefit wash hand soap</td>\n",
       "      <td>4</td>\n",
       "      <td>import wash hand soap</td>\n",
       "      <td>4</td>\n",
       "    </tr>\n",
       "    <tr>\n",
       "      <th>27940</th>\n",
       "      <td>holi scriptur hinduism compar contrast taoism</td>\n",
       "      <td>6</td>\n",
       "      <td>holi scriptur hinduism compar contrast italo r...</td>\n",
       "      <td>8</td>\n",
       "    </tr>\n",
       "    <tr>\n",
       "      <th>251434</th>\n",
       "      <td>humanoid shape inevit speci similar intellig a...</td>\n",
       "      <td>10</td>\n",
       "      <td>rna evolv inevit eventu intellig life form pla...</td>\n",
       "      <td>14</td>\n",
       "    </tr>\n",
       "  </tbody>\n",
       "</table>\n",
       "</div>"
      ],
      "text/plain": [
       "                                             Text_stem_Q1  Text_len_Q2  \\\n",
       "20128                        work environ sbi life mumbai            5   \n",
       "296237                             us citizen work canada            4   \n",
       "107095                             benefit wash hand soap            4   \n",
       "27940       holi scriptur hinduism compar contrast taoism            6   \n",
       "251434  humanoid shape inevit speci similar intellig a...           10   \n",
       "\n",
       "                                             Text_stem_Q2  Text_len_Q2  \n",
       "20128                               stress work sbi clerk            4  \n",
       "296237  us graduat degre help non us citizen get job c...           14  \n",
       "107095                              import wash hand soap            4  \n",
       "27940   holi scriptur hinduism compar contrast italo r...            8  \n",
       "251434  rna evolv inevit eventu intellig life form pla...           14  "
      ]
     },
     "execution_count": 17,
     "metadata": {},
     "output_type": "execute_result"
    }
   ],
   "source": [
    "train_stem.head()"
   ]
  },
  {
   "cell_type": "code",
   "execution_count": 18,
   "id": "9fa429ec",
   "metadata": {},
   "outputs": [
    {
     "data": {
      "text/plain": [
       "Text_stem_Q1    0\n",
       "Text_len_Q2     0\n",
       "Text_stem_Q2    0\n",
       "Text_len_Q2     0\n",
       "dtype: int64"
      ]
     },
     "execution_count": 18,
     "metadata": {},
     "output_type": "execute_result"
    }
   ],
   "source": [
    "train_stem.isna().sum()"
   ]
  },
  {
   "cell_type": "code",
   "execution_count": 24,
   "id": "eb039dd2",
   "metadata": {},
   "outputs": [
    {
     "data": {
      "text/html": [
       "<div>\n",
       "<style scoped>\n",
       "    .dataframe tbody tr th:only-of-type {\n",
       "        vertical-align: middle;\n",
       "    }\n",
       "\n",
       "    .dataframe tbody tr th {\n",
       "        vertical-align: top;\n",
       "    }\n",
       "\n",
       "    .dataframe thead th {\n",
       "        text-align: right;\n",
       "    }\n",
       "</style>\n",
       "<table border=\"1\" class=\"dataframe\">\n",
       "  <thead>\n",
       "    <tr style=\"text-align: right;\">\n",
       "      <th></th>\n",
       "      <th>Text_stem_Q1</th>\n",
       "      <th>Text_len_Q2</th>\n",
       "      <th>Text_stem_Q2</th>\n",
       "      <th>Text_len_Q2</th>\n",
       "    </tr>\n",
       "  </thead>\n",
       "  <tbody>\n",
       "    <tr>\n",
       "      <th>215415</th>\n",
       "      <td></td>\n",
       "      <td>0</td>\n",
       "      <td>possibl broader chest shoulder skeleton frame ...</td>\n",
       "      <td>13</td>\n",
       "    </tr>\n",
       "    <tr>\n",
       "      <th>360644</th>\n",
       "      <td></td>\n",
       "      <td>0</td>\n",
       "      <td>ever ask exist</td>\n",
       "      <td>3</td>\n",
       "    </tr>\n",
       "    <tr>\n",
       "      <th>296089</th>\n",
       "      <td></td>\n",
       "      <td>0</td>\n",
       "      <td>good compani studi digit social media market</td>\n",
       "      <td>7</td>\n",
       "    </tr>\n",
       "    <tr>\n",
       "      <th>144890</th>\n",
       "      <td></td>\n",
       "      <td>0</td>\n",
       "      <td>pro con olymp lift powerlift athlet train simu...</td>\n",
       "      <td>8</td>\n",
       "    </tr>\n",
       "    <tr>\n",
       "      <th>185405</th>\n",
       "      <td></td>\n",
       "      <td>0</td>\n",
       "      <td>get hurt footbal new england patriot game</td>\n",
       "      <td>7</td>\n",
       "    </tr>\n",
       "    <tr>\n",
       "      <th>...</th>\n",
       "      <td>...</td>\n",
       "      <td>...</td>\n",
       "      <td>...</td>\n",
       "      <td>...</td>\n",
       "    </tr>\n",
       "    <tr>\n",
       "      <th>216877</th>\n",
       "      <td></td>\n",
       "      <td>0</td>\n",
       "      <td>answer zero divid zero infin</td>\n",
       "      <td>5</td>\n",
       "    </tr>\n",
       "    <tr>\n",
       "      <th>329933</th>\n",
       "      <td></td>\n",
       "      <td>0</td>\n",
       "      <td>better moral exampl muhammad jesu</td>\n",
       "      <td>5</td>\n",
       "    </tr>\n",
       "    <tr>\n",
       "      <th>297572</th>\n",
       "      <td></td>\n",
       "      <td>0</td>\n",
       "      <td></td>\n",
       "      <td>0</td>\n",
       "    </tr>\n",
       "    <tr>\n",
       "      <th>392095</th>\n",
       "      <td></td>\n",
       "      <td>0</td>\n",
       "      <td>equal</td>\n",
       "      <td>1</td>\n",
       "    </tr>\n",
       "    <tr>\n",
       "      <th>376188</th>\n",
       "      <td></td>\n",
       "      <td>0</td>\n",
       "      <td>feel</td>\n",
       "      <td>1</td>\n",
       "    </tr>\n",
       "  </tbody>\n",
       "</table>\n",
       "<p>122 rows × 4 columns</p>\n",
       "</div>"
      ],
      "text/plain": [
       "       Text_stem_Q1  Text_len_Q2  \\\n",
       "215415                         0   \n",
       "360644                         0   \n",
       "296089                         0   \n",
       "144890                         0   \n",
       "185405                         0   \n",
       "...             ...          ...   \n",
       "216877                         0   \n",
       "329933                         0   \n",
       "297572                         0   \n",
       "392095                         0   \n",
       "376188                         0   \n",
       "\n",
       "                                             Text_stem_Q2  Text_len_Q2  \n",
       "215415  possibl broader chest shoulder skeleton frame ...           13  \n",
       "360644                                     ever ask exist            3  \n",
       "296089       good compani studi digit social media market            7  \n",
       "144890  pro con olymp lift powerlift athlet train simu...            8  \n",
       "185405          get hurt footbal new england patriot game            7  \n",
       "...                                                   ...          ...  \n",
       "216877                       answer zero divid zero infin            5  \n",
       "329933                  better moral exampl muhammad jesu            5  \n",
       "297572                                                               0  \n",
       "392095                                              equal            1  \n",
       "376188                                               feel            1  \n",
       "\n",
       "[122 rows x 4 columns]"
      ]
     },
     "execution_count": 24,
     "metadata": {},
     "output_type": "execute_result"
    }
   ],
   "source": [
    "train_stem[train_stem.Text_stem_Q1 == '']"
   ]
  },
  {
   "cell_type": "code",
   "execution_count": 20,
   "id": "273380b8",
   "metadata": {
    "scrolled": true
   },
   "outputs": [
    {
     "data": {
      "text/plain": [
       "(283003, 4)"
      ]
     },
     "execution_count": 20,
     "metadata": {},
     "output_type": "execute_result"
    }
   ],
   "source": [
    "train_stem.shape"
   ]
  },
  {
   "cell_type": "markdown",
   "id": "f5471e20",
   "metadata": {},
   "source": [
    "## Observations:\n",
    "* After applying the lemmatization feature extraction some of the questions which are of no important i.e. stop words will be removed and we will get a value of zero. So when we load the data using pandas we will get null values."
   ]
  },
  {
   "cell_type": "code",
   "execution_count": 21,
   "id": "61deb2c1",
   "metadata": {},
   "outputs": [],
   "source": [
    "train_stem.to_csv('stem_pre_df.csv',index=False)"
   ]
  },
  {
   "cell_type": "markdown",
   "id": "a8caa38d",
   "metadata": {},
   "source": [
    "## Applying Lemmatization feature extraction technique on Test Data"
   ]
  },
  {
   "cell_type": "code",
   "execution_count": 22,
   "id": "d14c8a5a",
   "metadata": {
    "scrolled": true
   },
   "outputs": [
    {
     "name": "stderr",
     "output_type": "stream",
     "text": [
      "100%|█████████████████████████████████████████████████████████████████████████| 121287/121287 [04:55<00:00, 411.08it/s]\n"
     ]
    },
    {
     "data": {
      "text/html": [
       "<div>\n",
       "<style scoped>\n",
       "    .dataframe tbody tr th:only-of-type {\n",
       "        vertical-align: middle;\n",
       "    }\n",
       "\n",
       "    .dataframe tbody tr th {\n",
       "        vertical-align: top;\n",
       "    }\n",
       "\n",
       "    .dataframe thead th {\n",
       "        text-align: right;\n",
       "    }\n",
       "</style>\n",
       "<table border=\"1\" class=\"dataframe\">\n",
       "  <thead>\n",
       "    <tr style=\"text-align: right;\">\n",
       "      <th></th>\n",
       "      <th>0</th>\n",
       "      <th>1</th>\n",
       "    </tr>\n",
       "  </thead>\n",
       "  <tbody>\n",
       "    <tr>\n",
       "      <th>8067</th>\n",
       "      <td>play pok mon go korea</td>\n",
       "      <td>5</td>\n",
       "    </tr>\n",
       "    <tr>\n",
       "      <th>368101</th>\n",
       "      <td>best side dish crab cake</td>\n",
       "      <td>5</td>\n",
       "    </tr>\n",
       "    <tr>\n",
       "      <th>70497</th>\n",
       "      <td>advis better materi crash test automobil ducti...</td>\n",
       "      <td>8</td>\n",
       "    </tr>\n",
       "    <tr>\n",
       "      <th>226567</th>\n",
       "      <td>improv logic program skill</td>\n",
       "      <td>4</td>\n",
       "    </tr>\n",
       "    <tr>\n",
       "      <th>73186</th>\n",
       "      <td>close see rd world war</td>\n",
       "      <td>5</td>\n",
       "    </tr>\n",
       "  </tbody>\n",
       "</table>\n",
       "</div>"
      ],
      "text/plain": [
       "                                                        0  1\n",
       "8067                                play pok mon go korea  5\n",
       "368101                           best side dish crab cake  5\n",
       "70497   advis better materi crash test automobil ducti...  8\n",
       "226567                         improv logic program skill  4\n",
       "73186                              close see rd world war  5"
      ]
     },
     "execution_count": 22,
     "metadata": {},
     "output_type": "execute_result"
    }
   ],
   "source": [
    "temp_df2 = X_test['question1'].progress_apply(lambda x: preprocess(x, 'stem'))\n",
    "\n",
    "temp_df2.head()"
   ]
  },
  {
   "cell_type": "code",
   "execution_count": 23,
   "id": "450851d7",
   "metadata": {},
   "outputs": [
    {
     "name": "stderr",
     "output_type": "stream",
     "text": [
      "100%|█████████████████████████████████████████████████████████████████████████| 121287/121287 [05:13<00:00, 387.27it/s]\n"
     ]
    },
    {
     "data": {
      "text/html": [
       "<div>\n",
       "<style scoped>\n",
       "    .dataframe tbody tr th:only-of-type {\n",
       "        vertical-align: middle;\n",
       "    }\n",
       "\n",
       "    .dataframe tbody tr th {\n",
       "        vertical-align: top;\n",
       "    }\n",
       "\n",
       "    .dataframe thead th {\n",
       "        text-align: right;\n",
       "    }\n",
       "</style>\n",
       "<table border=\"1\" class=\"dataframe\">\n",
       "  <thead>\n",
       "    <tr style=\"text-align: right;\">\n",
       "      <th></th>\n",
       "      <th>0</th>\n",
       "      <th>1</th>\n",
       "    </tr>\n",
       "  </thead>\n",
       "  <tbody>\n",
       "    <tr>\n",
       "      <th>8067</th>\n",
       "      <td>play pok mon go china</td>\n",
       "      <td>5</td>\n",
       "    </tr>\n",
       "    <tr>\n",
       "      <th>368101</th>\n",
       "      <td>good side dish buffalo chicken</td>\n",
       "      <td>5</td>\n",
       "    </tr>\n",
       "    <tr>\n",
       "      <th>70497</th>\n",
       "      <td>best server setup buddypress</td>\n",
       "      <td>4</td>\n",
       "    </tr>\n",
       "    <tr>\n",
       "      <th>226567</th>\n",
       "      <td>improv logic skill program</td>\n",
       "      <td>4</td>\n",
       "    </tr>\n",
       "    <tr>\n",
       "      <th>73186</th>\n",
       "      <td>close world war iii</td>\n",
       "      <td>4</td>\n",
       "    </tr>\n",
       "  </tbody>\n",
       "</table>\n",
       "</div>"
      ],
      "text/plain": [
       "                                     0  1\n",
       "8067             play pok mon go china  5\n",
       "368101  good side dish buffalo chicken  5\n",
       "70497     best server setup buddypress  4\n",
       "226567      improv logic skill program  4\n",
       "73186              close world war iii  4"
      ]
     },
     "execution_count": 23,
     "metadata": {},
     "output_type": "execute_result"
    }
   ],
   "source": [
    "temp_df3 = X_test['question2'].progress_apply(lambda x: preprocess(x, 'stem'))\n",
    "\n",
    "temp_df3.head()"
   ]
  },
  {
   "cell_type": "code",
   "execution_count": 27,
   "id": "6886f8dd",
   "metadata": {},
   "outputs": [],
   "source": [
    "test_stem = pd.concat([temp_df2,temp_df3], axis = 1)"
   ]
  },
  {
   "cell_type": "code",
   "execution_count": 28,
   "id": "34dcf480",
   "metadata": {},
   "outputs": [],
   "source": [
    "test_stem.columns = ['Text_stem_Q1','Text_len_Q2','Text_stem_Q2','Text_len_Q2']"
   ]
  },
  {
   "cell_type": "code",
   "execution_count": 29,
   "id": "f32c9eae",
   "metadata": {},
   "outputs": [
    {
     "data": {
      "text/html": [
       "<div>\n",
       "<style scoped>\n",
       "    .dataframe tbody tr th:only-of-type {\n",
       "        vertical-align: middle;\n",
       "    }\n",
       "\n",
       "    .dataframe tbody tr th {\n",
       "        vertical-align: top;\n",
       "    }\n",
       "\n",
       "    .dataframe thead th {\n",
       "        text-align: right;\n",
       "    }\n",
       "</style>\n",
       "<table border=\"1\" class=\"dataframe\">\n",
       "  <thead>\n",
       "    <tr style=\"text-align: right;\">\n",
       "      <th></th>\n",
       "      <th>Text_stem_Q1</th>\n",
       "      <th>Text_len_Q2</th>\n",
       "      <th>Text_stem_Q2</th>\n",
       "      <th>Text_len_Q2</th>\n",
       "    </tr>\n",
       "  </thead>\n",
       "  <tbody>\n",
       "    <tr>\n",
       "      <th>8067</th>\n",
       "      <td>play pok mon go korea</td>\n",
       "      <td>5</td>\n",
       "      <td>play pok mon go china</td>\n",
       "      <td>5</td>\n",
       "    </tr>\n",
       "    <tr>\n",
       "      <th>368101</th>\n",
       "      <td>best side dish crab cake</td>\n",
       "      <td>5</td>\n",
       "      <td>good side dish buffalo chicken</td>\n",
       "      <td>5</td>\n",
       "    </tr>\n",
       "    <tr>\n",
       "      <th>70497</th>\n",
       "      <td>advis better materi crash test automobil ducti...</td>\n",
       "      <td>8</td>\n",
       "      <td>best server setup buddypress</td>\n",
       "      <td>4</td>\n",
       "    </tr>\n",
       "    <tr>\n",
       "      <th>226567</th>\n",
       "      <td>improv logic program skill</td>\n",
       "      <td>4</td>\n",
       "      <td>improv logic skill program</td>\n",
       "      <td>4</td>\n",
       "    </tr>\n",
       "    <tr>\n",
       "      <th>73186</th>\n",
       "      <td>close see rd world war</td>\n",
       "      <td>5</td>\n",
       "      <td>close world war iii</td>\n",
       "      <td>4</td>\n",
       "    </tr>\n",
       "    <tr>\n",
       "      <th>...</th>\n",
       "      <td>...</td>\n",
       "      <td>...</td>\n",
       "      <td>...</td>\n",
       "      <td>...</td>\n",
       "    </tr>\n",
       "    <tr>\n",
       "      <th>35923</th>\n",
       "      <td>interest app program mobil phone comput</td>\n",
       "      <td>6</td>\n",
       "      <td>interest app program mobil phone comput</td>\n",
       "      <td>6</td>\n",
       "    </tr>\n",
       "    <tr>\n",
       "      <th>307141</th>\n",
       "      <td>amphiboli exampl</td>\n",
       "      <td>2</td>\n",
       "      <td>amphiboli exampl</td>\n",
       "      <td>2</td>\n",
       "    </tr>\n",
       "    <tr>\n",
       "      <th>295384</th>\n",
       "      <td>improv english speak</td>\n",
       "      <td>3</td>\n",
       "      <td>continu improv english</td>\n",
       "      <td>3</td>\n",
       "    </tr>\n",
       "    <tr>\n",
       "      <th>320598</th>\n",
       "      <td>metal extract electrolysi</td>\n",
       "      <td>3</td>\n",
       "      <td>metal extract electrolysi</td>\n",
       "      <td>3</td>\n",
       "    </tr>\n",
       "    <tr>\n",
       "      <th>197847</th>\n",
       "      <td>make day</td>\n",
       "      <td>2</td>\n",
       "      <td>make day</td>\n",
       "      <td>2</td>\n",
       "    </tr>\n",
       "  </tbody>\n",
       "</table>\n",
       "<p>121287 rows × 4 columns</p>\n",
       "</div>"
      ],
      "text/plain": [
       "                                             Text_stem_Q1  Text_len_Q2  \\\n",
       "8067                                play pok mon go korea            5   \n",
       "368101                           best side dish crab cake            5   \n",
       "70497   advis better materi crash test automobil ducti...            8   \n",
       "226567                         improv logic program skill            4   \n",
       "73186                              close see rd world war            5   \n",
       "...                                                   ...          ...   \n",
       "35923             interest app program mobil phone comput            6   \n",
       "307141                                   amphiboli exampl            2   \n",
       "295384                               improv english speak            3   \n",
       "320598                          metal extract electrolysi            3   \n",
       "197847                                           make day            2   \n",
       "\n",
       "                                   Text_stem_Q2  Text_len_Q2  \n",
       "8067                      play pok mon go china            5  \n",
       "368101           good side dish buffalo chicken            5  \n",
       "70497              best server setup buddypress            4  \n",
       "226567               improv logic skill program            4  \n",
       "73186                       close world war iii            4  \n",
       "...                                         ...          ...  \n",
       "35923   interest app program mobil phone comput            6  \n",
       "307141                         amphiboli exampl            2  \n",
       "295384                   continu improv english            3  \n",
       "320598                metal extract electrolysi            3  \n",
       "197847                                 make day            2  \n",
       "\n",
       "[121287 rows x 4 columns]"
      ]
     },
     "execution_count": 29,
     "metadata": {},
     "output_type": "execute_result"
    }
   ],
   "source": [
    "test_stem"
   ]
  },
  {
   "cell_type": "code",
   "execution_count": 31,
   "id": "adf42fc6",
   "metadata": {},
   "outputs": [
    {
     "data": {
      "text/plain": [
       "Text_stem_Q1    0\n",
       "Text_len_Q2     0\n",
       "Text_stem_Q2    0\n",
       "Text_len_Q2     0\n",
       "dtype: int64"
      ]
     },
     "execution_count": 31,
     "metadata": {},
     "output_type": "execute_result"
    }
   ],
   "source": [
    "test_stem.isna().sum()"
   ]
  },
  {
   "cell_type": "code",
   "execution_count": 34,
   "id": "a8e6e112",
   "metadata": {},
   "outputs": [
    {
     "data": {
      "text/html": [
       "<div>\n",
       "<style scoped>\n",
       "    .dataframe tbody tr th:only-of-type {\n",
       "        vertical-align: middle;\n",
       "    }\n",
       "\n",
       "    .dataframe tbody tr th {\n",
       "        vertical-align: top;\n",
       "    }\n",
       "\n",
       "    .dataframe thead th {\n",
       "        text-align: right;\n",
       "    }\n",
       "</style>\n",
       "<table border=\"1\" class=\"dataframe\">\n",
       "  <thead>\n",
       "    <tr style=\"text-align: right;\">\n",
       "      <th></th>\n",
       "      <th>Text_stem_Q1</th>\n",
       "      <th>Text_len_Q2</th>\n",
       "      <th>Text_stem_Q2</th>\n",
       "      <th>Text_len_Q2</th>\n",
       "    </tr>\n",
       "  </thead>\n",
       "  <tbody>\n",
       "    <tr>\n",
       "      <th>198913</th>\n",
       "      <td></td>\n",
       "      <td>0</td>\n",
       "      <td></td>\n",
       "      <td>0</td>\n",
       "    </tr>\n",
       "    <tr>\n",
       "      <th>230050</th>\n",
       "      <td></td>\n",
       "      <td>0</td>\n",
       "      <td></td>\n",
       "      <td>0</td>\n",
       "    </tr>\n",
       "    <tr>\n",
       "      <th>302123</th>\n",
       "      <td></td>\n",
       "      <td>0</td>\n",
       "      <td></td>\n",
       "      <td>0</td>\n",
       "    </tr>\n",
       "    <tr>\n",
       "      <th>246126</th>\n",
       "      <td></td>\n",
       "      <td>0</td>\n",
       "      <td></td>\n",
       "      <td>0</td>\n",
       "    </tr>\n",
       "    <tr>\n",
       "      <th>301583</th>\n",
       "      <td></td>\n",
       "      <td>0</td>\n",
       "      <td>guy</td>\n",
       "      <td>1</td>\n",
       "    </tr>\n",
       "    <tr>\n",
       "      <th>230743</th>\n",
       "      <td></td>\n",
       "      <td>0</td>\n",
       "      <td>good safe place near st loui mo easi public tr...</td>\n",
       "      <td>11</td>\n",
       "    </tr>\n",
       "    <tr>\n",
       "      <th>190570</th>\n",
       "      <td></td>\n",
       "      <td>0</td>\n",
       "      <td>time money one explain work</td>\n",
       "      <td>5</td>\n",
       "    </tr>\n",
       "    <tr>\n",
       "      <th>7368</th>\n",
       "      <td></td>\n",
       "      <td>0</td>\n",
       "      <td></td>\n",
       "      <td>0</td>\n",
       "    </tr>\n",
       "    <tr>\n",
       "      <th>52880</th>\n",
       "      <td></td>\n",
       "      <td>0</td>\n",
       "      <td></td>\n",
       "      <td>0</td>\n",
       "    </tr>\n",
       "    <tr>\n",
       "      <th>106766</th>\n",
       "      <td></td>\n",
       "      <td>0</td>\n",
       "      <td>next number</td>\n",
       "      <td>2</td>\n",
       "    </tr>\n",
       "    <tr>\n",
       "      <th>303738</th>\n",
       "      <td></td>\n",
       "      <td>0</td>\n",
       "      <td>digit</td>\n",
       "      <td>1</td>\n",
       "    </tr>\n",
       "    <tr>\n",
       "      <th>119250</th>\n",
       "      <td></td>\n",
       "      <td>0</td>\n",
       "      <td></td>\n",
       "      <td>0</td>\n",
       "    </tr>\n",
       "    <tr>\n",
       "      <th>175584</th>\n",
       "      <td></td>\n",
       "      <td>0</td>\n",
       "      <td>yr old still virgin chang fact</td>\n",
       "      <td>6</td>\n",
       "    </tr>\n",
       "    <tr>\n",
       "      <th>93813</th>\n",
       "      <td></td>\n",
       "      <td>0</td>\n",
       "      <td>find</td>\n",
       "      <td>1</td>\n",
       "    </tr>\n",
       "    <tr>\n",
       "      <th>109311</th>\n",
       "      <td></td>\n",
       "      <td>0</td>\n",
       "      <td>option get fee concess bit econom weaker secti...</td>\n",
       "      <td>10</td>\n",
       "    </tr>\n",
       "    <tr>\n",
       "      <th>76836</th>\n",
       "      <td></td>\n",
       "      <td>0</td>\n",
       "      <td>call</td>\n",
       "      <td>1</td>\n",
       "    </tr>\n",
       "    <tr>\n",
       "      <th>346000</th>\n",
       "      <td></td>\n",
       "      <td>0</td>\n",
       "      <td>make peni strong</td>\n",
       "      <td>3</td>\n",
       "    </tr>\n",
       "    <tr>\n",
       "      <th>33220</th>\n",
       "      <td></td>\n",
       "      <td>0</td>\n",
       "      <td>x</td>\n",
       "      <td>1</td>\n",
       "    </tr>\n",
       "    <tr>\n",
       "      <th>278091</th>\n",
       "      <td></td>\n",
       "      <td>0</td>\n",
       "      <td></td>\n",
       "      <td>0</td>\n",
       "    </tr>\n",
       "    <tr>\n",
       "      <th>88243</th>\n",
       "      <td></td>\n",
       "      <td>0</td>\n",
       "      <td></td>\n",
       "      <td>0</td>\n",
       "    </tr>\n",
       "    <tr>\n",
       "      <th>361664</th>\n",
       "      <td></td>\n",
       "      <td>0</td>\n",
       "      <td>relationship number</td>\n",
       "      <td>2</td>\n",
       "    </tr>\n",
       "    <tr>\n",
       "      <th>25228</th>\n",
       "      <td></td>\n",
       "      <td>0</td>\n",
       "      <td>indian donald trump becom presid</td>\n",
       "      <td>5</td>\n",
       "    </tr>\n",
       "    <tr>\n",
       "      <th>31753</th>\n",
       "      <td></td>\n",
       "      <td>0</td>\n",
       "      <td></td>\n",
       "      <td>0</td>\n",
       "    </tr>\n",
       "    <tr>\n",
       "      <th>313836</th>\n",
       "      <td></td>\n",
       "      <td>0</td>\n",
       "      <td>miss number</td>\n",
       "      <td>2</td>\n",
       "    </tr>\n",
       "    <tr>\n",
       "      <th>280677</th>\n",
       "      <td></td>\n",
       "      <td>0</td>\n",
       "      <td>think</td>\n",
       "      <td>1</td>\n",
       "    </tr>\n",
       "    <tr>\n",
       "      <th>400153</th>\n",
       "      <td></td>\n",
       "      <td>0</td>\n",
       "      <td></td>\n",
       "      <td>0</td>\n",
       "    </tr>\n",
       "    <tr>\n",
       "      <th>63712</th>\n",
       "      <td></td>\n",
       "      <td>0</td>\n",
       "      <td>averag process time spous sponsorship canada a...</td>\n",
       "      <td>7</td>\n",
       "    </tr>\n",
       "    <tr>\n",
       "      <th>179310</th>\n",
       "      <td></td>\n",
       "      <td>0</td>\n",
       "      <td>go turn soon advic</td>\n",
       "      <td>4</td>\n",
       "    </tr>\n",
       "    <tr>\n",
       "      <th>393288</th>\n",
       "      <td></td>\n",
       "      <td>0</td>\n",
       "      <td>add odd number get</td>\n",
       "      <td>4</td>\n",
       "    </tr>\n",
       "    <tr>\n",
       "      <th>206835</th>\n",
       "      <td></td>\n",
       "      <td>0</td>\n",
       "      <td>equal</td>\n",
       "      <td>1</td>\n",
       "    </tr>\n",
       "    <tr>\n",
       "      <th>22237</th>\n",
       "      <td></td>\n",
       "      <td>0</td>\n",
       "      <td>would</td>\n",
       "      <td>1</td>\n",
       "    </tr>\n",
       "    <tr>\n",
       "      <th>208798</th>\n",
       "      <td></td>\n",
       "      <td>0</td>\n",
       "      <td>insur vehicl receiv licens plate without posse...</td>\n",
       "      <td>9</td>\n",
       "    </tr>\n",
       "    <tr>\n",
       "      <th>51974</th>\n",
       "      <td></td>\n",
       "      <td>0</td>\n",
       "      <td>equal</td>\n",
       "      <td>1</td>\n",
       "    </tr>\n",
       "    <tr>\n",
       "      <th>274203</th>\n",
       "      <td></td>\n",
       "      <td>0</td>\n",
       "      <td>function seri</td>\n",
       "      <td>2</td>\n",
       "    </tr>\n",
       "    <tr>\n",
       "      <th>143896</th>\n",
       "      <td></td>\n",
       "      <td>0</td>\n",
       "      <td></td>\n",
       "      <td>0</td>\n",
       "    </tr>\n",
       "    <tr>\n",
       "      <th>217458</th>\n",
       "      <td></td>\n",
       "      <td>0</td>\n",
       "      <td>best onlin platform like udemi learnfli academ...</td>\n",
       "      <td>9</td>\n",
       "    </tr>\n",
       "    <tr>\n",
       "      <th>147282</th>\n",
       "      <td></td>\n",
       "      <td>0</td>\n",
       "      <td></td>\n",
       "      <td>0</td>\n",
       "    </tr>\n",
       "    <tr>\n",
       "      <th>351130</th>\n",
       "      <td></td>\n",
       "      <td>0</td>\n",
       "      <td>postfix express</td>\n",
       "      <td>2</td>\n",
       "    </tr>\n",
       "    <tr>\n",
       "      <th>292375</th>\n",
       "      <td></td>\n",
       "      <td>0</td>\n",
       "      <td>pant infest quora</td>\n",
       "      <td>3</td>\n",
       "    </tr>\n",
       "    <tr>\n",
       "      <th>86457</th>\n",
       "      <td></td>\n",
       "      <td>0</td>\n",
       "      <td>mother son incest happen india</td>\n",
       "      <td>5</td>\n",
       "    </tr>\n",
       "    <tr>\n",
       "      <th>137087</th>\n",
       "      <td></td>\n",
       "      <td>0</td>\n",
       "      <td>ethnic peopl look like</td>\n",
       "      <td>4</td>\n",
       "    </tr>\n",
       "    <tr>\n",
       "      <th>151922</th>\n",
       "      <td></td>\n",
       "      <td>0</td>\n",
       "      <td>websit url block per instruct depart telecommu...</td>\n",
       "      <td>9</td>\n",
       "    </tr>\n",
       "    <tr>\n",
       "      <th>318533</th>\n",
       "      <td></td>\n",
       "      <td>0</td>\n",
       "      <td></td>\n",
       "      <td>0</td>\n",
       "    </tr>\n",
       "    <tr>\n",
       "      <th>20794</th>\n",
       "      <td></td>\n",
       "      <td>0</td>\n",
       "      <td>gmail tech support help phone number</td>\n",
       "      <td>6</td>\n",
       "    </tr>\n",
       "    <tr>\n",
       "      <th>306973</th>\n",
       "      <td></td>\n",
       "      <td>0</td>\n",
       "      <td></td>\n",
       "      <td>0</td>\n",
       "    </tr>\n",
       "    <tr>\n",
       "      <th>7820</th>\n",
       "      <td></td>\n",
       "      <td>0</td>\n",
       "      <td>equal</td>\n",
       "      <td>1</td>\n",
       "    </tr>\n",
       "    <tr>\n",
       "      <th>157687</th>\n",
       "      <td></td>\n",
       "      <td>0</td>\n",
       "      <td></td>\n",
       "      <td>0</td>\n",
       "    </tr>\n",
       "    <tr>\n",
       "      <th>31820</th>\n",
       "      <td></td>\n",
       "      <td>0</td>\n",
       "      <td></td>\n",
       "      <td>0</td>\n",
       "    </tr>\n",
       "    <tr>\n",
       "      <th>13016</th>\n",
       "      <td></td>\n",
       "      <td>0</td>\n",
       "      <td>one work googl</td>\n",
       "      <td>3</td>\n",
       "    </tr>\n",
       "    <tr>\n",
       "      <th>313464</th>\n",
       "      <td></td>\n",
       "      <td>0</td>\n",
       "      <td></td>\n",
       "      <td>0</td>\n",
       "    </tr>\n",
       "    <tr>\n",
       "      <th>29040</th>\n",
       "      <td></td>\n",
       "      <td>0</td>\n",
       "      <td></td>\n",
       "      <td>0</td>\n",
       "    </tr>\n",
       "    <tr>\n",
       "      <th>341976</th>\n",
       "      <td></td>\n",
       "      <td>0</td>\n",
       "      <td></td>\n",
       "      <td>0</td>\n",
       "    </tr>\n",
       "    <tr>\n",
       "      <th>316229</th>\n",
       "      <td></td>\n",
       "      <td>0</td>\n",
       "      <td>next number</td>\n",
       "      <td>2</td>\n",
       "    </tr>\n",
       "    <tr>\n",
       "      <th>295593</th>\n",
       "      <td></td>\n",
       "      <td>0</td>\n",
       "      <td></td>\n",
       "      <td>0</td>\n",
       "    </tr>\n",
       "    <tr>\n",
       "      <th>202835</th>\n",
       "      <td></td>\n",
       "      <td>0</td>\n",
       "      <td></td>\n",
       "      <td>0</td>\n",
       "    </tr>\n",
       "  </tbody>\n",
       "</table>\n",
       "</div>"
      ],
      "text/plain": [
       "       Text_stem_Q1  Text_len_Q2  \\\n",
       "198913                         0   \n",
       "230050                         0   \n",
       "302123                         0   \n",
       "246126                         0   \n",
       "301583                         0   \n",
       "230743                         0   \n",
       "190570                         0   \n",
       "7368                           0   \n",
       "52880                          0   \n",
       "106766                         0   \n",
       "303738                         0   \n",
       "119250                         0   \n",
       "175584                         0   \n",
       "93813                          0   \n",
       "109311                         0   \n",
       "76836                          0   \n",
       "346000                         0   \n",
       "33220                          0   \n",
       "278091                         0   \n",
       "88243                          0   \n",
       "361664                         0   \n",
       "25228                          0   \n",
       "31753                          0   \n",
       "313836                         0   \n",
       "280677                         0   \n",
       "400153                         0   \n",
       "63712                          0   \n",
       "179310                         0   \n",
       "393288                         0   \n",
       "206835                         0   \n",
       "22237                          0   \n",
       "208798                         0   \n",
       "51974                          0   \n",
       "274203                         0   \n",
       "143896                         0   \n",
       "217458                         0   \n",
       "147282                         0   \n",
       "351130                         0   \n",
       "292375                         0   \n",
       "86457                          0   \n",
       "137087                         0   \n",
       "151922                         0   \n",
       "318533                         0   \n",
       "20794                          0   \n",
       "306973                         0   \n",
       "7820                           0   \n",
       "157687                         0   \n",
       "31820                          0   \n",
       "13016                          0   \n",
       "313464                         0   \n",
       "29040                          0   \n",
       "341976                         0   \n",
       "316229                         0   \n",
       "295593                         0   \n",
       "202835                         0   \n",
       "\n",
       "                                             Text_stem_Q2  Text_len_Q2  \n",
       "198913                                                               0  \n",
       "230050                                                               0  \n",
       "302123                                                               0  \n",
       "246126                                                               0  \n",
       "301583                                                guy            1  \n",
       "230743  good safe place near st loui mo easi public tr...           11  \n",
       "190570                        time money one explain work            5  \n",
       "7368                                                                 0  \n",
       "52880                                                                0  \n",
       "106766                                        next number            2  \n",
       "303738                                              digit            1  \n",
       "119250                                                               0  \n",
       "175584                     yr old still virgin chang fact            6  \n",
       "93813                                                find            1  \n",
       "109311  option get fee concess bit econom weaker secti...           10  \n",
       "76836                                                call            1  \n",
       "346000                                   make peni strong            3  \n",
       "33220                                                   x            1  \n",
       "278091                                                               0  \n",
       "88243                                                                0  \n",
       "361664                                relationship number            2  \n",
       "25228                    indian donald trump becom presid            5  \n",
       "31753                                                                0  \n",
       "313836                                        miss number            2  \n",
       "280677                                              think            1  \n",
       "400153                                                               0  \n",
       "63712   averag process time spous sponsorship canada a...            7  \n",
       "179310                                 go turn soon advic            4  \n",
       "393288                                 add odd number get            4  \n",
       "206835                                              equal            1  \n",
       "22237                                               would            1  \n",
       "208798  insur vehicl receiv licens plate without posse...            9  \n",
       "51974                                               equal            1  \n",
       "274203                                      function seri            2  \n",
       "143896                                                               0  \n",
       "217458  best onlin platform like udemi learnfli academ...            9  \n",
       "147282                                                               0  \n",
       "351130                                    postfix express            2  \n",
       "292375                                  pant infest quora            3  \n",
       "86457                      mother son incest happen india            5  \n",
       "137087                             ethnic peopl look like            4  \n",
       "151922  websit url block per instruct depart telecommu...            9  \n",
       "318533                                                               0  \n",
       "20794                gmail tech support help phone number            6  \n",
       "306973                                                               0  \n",
       "7820                                                equal            1  \n",
       "157687                                                               0  \n",
       "31820                                                                0  \n",
       "13016                                      one work googl            3  \n",
       "313464                                                               0  \n",
       "29040                                                                0  \n",
       "341976                                                               0  \n",
       "316229                                        next number            2  \n",
       "295593                                                               0  \n",
       "202835                                                               0  "
      ]
     },
     "execution_count": 34,
     "metadata": {},
     "output_type": "execute_result"
    }
   ],
   "source": [
    "test_stem[test_stem.Text_stem_Q1 == '']"
   ]
  },
  {
   "cell_type": "code",
   "execution_count": 36,
   "id": "0551b950",
   "metadata": {},
   "outputs": [
    {
     "data": {
      "text/plain": [
       "(121287, 4)"
      ]
     },
     "execution_count": 36,
     "metadata": {},
     "output_type": "execute_result"
    }
   ],
   "source": [
    "test_stem.shape"
   ]
  },
  {
   "cell_type": "markdown",
   "id": "f3d70d51",
   "metadata": {},
   "source": [
    "## Observations:\n",
    "* After applying the lemmatization feature extraction some of the questions which are of no important i.e. stop words will be removed and we will get a value of zero. So when we load the data using pandas we will get null values."
   ]
  },
  {
   "cell_type": "code",
   "execution_count": 37,
   "id": "202dc86f",
   "metadata": {},
   "outputs": [],
   "source": [
    "test_stem.to_csv('stem_pre_df1.csv',index=False)"
   ]
  },
  {
   "cell_type": "markdown",
   "id": "5d798947",
   "metadata": {},
   "source": [
    "## Handling Null Values on Train"
   ]
  },
  {
   "cell_type": "code",
   "execution_count": 104,
   "id": "0af85468",
   "metadata": {},
   "outputs": [],
   "source": [
    "tfidf_train = pd.read_csv(r\"C:\\Users\\GUDLA RAGUWING\\Data Science Course\\Internship_Project\\stem_pre_df.csv\")"
   ]
  },
  {
   "cell_type": "code",
   "execution_count": 105,
   "id": "1bab69d8",
   "metadata": {},
   "outputs": [
    {
     "data": {
      "text/plain": [
       "Text_stem_Q1     122\n",
       "Text_len_Q2        0\n",
       "Text_stem_Q2     122\n",
       "Text_len_Q2.1      0\n",
       "dtype: int64"
      ]
     },
     "execution_count": 105,
     "metadata": {},
     "output_type": "execute_result"
    }
   ],
   "source": [
    "tfidf_train.isna().sum()"
   ]
  },
  {
   "cell_type": "code",
   "execution_count": 106,
   "id": "6c594509",
   "metadata": {},
   "outputs": [
    {
     "data": {
      "text/html": [
       "<div>\n",
       "<style scoped>\n",
       "    .dataframe tbody tr th:only-of-type {\n",
       "        vertical-align: middle;\n",
       "    }\n",
       "\n",
       "    .dataframe tbody tr th {\n",
       "        vertical-align: top;\n",
       "    }\n",
       "\n",
       "    .dataframe thead th {\n",
       "        text-align: right;\n",
       "    }\n",
       "</style>\n",
       "<table border=\"1\" class=\"dataframe\">\n",
       "  <thead>\n",
       "    <tr style=\"text-align: right;\">\n",
       "      <th></th>\n",
       "      <th>Text_stem_Q1</th>\n",
       "      <th>Text_len_Q2</th>\n",
       "      <th>Text_stem_Q2</th>\n",
       "      <th>Text_len_Q2.1</th>\n",
       "    </tr>\n",
       "  </thead>\n",
       "  <tbody>\n",
       "    <tr>\n",
       "      <th>294</th>\n",
       "      <td>valu</td>\n",
       "      <td>1</td>\n",
       "      <td>NaN</td>\n",
       "      <td>0</td>\n",
       "    </tr>\n",
       "    <tr>\n",
       "      <th>665</th>\n",
       "      <td>g mean</td>\n",
       "      <td>2</td>\n",
       "      <td>NaN</td>\n",
       "      <td>0</td>\n",
       "    </tr>\n",
       "    <tr>\n",
       "      <th>1207</th>\n",
       "      <td>NaN</td>\n",
       "      <td>0</td>\n",
       "      <td>possibl broader chest shoulder skeleton frame ...</td>\n",
       "      <td>13</td>\n",
       "    </tr>\n",
       "    <tr>\n",
       "      <th>2210</th>\n",
       "      <td>NaN</td>\n",
       "      <td>0</td>\n",
       "      <td>ever ask exist</td>\n",
       "      <td>3</td>\n",
       "    </tr>\n",
       "    <tr>\n",
       "      <th>4122</th>\n",
       "      <td>NaN</td>\n",
       "      <td>0</td>\n",
       "      <td>good compani studi digit social media market</td>\n",
       "      <td>7</td>\n",
       "    </tr>\n",
       "  </tbody>\n",
       "</table>\n",
       "</div>"
      ],
      "text/plain": [
       "     Text_stem_Q1  Text_len_Q2  \\\n",
       "294          valu            1   \n",
       "665        g mean            2   \n",
       "1207          NaN            0   \n",
       "2210          NaN            0   \n",
       "4122          NaN            0   \n",
       "\n",
       "                                           Text_stem_Q2  Text_len_Q2.1  \n",
       "294                                                 NaN              0  \n",
       "665                                                 NaN              0  \n",
       "1207  possibl broader chest shoulder skeleton frame ...             13  \n",
       "2210                                     ever ask exist              3  \n",
       "4122       good compani studi digit social media market              7  "
      ]
     },
     "execution_count": 106,
     "metadata": {},
     "output_type": "execute_result"
    }
   ],
   "source": [
    "tfidf_train[(tfidf_train.Text_stem_Q1.isna()) | (tfidf_train.Text_stem_Q2.isna())] .head()"
   ]
  },
  {
   "cell_type": "code",
   "execution_count": 107,
   "id": "d9461dda",
   "metadata": {},
   "outputs": [],
   "source": [
    "drop = tfidf_train[(tfidf_train.Text_stem_Q1.isna()) | (tfidf_train.Text_stem_Q2.isna())].index.to_list()\n",
    "tfidf_train.drop(drop,axis = 0,inplace = True)\n",
    "tfidf_train.reset_index(inplace = True,drop = 'first' )"
   ]
  },
  {
   "cell_type": "code",
   "execution_count": 108,
   "id": "fe1efbed",
   "metadata": {},
   "outputs": [
    {
     "data": {
      "text/plain": [
       "(282811, 4)"
      ]
     },
     "execution_count": 108,
     "metadata": {},
     "output_type": "execute_result"
    }
   ],
   "source": [
    "tfidf_train.shape"
   ]
  },
  {
   "cell_type": "code",
   "execution_count": 109,
   "id": "80dc45fb",
   "metadata": {},
   "outputs": [],
   "source": [
    "y_train = pd.DataFrame(data = y_train) # Convert y_train to dataframe\n",
    "y_train.reset_index(inplace = True, drop = 'first')"
   ]
  },
  {
   "cell_type": "code",
   "execution_count": 110,
   "id": "71dac220",
   "metadata": {},
   "outputs": [],
   "source": [
    "y_train.drop(drop,axis = 0,inplace = True) # Drop the labels of the null value indexes of tfidf_train\n",
    "y_train.reset_index(inplace = True,drop = 'first' )"
   ]
  },
  {
   "cell_type": "code",
   "execution_count": 111,
   "id": "cbe521ac",
   "metadata": {},
   "outputs": [
    {
     "data": {
      "text/plain": [
       "(282811, 1)"
      ]
     },
     "execution_count": 111,
     "metadata": {},
     "output_type": "execute_result"
    }
   ],
   "source": [
    "y_train.shape"
   ]
  },
  {
   "cell_type": "markdown",
   "id": "a471e6b3",
   "metadata": {},
   "source": [
    "### DataFrame.squeeze() "
   ]
  },
  {
   "cell_type": "markdown",
   "id": "059ee8ca",
   "metadata": {},
   "source": [
    "> You can then use DataFrame.squeeze() to convert the DataFrame with a single column into a Series:"
   ]
  },
  {
   "cell_type": "code",
   "execution_count": 112,
   "id": "ebb5edbf",
   "metadata": {},
   "outputs": [
    {
     "data": {
      "text/plain": [
       "(282811,)"
      ]
     },
     "execution_count": 112,
     "metadata": {},
     "output_type": "execute_result"
    }
   ],
   "source": [
    "y_train = y_train.squeeze()\n",
    "y_train.shape"
   ]
  },
  {
   "cell_type": "markdown",
   "id": "238a4dad",
   "metadata": {},
   "source": [
    "## Handling Null values on test"
   ]
  },
  {
   "cell_type": "code",
   "execution_count": 113,
   "id": "af039c66",
   "metadata": {},
   "outputs": [],
   "source": [
    "tfidf_test = pd.read_csv(r\"C:\\Users\\GUDLA RAGUWING\\Data Science Course\\Internship_Project\\stem_pre_df1.csv\")"
   ]
  },
  {
   "cell_type": "code",
   "execution_count": 114,
   "id": "bfa14c8d",
   "metadata": {},
   "outputs": [
    {
     "data": {
      "text/html": [
       "<div>\n",
       "<style scoped>\n",
       "    .dataframe tbody tr th:only-of-type {\n",
       "        vertical-align: middle;\n",
       "    }\n",
       "\n",
       "    .dataframe tbody tr th {\n",
       "        vertical-align: top;\n",
       "    }\n",
       "\n",
       "    .dataframe thead th {\n",
       "        text-align: right;\n",
       "    }\n",
       "</style>\n",
       "<table border=\"1\" class=\"dataframe\">\n",
       "  <thead>\n",
       "    <tr style=\"text-align: right;\">\n",
       "      <th></th>\n",
       "      <th>Text_stem_Q1</th>\n",
       "      <th>Text_len_Q2</th>\n",
       "      <th>Text_stem_Q2</th>\n",
       "      <th>Text_len_Q2.1</th>\n",
       "    </tr>\n",
       "  </thead>\n",
       "  <tbody>\n",
       "    <tr>\n",
       "      <th>0</th>\n",
       "      <td>play pok mon go korea</td>\n",
       "      <td>5</td>\n",
       "      <td>play pok mon go china</td>\n",
       "      <td>5</td>\n",
       "    </tr>\n",
       "    <tr>\n",
       "      <th>1</th>\n",
       "      <td>best side dish crab cake</td>\n",
       "      <td>5</td>\n",
       "      <td>good side dish buffalo chicken</td>\n",
       "      <td>5</td>\n",
       "    </tr>\n",
       "    <tr>\n",
       "      <th>2</th>\n",
       "      <td>advis better materi crash test automobil ducti...</td>\n",
       "      <td>8</td>\n",
       "      <td>best server setup buddypress</td>\n",
       "      <td>4</td>\n",
       "    </tr>\n",
       "    <tr>\n",
       "      <th>3</th>\n",
       "      <td>improv logic program skill</td>\n",
       "      <td>4</td>\n",
       "      <td>improv logic skill program</td>\n",
       "      <td>4</td>\n",
       "    </tr>\n",
       "    <tr>\n",
       "      <th>4</th>\n",
       "      <td>close see rd world war</td>\n",
       "      <td>5</td>\n",
       "      <td>close world war iii</td>\n",
       "      <td>4</td>\n",
       "    </tr>\n",
       "  </tbody>\n",
       "</table>\n",
       "</div>"
      ],
      "text/plain": [
       "                                        Text_stem_Q1  Text_len_Q2  \\\n",
       "0                              play pok mon go korea            5   \n",
       "1                           best side dish crab cake            5   \n",
       "2  advis better materi crash test automobil ducti...            8   \n",
       "3                         improv logic program skill            4   \n",
       "4                             close see rd world war            5   \n",
       "\n",
       "                     Text_stem_Q2  Text_len_Q2.1  \n",
       "0           play pok mon go china              5  \n",
       "1  good side dish buffalo chicken              5  \n",
       "2    best server setup buddypress              4  \n",
       "3      improv logic skill program              4  \n",
       "4             close world war iii              4  "
      ]
     },
     "execution_count": 114,
     "metadata": {},
     "output_type": "execute_result"
    }
   ],
   "source": [
    "tfidf_test.head()"
   ]
  },
  {
   "cell_type": "code",
   "execution_count": 115,
   "id": "28638d23",
   "metadata": {},
   "outputs": [
    {
     "data": {
      "text/plain": [
       "Text_stem_Q1     55\n",
       "Text_len_Q2       0\n",
       "Text_stem_Q2     53\n",
       "Text_len_Q2.1     0\n",
       "dtype: int64"
      ]
     },
     "execution_count": 115,
     "metadata": {},
     "output_type": "execute_result"
    }
   ],
   "source": [
    "tfidf_test.isna().sum()"
   ]
  },
  {
   "cell_type": "code",
   "execution_count": 116,
   "id": "58930f7f",
   "metadata": {},
   "outputs": [],
   "source": [
    "drop1 = tfidf_test[(tfidf_test.Text_stem_Q1.isna())].index.to_list()\n",
    "tfidf_test.drop(drop1,axis = 0,inplace = True)\n",
    "tfidf_test.reset_index(inplace = True,drop = 'first' )"
   ]
  },
  {
   "cell_type": "code",
   "execution_count": 117,
   "id": "10f58093",
   "metadata": {},
   "outputs": [
    {
     "data": {
      "text/plain": [
       "Text_stem_Q1      0\n",
       "Text_len_Q2       0\n",
       "Text_stem_Q2     31\n",
       "Text_len_Q2.1     0\n",
       "dtype: int64"
      ]
     },
     "execution_count": 117,
     "metadata": {},
     "output_type": "execute_result"
    }
   ],
   "source": [
    "tfidf_test.isna().sum()"
   ]
  },
  {
   "cell_type": "code",
   "execution_count": 118,
   "id": "858eaf5d",
   "metadata": {},
   "outputs": [],
   "source": [
    "y_test = pd.DataFrame(data = y_test)\n",
    "y_test.reset_index(inplace = True, drop = 'first')"
   ]
  },
  {
   "cell_type": "code",
   "execution_count": 119,
   "id": "22b10193",
   "metadata": {},
   "outputs": [],
   "source": [
    "y_test.drop(drop1,axis = 0,inplace = True) # Drop the labels of the null value indexes of tfidf_test\n",
    "y_test.reset_index(inplace = True,drop = 'first' )"
   ]
  },
  {
   "cell_type": "code",
   "execution_count": 120,
   "id": "3fefbbf5",
   "metadata": {},
   "outputs": [
    {
     "data": {
      "text/plain": [
       "(121232, 1)"
      ]
     },
     "execution_count": 120,
     "metadata": {},
     "output_type": "execute_result"
    }
   ],
   "source": [
    "y_test.shape"
   ]
  },
  {
   "cell_type": "code",
   "execution_count": 121,
   "id": "ac307b3b",
   "metadata": {},
   "outputs": [],
   "source": [
    "drop2=tfidf_test[(tfidf_test.Text_stem_Q2.isna())].index.to_list()\n",
    "tfidf_test.drop(drop2,axis = 0,inplace = True)\n",
    "tfidf_test.reset_index(inplace = True,drop = 'first' )"
   ]
  },
  {
   "cell_type": "code",
   "execution_count": 122,
   "id": "48578591",
   "metadata": {},
   "outputs": [
    {
     "data": {
      "text/plain": [
       "Text_stem_Q1     0\n",
       "Text_len_Q2      0\n",
       "Text_stem_Q2     0\n",
       "Text_len_Q2.1    0\n",
       "dtype: int64"
      ]
     },
     "execution_count": 122,
     "metadata": {},
     "output_type": "execute_result"
    }
   ],
   "source": [
    "tfidf_test.isna().sum()"
   ]
  },
  {
   "cell_type": "code",
   "execution_count": 123,
   "id": "7b754e8f",
   "metadata": {},
   "outputs": [
    {
     "data": {
      "text/plain": [
       "(121201, 4)"
      ]
     },
     "execution_count": 123,
     "metadata": {},
     "output_type": "execute_result"
    }
   ],
   "source": [
    "tfidf_test.shape"
   ]
  },
  {
   "cell_type": "code",
   "execution_count": 124,
   "id": "f72628d6",
   "metadata": {},
   "outputs": [],
   "source": [
    "y_test.drop(drop2,axis = 0,inplace = True) # Drop the labels of the null value indexes of tfidf_test\n",
    "y_test.reset_index(inplace = True,drop = 'first' )"
   ]
  },
  {
   "cell_type": "code",
   "execution_count": 125,
   "id": "4ddbf450",
   "metadata": {},
   "outputs": [
    {
     "data": {
      "text/plain": [
       "(121201, 1)"
      ]
     },
     "execution_count": 125,
     "metadata": {},
     "output_type": "execute_result"
    }
   ],
   "source": [
    "y_test.shape"
   ]
  },
  {
   "cell_type": "code",
   "execution_count": 126,
   "id": "358b4b19",
   "metadata": {},
   "outputs": [],
   "source": [
    "y_test = y_test.squeeze()"
   ]
  },
  {
   "cell_type": "code",
   "execution_count": 127,
   "id": "e0721ea8",
   "metadata": {},
   "outputs": [
    {
     "data": {
      "text/plain": [
       "(121201,)"
      ]
     },
     "execution_count": 127,
     "metadata": {},
     "output_type": "execute_result"
    }
   ],
   "source": [
    "y_test.shape"
   ]
  },
  {
   "cell_type": "markdown",
   "id": "96d2fc5a",
   "metadata": {},
   "source": [
    "### Importing TfidfVectorizer "
   ]
  },
  {
   "cell_type": "code",
   "execution_count": 128,
   "id": "64802e42",
   "metadata": {},
   "outputs": [],
   "source": [
    "from sklearn.feature_extraction.text import TfidfVectorizer\n",
    "\n",
    "vocab = TfidfVectorizer()\n"
   ]
  },
  {
   "cell_type": "markdown",
   "id": "0cf5fa6c",
   "metadata": {},
   "source": [
    "### Applying TFIDF on Train data"
   ]
  },
  {
   "cell_type": "code",
   "execution_count": 129,
   "id": "e9451857",
   "metadata": {},
   "outputs": [],
   "source": [
    "X_train_tfidf = vocab.fit_transform(tfidf_train['Text_stem_Q1']+tfidf_train['Text_stem_Q2'])"
   ]
  },
  {
   "cell_type": "code",
   "execution_count": 130,
   "id": "e0135e67",
   "metadata": {},
   "outputs": [
    {
     "name": "stdout",
     "output_type": "stream",
     "text": [
      "Total unique words: 207633\n",
      "Type of train features: <class 'scipy.sparse._csr.csr_matrix'>\n",
      "Shape of input data: (282811, 207633)\n"
     ]
    }
   ],
   "source": [
    "print(\"Total unique words:\", len(vocab.vocabulary_))\n",
    "\n",
    "print(\"Type of train features:\", type(X_train_tfidf))\n",
    "\n",
    "print(\"Shape of input data:\", X_train_tfidf.shape)"
   ]
  },
  {
   "cell_type": "code",
   "execution_count": 131,
   "id": "9543837b",
   "metadata": {},
   "outputs": [
    {
     "data": {
      "text/plain": [
       "<282811x207633 sparse matrix of type '<class 'numpy.float64'>'\n",
       "\twith 2212474 stored elements in Compressed Sparse Row format>"
      ]
     },
     "execution_count": 131,
     "metadata": {},
     "output_type": "execute_result"
    }
   ],
   "source": [
    "X_train_tfidf"
   ]
  },
  {
   "cell_type": "markdown",
   "id": "c1f8ed85",
   "metadata": {},
   "source": [
    "### Applying TFIDF on Test data"
   ]
  },
  {
   "cell_type": "code",
   "execution_count": 132,
   "id": "52cb6e5c",
   "metadata": {},
   "outputs": [],
   "source": [
    "X_test_tfidf = vocab.transform(tfidf_test['Text_stem_Q1']+tfidf_test['Text_stem_Q2'])"
   ]
  },
  {
   "cell_type": "code",
   "execution_count": 133,
   "id": "b9916747",
   "metadata": {},
   "outputs": [
    {
     "name": "stdout",
     "output_type": "stream",
     "text": [
      "Total unique words: 207633\n",
      "Type of train features: <class 'scipy.sparse._csr.csr_matrix'>\n",
      "Shape of input data: (121201, 207633)\n"
     ]
    }
   ],
   "source": [
    "print(\"Total unique words:\", len(vocab.vocabulary_))\n",
    "\n",
    "print(\"Type of train features:\", type(X_test_tfidf))\n",
    "\n",
    "print(\"Shape of input data:\", X_test_tfidf.shape)"
   ]
  },
  {
   "cell_type": "code",
   "execution_count": 134,
   "id": "95535167",
   "metadata": {},
   "outputs": [
    {
     "data": {
      "text/plain": [
       "<121201x207633 sparse matrix of type '<class 'numpy.float64'>'\n",
       "\twith 883710 stored elements in Compressed Sparse Row format>"
      ]
     },
     "execution_count": 134,
     "metadata": {},
     "output_type": "execute_result"
    }
   ],
   "source": [
    "X_test_tfidf"
   ]
  },
  {
   "cell_type": "markdown",
   "id": "5154a2a2",
   "metadata": {},
   "source": [
    "### Serializing the sparse matrix's of bow representation"
   ]
  },
  {
   "cell_type": "code",
   "execution_count": 136,
   "id": "6d92c656",
   "metadata": {},
   "outputs": [],
   "source": [
    "#dump(X_test_tfidf, open(\"D:\\Deep_learning\\internship project\\TFIDF's\\TFIDF-objects\\X_train_tfidf.pkl\", 'wb'))\n",
    "#dump(X_train_tfidf, open(\"D:\\Deep_learning\\internship project\\TFIDF's\\TFIDF-objects\\X_test_tfidf.pkl\", 'wb'))"
   ]
  },
  {
   "cell_type": "code",
   "execution_count": 137,
   "id": "e3221bd8",
   "metadata": {},
   "outputs": [],
   "source": [
    "#dump(y_train, open(r\"D:\\Deep_learning\\internship project\\TFIDF's\\TFIDF-objects\\y_train.pkl\", 'wb'))\n",
    "#dump(y_test, open(r\"D:\\Deep_learning\\internship project\\TFIDF's\\TFIDF-objects\\y_test.pkl\", 'wb'))"
   ]
  },
  {
   "cell_type": "markdown",
   "id": "8abccc9b",
   "metadata": {},
   "source": [
    "### De - Serializing the sparse matrix's of bow representation"
   ]
  },
  {
   "cell_type": "code",
   "execution_count": 138,
   "id": "46b7f40c",
   "metadata": {},
   "outputs": [],
   "source": [
    "# Loading pretrained objects from pickle file\n",
    "\n",
    "X_train_tfidf = load(open(\"D:\\Deep_learning\\internship project\\TFIDF's\\TFIDF-objects\\X_train_tfidf.pkl\", 'rb'))\n",
    "X_test_tfidf = load(open(\"D:\\Deep_learning\\internship project\\TFIDF's\\TFIDF-objects\\X_test_tfidf.pkl\", 'rb'))\n",
    "y_train = load(open(r\"D:\\Deep_learning\\internship project\\TFIDF's\\TFIDF-objects\\y_train.pkl\", 'rb'))\n",
    "y_test = load(open(r\"D:\\Deep_learning\\internship project\\TFIDF's\\TFIDF-objects\\y_test.pkl\", 'rb'))"
   ]
  },
  {
   "cell_type": "code",
   "execution_count": 139,
   "id": "36406903",
   "metadata": {},
   "outputs": [
    {
     "data": {
      "text/plain": [
       "<121201x207633 sparse matrix of type '<class 'numpy.float64'>'\n",
       "\twith 883710 stored elements in Compressed Sparse Row format>"
      ]
     },
     "execution_count": 139,
     "metadata": {},
     "output_type": "execute_result"
    },
    {
     "data": {
      "text/plain": [
       "<282811x207633 sparse matrix of type '<class 'numpy.float64'>'\n",
       "\twith 2212474 stored elements in Compressed Sparse Row format>"
      ]
     },
     "execution_count": 139,
     "metadata": {},
     "output_type": "execute_result"
    },
    {
     "data": {
      "text/plain": [
       "0         0\n",
       "1         0\n",
       "2         1\n",
       "3         0\n",
       "4         0\n",
       "         ..\n",
       "282806    0\n",
       "282807    1\n",
       "282808    1\n",
       "282809    0\n",
       "282810    1\n",
       "Name: is_duplicate, Length: 282811, dtype: int64"
      ]
     },
     "execution_count": 139,
     "metadata": {},
     "output_type": "execute_result"
    },
    {
     "data": {
      "text/plain": [
       "0         0\n",
       "1         0\n",
       "2         0\n",
       "3         1\n",
       "4         1\n",
       "         ..\n",
       "121196    0\n",
       "121197    1\n",
       "121198    1\n",
       "121199    1\n",
       "121200    0\n",
       "Name: is_duplicate, Length: 121201, dtype: int64"
      ]
     },
     "execution_count": 139,
     "metadata": {},
     "output_type": "execute_result"
    }
   ],
   "source": [
    "X_train_tfidf\n",
    "X_test_tfidf\n",
    "y_train\n",
    "y_test"
   ]
  },
  {
   "cell_type": "code",
   "execution_count": null,
   "id": "68e4b9ee",
   "metadata": {},
   "outputs": [],
   "source": []
  }
 ],
 "metadata": {
  "kernelspec": {
   "display_name": "Python 3 (ipykernel)",
   "language": "python",
   "name": "python3"
  },
  "language_info": {
   "codemirror_mode": {
    "name": "ipython",
    "version": 3
   },
   "file_extension": ".py",
   "mimetype": "text/x-python",
   "name": "python",
   "nbconvert_exporter": "python",
   "pygments_lexer": "ipython3",
   "version": "3.9.16"
  }
 },
 "nbformat": 4,
 "nbformat_minor": 5
}
