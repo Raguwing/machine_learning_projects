{
 "cells": [
  {
   "cell_type": "markdown",
   "id": "dd81e340",
   "metadata": {},
   "source": [
    "# credit_risk_dataset -- Project(EDA & Feature Engineering)"
   ]
  },
  {
   "cell_type": "code",
   "execution_count": 1,
   "id": "43f55d95",
   "metadata": {},
   "outputs": [],
   "source": [
    "# import Necessary libraries\n",
    "import pandas as pd\n",
    "import numpy as np\n",
    "import seaborn as sns\n",
    "import matplotlib.pyplot as plt\n",
    "\n",
    "from IPython.core.interactiveshell import InteractiveShell\n",
    "InteractiveShell.ast_node_interactivity = 'all'\n",
    "\n",
    "import warnings\n",
    "warnings.filterwarnings('ignore')"
   ]
  },
  {
   "cell_type": "code",
   "execution_count": 2,
   "id": "075f98df",
   "metadata": {},
   "outputs": [],
   "source": [
    "df= pd.read_csv(r\"D:\\Machine learning\\credit_risk_dataset.csv\")"
   ]
  },
  {
   "cell_type": "code",
   "execution_count": 3,
   "id": "492ed965",
   "metadata": {},
   "outputs": [
    {
     "data": {
      "text/html": [
       "<div>\n",
       "<style scoped>\n",
       "    .dataframe tbody tr th:only-of-type {\n",
       "        vertical-align: middle;\n",
       "    }\n",
       "\n",
       "    .dataframe tbody tr th {\n",
       "        vertical-align: top;\n",
       "    }\n",
       "\n",
       "    .dataframe thead th {\n",
       "        text-align: right;\n",
       "    }\n",
       "</style>\n",
       "<table border=\"1\" class=\"dataframe\">\n",
       "  <thead>\n",
       "    <tr style=\"text-align: right;\">\n",
       "      <th></th>\n",
       "      <th>person_age</th>\n",
       "      <th>person_income</th>\n",
       "      <th>person_home_ownership</th>\n",
       "      <th>person_emp_length</th>\n",
       "      <th>loan_intent</th>\n",
       "      <th>loan_grade</th>\n",
       "      <th>loan_amnt</th>\n",
       "      <th>loan_int_rate</th>\n",
       "      <th>loan_status</th>\n",
       "      <th>loan_percent_income</th>\n",
       "      <th>cb_person_default_on_file</th>\n",
       "      <th>cb_person_cred_hist_length</th>\n",
       "    </tr>\n",
       "  </thead>\n",
       "  <tbody>\n",
       "    <tr>\n",
       "      <th>0</th>\n",
       "      <td>22</td>\n",
       "      <td>59000</td>\n",
       "      <td>RENT</td>\n",
       "      <td>123.0</td>\n",
       "      <td>PERSONAL</td>\n",
       "      <td>D</td>\n",
       "      <td>35000</td>\n",
       "      <td>16.02</td>\n",
       "      <td>1</td>\n",
       "      <td>0.59</td>\n",
       "      <td>Y</td>\n",
       "      <td>3</td>\n",
       "    </tr>\n",
       "    <tr>\n",
       "      <th>1</th>\n",
       "      <td>21</td>\n",
       "      <td>9600</td>\n",
       "      <td>OWN</td>\n",
       "      <td>5.0</td>\n",
       "      <td>EDUCATION</td>\n",
       "      <td>B</td>\n",
       "      <td>1000</td>\n",
       "      <td>11.14</td>\n",
       "      <td>0</td>\n",
       "      <td>0.10</td>\n",
       "      <td>N</td>\n",
       "      <td>2</td>\n",
       "    </tr>\n",
       "    <tr>\n",
       "      <th>2</th>\n",
       "      <td>25</td>\n",
       "      <td>9600</td>\n",
       "      <td>MORTGAGE</td>\n",
       "      <td>1.0</td>\n",
       "      <td>MEDICAL</td>\n",
       "      <td>C</td>\n",
       "      <td>5500</td>\n",
       "      <td>12.87</td>\n",
       "      <td>1</td>\n",
       "      <td>0.57</td>\n",
       "      <td>N</td>\n",
       "      <td>3</td>\n",
       "    </tr>\n",
       "    <tr>\n",
       "      <th>3</th>\n",
       "      <td>23</td>\n",
       "      <td>65500</td>\n",
       "      <td>RENT</td>\n",
       "      <td>4.0</td>\n",
       "      <td>MEDICAL</td>\n",
       "      <td>C</td>\n",
       "      <td>35000</td>\n",
       "      <td>15.23</td>\n",
       "      <td>1</td>\n",
       "      <td>0.53</td>\n",
       "      <td>N</td>\n",
       "      <td>2</td>\n",
       "    </tr>\n",
       "    <tr>\n",
       "      <th>4</th>\n",
       "      <td>24</td>\n",
       "      <td>54400</td>\n",
       "      <td>RENT</td>\n",
       "      <td>8.0</td>\n",
       "      <td>MEDICAL</td>\n",
       "      <td>C</td>\n",
       "      <td>35000</td>\n",
       "      <td>14.27</td>\n",
       "      <td>1</td>\n",
       "      <td>0.55</td>\n",
       "      <td>Y</td>\n",
       "      <td>4</td>\n",
       "    </tr>\n",
       "  </tbody>\n",
       "</table>\n",
       "</div>"
      ],
      "text/plain": [
       "   person_age  person_income person_home_ownership  person_emp_length  \\\n",
       "0          22          59000                  RENT              123.0   \n",
       "1          21           9600                   OWN                5.0   \n",
       "2          25           9600              MORTGAGE                1.0   \n",
       "3          23          65500                  RENT                4.0   \n",
       "4          24          54400                  RENT                8.0   \n",
       "\n",
       "  loan_intent loan_grade  loan_amnt  loan_int_rate  loan_status  \\\n",
       "0    PERSONAL          D      35000          16.02            1   \n",
       "1   EDUCATION          B       1000          11.14            0   \n",
       "2     MEDICAL          C       5500          12.87            1   \n",
       "3     MEDICAL          C      35000          15.23            1   \n",
       "4     MEDICAL          C      35000          14.27            1   \n",
       "\n",
       "   loan_percent_income cb_person_default_on_file  cb_person_cred_hist_length  \n",
       "0                 0.59                         Y                           3  \n",
       "1                 0.10                         N                           2  \n",
       "2                 0.57                         N                           3  \n",
       "3                 0.53                         N                           2  \n",
       "4                 0.55                         Y                           4  "
      ]
     },
     "execution_count": 3,
     "metadata": {},
     "output_type": "execute_result"
    }
   ],
   "source": [
    "df.head()"
   ]
  },
  {
   "cell_type": "markdown",
   "id": "cf162d65",
   "metadata": {},
   "source": [
    "# EDA"
   ]
  },
  {
   "cell_type": "code",
   "execution_count": 4,
   "id": "f436c09d",
   "metadata": {},
   "outputs": [
    {
     "name": "stdout",
     "output_type": "stream",
     "text": [
      "<class 'pandas.core.frame.DataFrame'>\n",
      "RangeIndex: 32581 entries, 0 to 32580\n",
      "Data columns (total 12 columns):\n",
      " #   Column                      Non-Null Count  Dtype  \n",
      "---  ------                      --------------  -----  \n",
      " 0   person_age                  32581 non-null  int64  \n",
      " 1   person_income               32581 non-null  int64  \n",
      " 2   person_home_ownership       32581 non-null  object \n",
      " 3   person_emp_length           31686 non-null  float64\n",
      " 4   loan_intent                 32581 non-null  object \n",
      " 5   loan_grade                  32581 non-null  object \n",
      " 6   loan_amnt                   32581 non-null  int64  \n",
      " 7   loan_int_rate               29465 non-null  float64\n",
      " 8   loan_status                 32581 non-null  int64  \n",
      " 9   loan_percent_income         32581 non-null  float64\n",
      " 10  cb_person_default_on_file   32581 non-null  object \n",
      " 11  cb_person_cred_hist_length  32581 non-null  int64  \n",
      "dtypes: float64(3), int64(5), object(4)\n",
      "memory usage: 3.0+ MB\n"
     ]
    },
    {
     "data": {
      "text/plain": [
       "(32581, 12)"
      ]
     },
     "execution_count": 4,
     "metadata": {},
     "output_type": "execute_result"
    },
    {
     "data": {
      "text/html": [
       "<div>\n",
       "<style scoped>\n",
       "    .dataframe tbody tr th:only-of-type {\n",
       "        vertical-align: middle;\n",
       "    }\n",
       "\n",
       "    .dataframe tbody tr th {\n",
       "        vertical-align: top;\n",
       "    }\n",
       "\n",
       "    .dataframe thead th {\n",
       "        text-align: right;\n",
       "    }\n",
       "</style>\n",
       "<table border=\"1\" class=\"dataframe\">\n",
       "  <thead>\n",
       "    <tr style=\"text-align: right;\">\n",
       "      <th></th>\n",
       "      <th>person_age</th>\n",
       "      <th>person_income</th>\n",
       "      <th>person_home_ownership</th>\n",
       "      <th>person_emp_length</th>\n",
       "      <th>loan_intent</th>\n",
       "      <th>loan_grade</th>\n",
       "      <th>loan_amnt</th>\n",
       "      <th>loan_int_rate</th>\n",
       "      <th>loan_status</th>\n",
       "      <th>loan_percent_income</th>\n",
       "      <th>cb_person_default_on_file</th>\n",
       "      <th>cb_person_cred_hist_length</th>\n",
       "    </tr>\n",
       "  </thead>\n",
       "  <tbody>\n",
       "    <tr>\n",
       "      <th>count</th>\n",
       "      <td>32581.000000</td>\n",
       "      <td>3.258100e+04</td>\n",
       "      <td>32581</td>\n",
       "      <td>31686.000000</td>\n",
       "      <td>32581</td>\n",
       "      <td>32581</td>\n",
       "      <td>32581.000000</td>\n",
       "      <td>29465.000000</td>\n",
       "      <td>32581.000000</td>\n",
       "      <td>32581.000000</td>\n",
       "      <td>32581</td>\n",
       "      <td>32581.000000</td>\n",
       "    </tr>\n",
       "    <tr>\n",
       "      <th>unique</th>\n",
       "      <td>NaN</td>\n",
       "      <td>NaN</td>\n",
       "      <td>4</td>\n",
       "      <td>NaN</td>\n",
       "      <td>6</td>\n",
       "      <td>7</td>\n",
       "      <td>NaN</td>\n",
       "      <td>NaN</td>\n",
       "      <td>NaN</td>\n",
       "      <td>NaN</td>\n",
       "      <td>2</td>\n",
       "      <td>NaN</td>\n",
       "    </tr>\n",
       "    <tr>\n",
       "      <th>top</th>\n",
       "      <td>NaN</td>\n",
       "      <td>NaN</td>\n",
       "      <td>RENT</td>\n",
       "      <td>NaN</td>\n",
       "      <td>EDUCATION</td>\n",
       "      <td>A</td>\n",
       "      <td>NaN</td>\n",
       "      <td>NaN</td>\n",
       "      <td>NaN</td>\n",
       "      <td>NaN</td>\n",
       "      <td>N</td>\n",
       "      <td>NaN</td>\n",
       "    </tr>\n",
       "    <tr>\n",
       "      <th>freq</th>\n",
       "      <td>NaN</td>\n",
       "      <td>NaN</td>\n",
       "      <td>16446</td>\n",
       "      <td>NaN</td>\n",
       "      <td>6453</td>\n",
       "      <td>10777</td>\n",
       "      <td>NaN</td>\n",
       "      <td>NaN</td>\n",
       "      <td>NaN</td>\n",
       "      <td>NaN</td>\n",
       "      <td>26836</td>\n",
       "      <td>NaN</td>\n",
       "    </tr>\n",
       "    <tr>\n",
       "      <th>mean</th>\n",
       "      <td>27.734600</td>\n",
       "      <td>6.607485e+04</td>\n",
       "      <td>NaN</td>\n",
       "      <td>4.789686</td>\n",
       "      <td>NaN</td>\n",
       "      <td>NaN</td>\n",
       "      <td>9589.371106</td>\n",
       "      <td>11.011695</td>\n",
       "      <td>0.218164</td>\n",
       "      <td>0.170203</td>\n",
       "      <td>NaN</td>\n",
       "      <td>5.804211</td>\n",
       "    </tr>\n",
       "    <tr>\n",
       "      <th>std</th>\n",
       "      <td>6.348078</td>\n",
       "      <td>6.198312e+04</td>\n",
       "      <td>NaN</td>\n",
       "      <td>4.142630</td>\n",
       "      <td>NaN</td>\n",
       "      <td>NaN</td>\n",
       "      <td>6322.086646</td>\n",
       "      <td>3.240459</td>\n",
       "      <td>0.413006</td>\n",
       "      <td>0.106782</td>\n",
       "      <td>NaN</td>\n",
       "      <td>4.055001</td>\n",
       "    </tr>\n",
       "    <tr>\n",
       "      <th>min</th>\n",
       "      <td>20.000000</td>\n",
       "      <td>4.000000e+03</td>\n",
       "      <td>NaN</td>\n",
       "      <td>0.000000</td>\n",
       "      <td>NaN</td>\n",
       "      <td>NaN</td>\n",
       "      <td>500.000000</td>\n",
       "      <td>5.420000</td>\n",
       "      <td>0.000000</td>\n",
       "      <td>0.000000</td>\n",
       "      <td>NaN</td>\n",
       "      <td>2.000000</td>\n",
       "    </tr>\n",
       "    <tr>\n",
       "      <th>25%</th>\n",
       "      <td>23.000000</td>\n",
       "      <td>3.850000e+04</td>\n",
       "      <td>NaN</td>\n",
       "      <td>2.000000</td>\n",
       "      <td>NaN</td>\n",
       "      <td>NaN</td>\n",
       "      <td>5000.000000</td>\n",
       "      <td>7.900000</td>\n",
       "      <td>0.000000</td>\n",
       "      <td>0.090000</td>\n",
       "      <td>NaN</td>\n",
       "      <td>3.000000</td>\n",
       "    </tr>\n",
       "    <tr>\n",
       "      <th>50%</th>\n",
       "      <td>26.000000</td>\n",
       "      <td>5.500000e+04</td>\n",
       "      <td>NaN</td>\n",
       "      <td>4.000000</td>\n",
       "      <td>NaN</td>\n",
       "      <td>NaN</td>\n",
       "      <td>8000.000000</td>\n",
       "      <td>10.990000</td>\n",
       "      <td>0.000000</td>\n",
       "      <td>0.150000</td>\n",
       "      <td>NaN</td>\n",
       "      <td>4.000000</td>\n",
       "    </tr>\n",
       "    <tr>\n",
       "      <th>75%</th>\n",
       "      <td>30.000000</td>\n",
       "      <td>7.920000e+04</td>\n",
       "      <td>NaN</td>\n",
       "      <td>7.000000</td>\n",
       "      <td>NaN</td>\n",
       "      <td>NaN</td>\n",
       "      <td>12200.000000</td>\n",
       "      <td>13.470000</td>\n",
       "      <td>0.000000</td>\n",
       "      <td>0.230000</td>\n",
       "      <td>NaN</td>\n",
       "      <td>8.000000</td>\n",
       "    </tr>\n",
       "    <tr>\n",
       "      <th>max</th>\n",
       "      <td>144.000000</td>\n",
       "      <td>6.000000e+06</td>\n",
       "      <td>NaN</td>\n",
       "      <td>123.000000</td>\n",
       "      <td>NaN</td>\n",
       "      <td>NaN</td>\n",
       "      <td>35000.000000</td>\n",
       "      <td>23.220000</td>\n",
       "      <td>1.000000</td>\n",
       "      <td>0.830000</td>\n",
       "      <td>NaN</td>\n",
       "      <td>30.000000</td>\n",
       "    </tr>\n",
       "  </tbody>\n",
       "</table>\n",
       "</div>"
      ],
      "text/plain": [
       "          person_age  person_income person_home_ownership  person_emp_length  \\\n",
       "count   32581.000000   3.258100e+04                 32581       31686.000000   \n",
       "unique           NaN            NaN                     4                NaN   \n",
       "top              NaN            NaN                  RENT                NaN   \n",
       "freq             NaN            NaN                 16446                NaN   \n",
       "mean       27.734600   6.607485e+04                   NaN           4.789686   \n",
       "std         6.348078   6.198312e+04                   NaN           4.142630   \n",
       "min        20.000000   4.000000e+03                   NaN           0.000000   \n",
       "25%        23.000000   3.850000e+04                   NaN           2.000000   \n",
       "50%        26.000000   5.500000e+04                   NaN           4.000000   \n",
       "75%        30.000000   7.920000e+04                   NaN           7.000000   \n",
       "max       144.000000   6.000000e+06                   NaN         123.000000   \n",
       "\n",
       "       loan_intent loan_grade     loan_amnt  loan_int_rate   loan_status  \\\n",
       "count        32581      32581  32581.000000   29465.000000  32581.000000   \n",
       "unique           6          7           NaN            NaN           NaN   \n",
       "top      EDUCATION          A           NaN            NaN           NaN   \n",
       "freq          6453      10777           NaN            NaN           NaN   \n",
       "mean           NaN        NaN   9589.371106      11.011695      0.218164   \n",
       "std            NaN        NaN   6322.086646       3.240459      0.413006   \n",
       "min            NaN        NaN    500.000000       5.420000      0.000000   \n",
       "25%            NaN        NaN   5000.000000       7.900000      0.000000   \n",
       "50%            NaN        NaN   8000.000000      10.990000      0.000000   \n",
       "75%            NaN        NaN  12200.000000      13.470000      0.000000   \n",
       "max            NaN        NaN  35000.000000      23.220000      1.000000   \n",
       "\n",
       "        loan_percent_income cb_person_default_on_file  \\\n",
       "count          32581.000000                     32581   \n",
       "unique                  NaN                         2   \n",
       "top                     NaN                         N   \n",
       "freq                    NaN                     26836   \n",
       "mean               0.170203                       NaN   \n",
       "std                0.106782                       NaN   \n",
       "min                0.000000                       NaN   \n",
       "25%                0.090000                       NaN   \n",
       "50%                0.150000                       NaN   \n",
       "75%                0.230000                       NaN   \n",
       "max                0.830000                       NaN   \n",
       "\n",
       "        cb_person_cred_hist_length  \n",
       "count                 32581.000000  \n",
       "unique                         NaN  \n",
       "top                            NaN  \n",
       "freq                           NaN  \n",
       "mean                      5.804211  \n",
       "std                       4.055001  \n",
       "min                       2.000000  \n",
       "25%                       3.000000  \n",
       "50%                       4.000000  \n",
       "75%                       8.000000  \n",
       "max                      30.000000  "
      ]
     },
     "execution_count": 4,
     "metadata": {},
     "output_type": "execute_result"
    }
   ],
   "source": [
    "df.info()\n",
    "df.shape\n",
    "df.describe(include = 'all')"
   ]
  },
  {
   "cell_type": "code",
   "execution_count": 5,
   "id": "49de7eaa",
   "metadata": {},
   "outputs": [
    {
     "data": {
      "text/html": [
       "<div>\n",
       "<style scoped>\n",
       "    .dataframe tbody tr th:only-of-type {\n",
       "        vertical-align: middle;\n",
       "    }\n",
       "\n",
       "    .dataframe tbody tr th {\n",
       "        vertical-align: top;\n",
       "    }\n",
       "\n",
       "    .dataframe thead th {\n",
       "        text-align: right;\n",
       "    }\n",
       "</style>\n",
       "<table border=\"1\" class=\"dataframe\">\n",
       "  <thead>\n",
       "    <tr style=\"text-align: right;\">\n",
       "      <th></th>\n",
       "      <th>person_age</th>\n",
       "      <th>person_income</th>\n",
       "      <th>person_home_ownership</th>\n",
       "      <th>person_emp_length</th>\n",
       "      <th>loan_intent</th>\n",
       "      <th>loan_grade</th>\n",
       "      <th>loan_amnt</th>\n",
       "      <th>loan_int_rate</th>\n",
       "      <th>loan_status</th>\n",
       "      <th>loan_percent_income</th>\n",
       "      <th>cb_person_default_on_file</th>\n",
       "      <th>cb_person_cred_hist_length</th>\n",
       "    </tr>\n",
       "  </thead>\n",
       "  <tbody>\n",
       "    <tr>\n",
       "      <th>15975</th>\n",
       "      <td>23</td>\n",
       "      <td>42000</td>\n",
       "      <td>RENT</td>\n",
       "      <td>5.0</td>\n",
       "      <td>VENTURE</td>\n",
       "      <td>B</td>\n",
       "      <td>6000</td>\n",
       "      <td>9.99</td>\n",
       "      <td>0</td>\n",
       "      <td>0.14</td>\n",
       "      <td>N</td>\n",
       "      <td>4</td>\n",
       "    </tr>\n",
       "    <tr>\n",
       "      <th>15989</th>\n",
       "      <td>23</td>\n",
       "      <td>90000</td>\n",
       "      <td>MORTGAGE</td>\n",
       "      <td>7.0</td>\n",
       "      <td>EDUCATION</td>\n",
       "      <td>B</td>\n",
       "      <td>8000</td>\n",
       "      <td>10.36</td>\n",
       "      <td>0</td>\n",
       "      <td>0.09</td>\n",
       "      <td>N</td>\n",
       "      <td>3</td>\n",
       "    </tr>\n",
       "    <tr>\n",
       "      <th>15995</th>\n",
       "      <td>24</td>\n",
       "      <td>48000</td>\n",
       "      <td>MORTGAGE</td>\n",
       "      <td>4.0</td>\n",
       "      <td>MEDICAL</td>\n",
       "      <td>A</td>\n",
       "      <td>4000</td>\n",
       "      <td>5.42</td>\n",
       "      <td>0</td>\n",
       "      <td>0.08</td>\n",
       "      <td>N</td>\n",
       "      <td>4</td>\n",
       "    </tr>\n",
       "    <tr>\n",
       "      <th>16025</th>\n",
       "      <td>24</td>\n",
       "      <td>10000</td>\n",
       "      <td>RENT</td>\n",
       "      <td>8.0</td>\n",
       "      <td>PERSONAL</td>\n",
       "      <td>A</td>\n",
       "      <td>3000</td>\n",
       "      <td>7.90</td>\n",
       "      <td>1</td>\n",
       "      <td>0.30</td>\n",
       "      <td>N</td>\n",
       "      <td>3</td>\n",
       "    </tr>\n",
       "    <tr>\n",
       "      <th>16028</th>\n",
       "      <td>23</td>\n",
       "      <td>100000</td>\n",
       "      <td>MORTGAGE</td>\n",
       "      <td>7.0</td>\n",
       "      <td>EDUCATION</td>\n",
       "      <td>A</td>\n",
       "      <td>15000</td>\n",
       "      <td>7.88</td>\n",
       "      <td>0</td>\n",
       "      <td>0.15</td>\n",
       "      <td>N</td>\n",
       "      <td>4</td>\n",
       "    </tr>\n",
       "    <tr>\n",
       "      <th>...</th>\n",
       "      <td>...</td>\n",
       "      <td>...</td>\n",
       "      <td>...</td>\n",
       "      <td>...</td>\n",
       "      <td>...</td>\n",
       "      <td>...</td>\n",
       "      <td>...</td>\n",
       "      <td>...</td>\n",
       "      <td>...</td>\n",
       "      <td>...</td>\n",
       "      <td>...</td>\n",
       "      <td>...</td>\n",
       "    </tr>\n",
       "    <tr>\n",
       "      <th>32010</th>\n",
       "      <td>42</td>\n",
       "      <td>39996</td>\n",
       "      <td>MORTGAGE</td>\n",
       "      <td>2.0</td>\n",
       "      <td>HOMEIMPROVEMENT</td>\n",
       "      <td>A</td>\n",
       "      <td>2500</td>\n",
       "      <td>5.42</td>\n",
       "      <td>0</td>\n",
       "      <td>0.06</td>\n",
       "      <td>N</td>\n",
       "      <td>12</td>\n",
       "    </tr>\n",
       "    <tr>\n",
       "      <th>32047</th>\n",
       "      <td>36</td>\n",
       "      <td>250000</td>\n",
       "      <td>RENT</td>\n",
       "      <td>2.0</td>\n",
       "      <td>DEBTCONSOLIDATION</td>\n",
       "      <td>A</td>\n",
       "      <td>20000</td>\n",
       "      <td>7.88</td>\n",
       "      <td>0</td>\n",
       "      <td>0.08</td>\n",
       "      <td>N</td>\n",
       "      <td>17</td>\n",
       "    </tr>\n",
       "    <tr>\n",
       "      <th>32172</th>\n",
       "      <td>49</td>\n",
       "      <td>120000</td>\n",
       "      <td>MORTGAGE</td>\n",
       "      <td>12.0</td>\n",
       "      <td>MEDICAL</td>\n",
       "      <td>B</td>\n",
       "      <td>12000</td>\n",
       "      <td>10.99</td>\n",
       "      <td>0</td>\n",
       "      <td>0.10</td>\n",
       "      <td>N</td>\n",
       "      <td>12</td>\n",
       "    </tr>\n",
       "    <tr>\n",
       "      <th>32259</th>\n",
       "      <td>39</td>\n",
       "      <td>40000</td>\n",
       "      <td>OWN</td>\n",
       "      <td>4.0</td>\n",
       "      <td>VENTURE</td>\n",
       "      <td>B</td>\n",
       "      <td>1000</td>\n",
       "      <td>10.37</td>\n",
       "      <td>0</td>\n",
       "      <td>0.03</td>\n",
       "      <td>N</td>\n",
       "      <td>16</td>\n",
       "    </tr>\n",
       "    <tr>\n",
       "      <th>32279</th>\n",
       "      <td>43</td>\n",
       "      <td>11340</td>\n",
       "      <td>RENT</td>\n",
       "      <td>4.0</td>\n",
       "      <td>EDUCATION</td>\n",
       "      <td>C</td>\n",
       "      <td>1950</td>\n",
       "      <td>NaN</td>\n",
       "      <td>1</td>\n",
       "      <td>0.17</td>\n",
       "      <td>N</td>\n",
       "      <td>11</td>\n",
       "    </tr>\n",
       "  </tbody>\n",
       "</table>\n",
       "<p>165 rows × 12 columns</p>\n",
       "</div>"
      ],
      "text/plain": [
       "       person_age  person_income person_home_ownership  person_emp_length  \\\n",
       "15975          23          42000                  RENT                5.0   \n",
       "15989          23          90000              MORTGAGE                7.0   \n",
       "15995          24          48000              MORTGAGE                4.0   \n",
       "16025          24          10000                  RENT                8.0   \n",
       "16028          23         100000              MORTGAGE                7.0   \n",
       "...           ...            ...                   ...                ...   \n",
       "32010          42          39996              MORTGAGE                2.0   \n",
       "32047          36         250000                  RENT                2.0   \n",
       "32172          49         120000              MORTGAGE               12.0   \n",
       "32259          39          40000                   OWN                4.0   \n",
       "32279          43          11340                  RENT                4.0   \n",
       "\n",
       "             loan_intent loan_grade  loan_amnt  loan_int_rate  loan_status  \\\n",
       "15975            VENTURE          B       6000           9.99            0   \n",
       "15989          EDUCATION          B       8000          10.36            0   \n",
       "15995            MEDICAL          A       4000           5.42            0   \n",
       "16025           PERSONAL          A       3000           7.90            1   \n",
       "16028          EDUCATION          A      15000           7.88            0   \n",
       "...                  ...        ...        ...            ...          ...   \n",
       "32010    HOMEIMPROVEMENT          A       2500           5.42            0   \n",
       "32047  DEBTCONSOLIDATION          A      20000           7.88            0   \n",
       "32172            MEDICAL          B      12000          10.99            0   \n",
       "32259            VENTURE          B       1000          10.37            0   \n",
       "32279          EDUCATION          C       1950            NaN            1   \n",
       "\n",
       "       loan_percent_income cb_person_default_on_file  \\\n",
       "15975                 0.14                         N   \n",
       "15989                 0.09                         N   \n",
       "15995                 0.08                         N   \n",
       "16025                 0.30                         N   \n",
       "16028                 0.15                         N   \n",
       "...                    ...                       ...   \n",
       "32010                 0.06                         N   \n",
       "32047                 0.08                         N   \n",
       "32172                 0.10                         N   \n",
       "32259                 0.03                         N   \n",
       "32279                 0.17                         N   \n",
       "\n",
       "       cb_person_cred_hist_length  \n",
       "15975                           4  \n",
       "15989                           3  \n",
       "15995                           4  \n",
       "16025                           3  \n",
       "16028                           4  \n",
       "...                           ...  \n",
       "32010                          12  \n",
       "32047                          17  \n",
       "32172                          12  \n",
       "32259                          16  \n",
       "32279                          11  \n",
       "\n",
       "[165 rows x 12 columns]"
      ]
     },
     "execution_count": 5,
     "metadata": {},
     "output_type": "execute_result"
    }
   ],
   "source": [
    "df[df.duplicated()] # check for duplicate records in our dataset"
   ]
  },
  {
   "cell_type": "code",
   "execution_count": 6,
   "id": "d9eba1bd",
   "metadata": {},
   "outputs": [],
   "source": [
    "# Lets drop the duplicates\n",
    "df.drop_duplicates(keep = 'first',inplace = True)"
   ]
  },
  {
   "cell_type": "code",
   "execution_count": 7,
   "id": "b0cceffa",
   "metadata": {},
   "outputs": [
    {
     "data": {
      "text/plain": [
       "person_age                     0.0\n",
       "person_income                  0.0\n",
       "person_home_ownership          0.0\n",
       "person_emp_length              3.0\n",
       "loan_intent                    0.0\n",
       "loan_grade                     0.0\n",
       "loan_amnt                      0.0\n",
       "loan_int_rate                 10.0\n",
       "loan_status                    0.0\n",
       "loan_percent_income            0.0\n",
       "cb_person_default_on_file      0.0\n",
       "cb_person_cred_hist_length     0.0\n",
       "dtype: float64"
      ]
     },
     "execution_count": 7,
     "metadata": {},
     "output_type": "execute_result"
    }
   ],
   "source": [
    "round(df.isna().sum()/len(df)*100) # check for percentage of null values"
   ]
  },
  {
   "cell_type": "markdown",
   "id": "f87b6df3",
   "metadata": {},
   "source": [
    " # Handling the missing values"
   ]
  },
  {
   "cell_type": "markdown",
   "id": "7101bfd9",
   "metadata": {},
   "source": [
    "**Two ways**\n",
    "1. Drop the missing values\n",
    "\n",
    "> If the percentage of missing values in a feature is more than 50% then you can drop those missing values\n",
    "\n",
    "2. Fill the missing values\n",
    "* For categorical - fill with `mode`\n",
    "* For Numerical - fill with `mean` (if no outliers), `median` (if there are outliers)"
   ]
  },
  {
   "cell_type": "markdown",
   "id": "23933a62",
   "metadata": {},
   "source": [
    "**Lets check if there are outliers in features `person_emp_length` and `loan_int_rate`** using simple VIZ"
   ]
  },
  {
   "cell_type": "code",
   "execution_count": 8,
   "id": "b9ebfa82",
   "metadata": {},
   "outputs": [
    {
     "data": {
      "image/png": "[encoded data removed]",
      "text/plain": [
       "<Figure size 1050x450 with 2 Axes>"
      ]
     },
     "metadata": {},
     "output_type": "display_data"
    }
   ],
   "source": [
    "plt.figure(figsize=(7,3),dpi = 150)\n",
    "plt.subplot(121)\n",
    "sns.boxplot(x = 'person_emp_length', data = df)\n",
    "plt.subplot(122)\n",
    "sns.boxplot(x = 'loan_int_rate', data =df);"
   ]
  },
  {
   "cell_type": "markdown",
   "id": "15a93f60",
   "metadata": {},
   "source": [
    "## Obsservation\n",
    "* As we can observe there are outliers in our features so, lets fill them with median instead of mean. Because median is not impacted ny the outliers"
   ]
  },
  {
   "cell_type": "code",
   "execution_count": 9,
   "id": "7dfbffab",
   "metadata": {},
   "outputs": [],
   "source": [
    "# Lets fill the null values\n",
    "df.person_emp_length.fillna(df.person_emp_length.median(), inplace = True)\n",
    "df.loan_int_rate.fillna(df.loan_int_rate.median(), inplace = True)"
   ]
  },
  {
   "cell_type": "code",
   "execution_count": 10,
   "id": "24771a1b",
   "metadata": {},
   "outputs": [
    {
     "data": {
      "text/plain": [
       "person_age                    0\n",
       "person_income                 0\n",
       "person_home_ownership         0\n",
       "person_emp_length             0\n",
       "loan_intent                   0\n",
       "loan_grade                    0\n",
       "loan_amnt                     0\n",
       "loan_int_rate                 0\n",
       "loan_status                   0\n",
       "loan_percent_income           0\n",
       "cb_person_default_on_file     0\n",
       "cb_person_cred_hist_length    0\n",
       "dtype: int64"
      ]
     },
     "execution_count": 10,
     "metadata": {},
     "output_type": "execute_result"
    }
   ],
   "source": [
    "df.isna().sum()"
   ]
  },
  {
   "cell_type": "markdown",
   "id": "e1d3a134",
   "metadata": {},
   "source": [
    "## Lets Check outliers in our dataset"
   ]
  },
  {
   "cell_type": "markdown",
   "id": "75b830fa",
   "metadata": {},
   "source": [
    "### Skewness:\n",
    "**Skewness refers to a distortion or asymmetry that deviates from the symmetrical bell curve, or normal distribution, in a set of data. If the curve is shifted to the left or to the right, it is said to be skewed.**\n",
    "\n",
    "\n",
    "* Less than -1 or greater than 1, then the distribution is highly skewed.\n",
    "* Between -1 and -0.5 or 0.5 and 1, then the distribution is moderately skewed.\n",
    "* Between -0.5 and 0.5, then the distribution is approx. symmetric.\n",
    "* When skewness = 0, then the data is perfrctly symmetric."
   ]
  },
  {
   "cell_type": "code",
   "execution_count": 11,
   "id": "3a8492e0",
   "metadata": {},
   "outputs": [
    {
     "data": {
      "text/plain": [
       "person_age                     2.580490\n",
       "person_income                 32.958748\n",
       "person_emp_length              2.668217\n",
       "loan_amnt                      1.191944\n",
       "loan_int_rate                  0.220183\n",
       "loan_status                    1.361172\n",
       "loan_percent_income            1.063811\n",
       "cb_person_cred_hist_length     1.659369\n",
       "dtype: float64"
      ]
     },
     "execution_count": 11,
     "metadata": {},
     "output_type": "execute_result"
    }
   ],
   "source": [
    "df.skew()"
   ]
  },
  {
   "cell_type": "code",
   "execution_count": 12,
   "id": "66835ade",
   "metadata": {},
   "outputs": [
    {
     "data": {
      "image/png": "[encoded data removed]",
      "text/plain": [
       "<Figure size 1500x1050 with 4 Axes>"
      ]
     },
     "metadata": {},
     "output_type": "display_data"
    }
   ],
   "source": [
    "# Lets confirm the outliers through visualization\n",
    "plt.figure(figsize=(10,7),dpi = 150)\n",
    "plt.subplot(221)\n",
    "sns.boxplot(x = 'person_income', data = df)\n",
    "plt.subplot(222)\n",
    "sns.boxplot(x ='person_age',data = df )\n",
    "plt.subplot(223)\n",
    "sns.boxplot(x ='person_emp_length',data = df)\n",
    "plt.subplot(224)\n",
    "sns.boxplot(x = 'cb_person_cred_hist_length',data = df)\n",
    "plt.subplot(224)\n",
    "sns.boxplot(x = 'cb_person_cred_hist_length',data = df);"
   ]
  },
  {
   "cell_type": "markdown",
   "id": "9910d534",
   "metadata": {},
   "source": [
    "# Outlier Treatment"
   ]
  },
  {
   "cell_type": "markdown",
   "id": "b1c617e8",
   "metadata": {},
   "source": [
    "* Now that we have detected the presence of outliers in our features, let's learn some well know techniques to tackle this issue.\n",
    "\n",
    "**1.Winsorizing** \n",
    "* This Technique replaces the outliers with the data points that are closer to the rest of the `data distribution` meaning where most of the data lies☺.\n",
    "* You can set a threshold and replace any data points beyond that `threshold` with the nearest non-outlier values.\n",
    "\n",
    "**2.Data Transformation** \n",
    "* Using mathematical functions such as `log, cube root`, etc., to transform the data will reduce the impact of outliers by normalizing the data. This approach is particularly useful when we are having `skewed data`.\n",
    "\n",
    "**3.Imputation**\n",
    "* This Technique involves replacing the outliers with estimated values such as the `median, or other statistical values` to impute outlier values.\n",
    "\n",
    "**4.Data Trimming**\n",
    "* This approach eliminates the outliers completely resulting in substancially valuable information from the dataset. So this technique is a no go!!!. Don't ever go for this approach."
   ]
  },
  {
   "cell_type": "markdown",
   "id": "af0cb7a4",
   "metadata": {},
   "source": [
    "# Winsorization\n",
    "* There are two prominant ways of applying winsorization\n",
    "1. **Winsorization by percentiles:** You have to specify the percentage `(p)` of data that you want to replace, for example you set a percentage of 5%, 5% of the data will be replaced at both the ends top and bottom.\n",
    "\n",
    "2. **Winsorization by standard deviation:** Calculate the mean and the standard deviation of the variable data, Then set a certain number of standard deviations (k) as the threshold. Values above `kσ` from the mean or below `-kσ` will be replaced.\n",
    "\n",
    "## What values to replace the outliers with?\n",
    "* After choosing one of the methods above, It's important that you need to decide what values to replace the outliers with.\n",
    "1. **Truncate:** You can set the outlier values equal to the closest non-outlying value within the specified range. For example if you have a winsorization range of 5%, the top 5% of values will be replaced with the largest values within that range, and the bottom 5% will be replaced with the smallest values within the range.\n",
    "2. **Winsorize:** You can set the outlier values equal to the values at boundary of the winsorization range. For example if you have a 5% winsorization, the top 5% of values will be replaced with the values at the 95th percentile, and the bottom 5% will be replaced with the values at the 5th percentile."
   ]
  },
  {
   "cell_type": "code",
   "execution_count": 13,
   "id": "c74d1e2e",
   "metadata": {},
   "outputs": [
    {
     "data": {
      "text/plain": [
       "person_age                     2.580490\n",
       "person_income                 32.958748\n",
       "person_emp_length              2.668217\n",
       "loan_amnt                      1.191944\n",
       "loan_int_rate                  0.220183\n",
       "loan_status                    1.361172\n",
       "loan_percent_income            1.063811\n",
       "cb_person_cred_hist_length     1.659369\n",
       "dtype: float64"
      ]
     },
     "execution_count": 13,
     "metadata": {},
     "output_type": "execute_result"
    }
   ],
   "source": [
    "df.skew()"
   ]
  },
  {
   "cell_type": "markdown",
   "id": "81bcb4bd",
   "metadata": {},
   "source": [
    "## Winsorization by percentiles"
   ]
  },
  {
   "cell_type": "code",
   "execution_count": 14,
   "id": "fee95941",
   "metadata": {},
   "outputs": [],
   "source": [
    "import scipy\n",
    "from scipy.stats import mstats"
   ]
  },
  {
   "cell_type": "code",
   "execution_count": 15,
   "id": "a9a78daa",
   "metadata": {},
   "outputs": [],
   "source": [
    "#pip install --upgrade scipy"
   ]
  },
  {
   "cell_type": "code",
   "execution_count": 16,
   "id": "90585279",
   "metadata": {},
   "outputs": [
    {
     "data": {
      "text/html": [
       "<div>\n",
       "<style scoped>\n",
       "    .dataframe tbody tr th:only-of-type {\n",
       "        vertical-align: middle;\n",
       "    }\n",
       "\n",
       "    .dataframe tbody tr th {\n",
       "        vertical-align: top;\n",
       "    }\n",
       "\n",
       "    .dataframe thead th {\n",
       "        text-align: right;\n",
       "    }\n",
       "</style>\n",
       "<table border=\"1\" class=\"dataframe\">\n",
       "  <thead>\n",
       "    <tr style=\"text-align: right;\">\n",
       "      <th></th>\n",
       "      <th>person_age</th>\n",
       "      <th>person_income</th>\n",
       "      <th>person_home_ownership</th>\n",
       "      <th>person_emp_length</th>\n",
       "      <th>loan_intent</th>\n",
       "      <th>loan_grade</th>\n",
       "      <th>loan_amnt</th>\n",
       "      <th>loan_int_rate</th>\n",
       "      <th>loan_status</th>\n",
       "      <th>loan_percent_income</th>\n",
       "      <th>cb_person_default_on_file</th>\n",
       "      <th>cb_person_cred_hist_length</th>\n",
       "    </tr>\n",
       "  </thead>\n",
       "  <tbody>\n",
       "    <tr>\n",
       "      <th>0</th>\n",
       "      <td>22</td>\n",
       "      <td>59000</td>\n",
       "      <td>RENT</td>\n",
       "      <td>123.0</td>\n",
       "      <td>PERSONAL</td>\n",
       "      <td>D</td>\n",
       "      <td>35000</td>\n",
       "      <td>16.02</td>\n",
       "      <td>1</td>\n",
       "      <td>0.59</td>\n",
       "      <td>Y</td>\n",
       "      <td>3</td>\n",
       "    </tr>\n",
       "    <tr>\n",
       "      <th>1</th>\n",
       "      <td>21</td>\n",
       "      <td>9600</td>\n",
       "      <td>OWN</td>\n",
       "      <td>5.0</td>\n",
       "      <td>EDUCATION</td>\n",
       "      <td>B</td>\n",
       "      <td>1000</td>\n",
       "      <td>11.14</td>\n",
       "      <td>0</td>\n",
       "      <td>0.10</td>\n",
       "      <td>N</td>\n",
       "      <td>2</td>\n",
       "    </tr>\n",
       "  </tbody>\n",
       "</table>\n",
       "</div>"
      ],
      "text/plain": [
       "   person_age  person_income person_home_ownership  person_emp_length  \\\n",
       "0          22          59000                  RENT              123.0   \n",
       "1          21           9600                   OWN                5.0   \n",
       "\n",
       "  loan_intent loan_grade  loan_amnt  loan_int_rate  loan_status  \\\n",
       "0    PERSONAL          D      35000          16.02            1   \n",
       "1   EDUCATION          B       1000          11.14            0   \n",
       "\n",
       "   loan_percent_income cb_person_default_on_file  cb_person_cred_hist_length  \n",
       "0                 0.59                         Y                           3  \n",
       "1                 0.10                         N                           2  "
      ]
     },
     "execution_count": 16,
     "metadata": {},
     "output_type": "execute_result"
    }
   ],
   "source": [
    "df.head(2)"
   ]
  },
  {
   "cell_type": "code",
   "execution_count": 17,
   "id": "4c506baa",
   "metadata": {},
   "outputs": [],
   "source": [
    "# insert a new columns to perform the winsorization methods\n",
    "df.insert(1,'person_age_truncate',df.person_age)\n",
    "df.insert(2,'person_age_winsorize',df.person_age)"
   ]
  },
  {
   "cell_type": "code",
   "execution_count": 18,
   "id": "33dcb1b4",
   "metadata": {},
   "outputs": [
    {
     "data": {
      "text/html": [
       "<div>\n",
       "<style scoped>\n",
       "    .dataframe tbody tr th:only-of-type {\n",
       "        vertical-align: middle;\n",
       "    }\n",
       "\n",
       "    .dataframe tbody tr th {\n",
       "        vertical-align: top;\n",
       "    }\n",
       "\n",
       "    .dataframe thead th {\n",
       "        text-align: right;\n",
       "    }\n",
       "</style>\n",
       "<table border=\"1\" class=\"dataframe\">\n",
       "  <thead>\n",
       "    <tr style=\"text-align: right;\">\n",
       "      <th></th>\n",
       "      <th>person_age</th>\n",
       "      <th>person_age_truncate</th>\n",
       "      <th>person_age_winsorize</th>\n",
       "      <th>person_income</th>\n",
       "      <th>person_home_ownership</th>\n",
       "      <th>person_emp_length</th>\n",
       "      <th>loan_intent</th>\n",
       "      <th>loan_grade</th>\n",
       "      <th>loan_amnt</th>\n",
       "      <th>loan_int_rate</th>\n",
       "      <th>loan_status</th>\n",
       "      <th>loan_percent_income</th>\n",
       "      <th>cb_person_default_on_file</th>\n",
       "      <th>cb_person_cred_hist_length</th>\n",
       "    </tr>\n",
       "  </thead>\n",
       "  <tbody>\n",
       "    <tr>\n",
       "      <th>0</th>\n",
       "      <td>22</td>\n",
       "      <td>22</td>\n",
       "      <td>22</td>\n",
       "      <td>59000</td>\n",
       "      <td>RENT</td>\n",
       "      <td>123.0</td>\n",
       "      <td>PERSONAL</td>\n",
       "      <td>D</td>\n",
       "      <td>35000</td>\n",
       "      <td>16.02</td>\n",
       "      <td>1</td>\n",
       "      <td>0.59</td>\n",
       "      <td>Y</td>\n",
       "      <td>3</td>\n",
       "    </tr>\n",
       "    <tr>\n",
       "      <th>1</th>\n",
       "      <td>21</td>\n",
       "      <td>21</td>\n",
       "      <td>21</td>\n",
       "      <td>9600</td>\n",
       "      <td>OWN</td>\n",
       "      <td>5.0</td>\n",
       "      <td>EDUCATION</td>\n",
       "      <td>B</td>\n",
       "      <td>1000</td>\n",
       "      <td>11.14</td>\n",
       "      <td>0</td>\n",
       "      <td>0.10</td>\n",
       "      <td>N</td>\n",
       "      <td>2</td>\n",
       "    </tr>\n",
       "  </tbody>\n",
       "</table>\n",
       "</div>"
      ],
      "text/plain": [
       "   person_age  person_age_truncate  person_age_winsorize  person_income  \\\n",
       "0          22                   22                    22          59000   \n",
       "1          21                   21                    21           9600   \n",
       "\n",
       "  person_home_ownership  person_emp_length loan_intent loan_grade  loan_amnt  \\\n",
       "0                  RENT              123.0    PERSONAL          D      35000   \n",
       "1                   OWN                5.0   EDUCATION          B       1000   \n",
       "\n",
       "   loan_int_rate  loan_status  loan_percent_income cb_person_default_on_file  \\\n",
       "0          16.02            1                 0.59                         Y   \n",
       "1          11.14            0                 0.10                         N   \n",
       "\n",
       "   cb_person_cred_hist_length  \n",
       "0                           3  \n",
       "1                           2  "
      ]
     },
     "execution_count": 18,
     "metadata": {},
     "output_type": "execute_result"
    }
   ],
   "source": [
    "df.head(2)"
   ]
  },
  {
   "cell_type": "code",
   "execution_count": 19,
   "id": "06f2f600",
   "metadata": {},
   "outputs": [],
   "source": [
    "df.person_age_truncate = mstats.winsorize(df.person_age_truncate, limits=[0.10,0.10])"
   ]
  },
  {
   "cell_type": "code",
   "execution_count": 20,
   "id": "92f754ac",
   "metadata": {},
   "outputs": [
    {
     "data": {
      "text/plain": [
       "0        22\n",
       "1        22\n",
       "2        25\n",
       "3        23\n",
       "4        24\n",
       "         ..\n",
       "32576    36\n",
       "32577    36\n",
       "32578    36\n",
       "32579    36\n",
       "32580    36\n",
       "Name: person_age_truncate, Length: 32416, dtype: int64"
      ]
     },
     "execution_count": 20,
     "metadata": {},
     "output_type": "execute_result"
    }
   ],
   "source": [
    "df.person_age_truncate"
   ]
  },
  {
   "cell_type": "code",
   "execution_count": 21,
   "id": "0b9a07b7",
   "metadata": {},
   "outputs": [
    {
     "data": {
      "image/png": "[encoded data removed]",
      "text/plain": [
       "<Figure size 640x480 with 1 Axes>"
      ]
     },
     "metadata": {},
     "output_type": "display_data"
    }
   ],
   "source": [
    "## Lets see whether the outliers now!!\n",
    "sns.boxplot(x = 'person_age_truncate', data = df);"
   ]
  },
  {
   "cell_type": "markdown",
   "id": "4865382a",
   "metadata": {},
   "source": [
    "## Observation: \n",
    "* As you can see the outliers has been replaced.\n",
    "* Most importantly `mstats.winsoroze` default method will be `truncate`, that means the outliers are replaced with closest non-outlying value within the specified range."
   ]
  },
  {
   "cell_type": "markdown",
   "id": "d1a6a227",
   "metadata": {},
   "source": [
    "## How to apply winsorize method?"
   ]
  },
  {
   "cell_type": "code",
   "execution_count": 22,
   "id": "c806b1d9",
   "metadata": {},
   "outputs": [],
   "source": [
    "## lets do it\n",
    "# Calculate the limits for winsorization using numpy -- np.percentile()\n",
    "lower_limit = np.percentile(df.person_age, 10)\n",
    "upper_limit = np.percentile(df.person_age, 90)\n",
    "\n",
    "# Winsorize the data\n",
    "df.person_age_winsorize[df.person_age_winsorize < lower_limit] = lower_limit\n",
    "df.person_age_winsorize[df.person_age_winsorize > upper_limit] = upper_limit"
   ]
  },
  {
   "cell_type": "code",
   "execution_count": 23,
   "id": "9813c887",
   "metadata": {},
   "outputs": [
    {
     "data": {
      "image/png": "[encoded data removed]",
      "text/plain": [
       "<Figure size 640x480 with 1 Axes>"
      ]
     },
     "metadata": {},
     "output_type": "display_data"
    }
   ],
   "source": [
    "## Lets see whether the outliers now!!\n",
    "sns.boxplot(x = 'person_age_winsorize', data = df);"
   ]
  },
  {
   "cell_type": "markdown",
   "id": "09474026",
   "metadata": {},
   "source": [
    "## Obervation:\n",
    "* As you can see the outliers has been replace by winsorize method.\n",
    "* The better option to go with is the winsorize method not the truncate."
   ]
  },
  {
   "cell_type": "markdown",
   "id": "fa3daef9",
   "metadata": {},
   "source": [
    "# Data Transformation Techiques\n",
    "* Lets see the two most popular transformation techiques to tackle the impact of the outliers"
   ]
  },
  {
   "cell_type": "markdown",
   "id": "c4cd857f",
   "metadata": {},
   "source": [
    "## 1. Log transformation"
   ]
  },
  {
   "cell_type": "markdown",
   "id": "0797eba7",
   "metadata": {},
   "source": [
    "* Logarithmic transformation is a mathematical operation that is performed on a variable or a feature in data analysis.\n",
    "* The commonly known logarithmic transformations are `natural log base e` and `common log base 10`. \n",
    "* This technique compresses the data that has span a wide range of values into a smaller range, that dosen't mean it will eliminate the outliers completely.The outliers may still be persent but their affect will be reduced."
   ]
  },
  {
   "cell_type": "markdown",
   "id": "1a5ed2a5",
   "metadata": {},
   "source": [
    "### Natural logarithmic transformation"
   ]
  },
  {
   "cell_type": "code",
   "execution_count": 24,
   "id": "7c08167a",
   "metadata": {},
   "outputs": [
    {
     "data": {
      "text/plain": [
       "32.95874828815014"
      ]
     },
     "execution_count": 24,
     "metadata": {},
     "output_type": "execute_result"
    }
   ],
   "source": [
    "# lets take the feature with maximum skewness.\n",
    "df.person_income.skew()\n",
    "# Lets apply the log transformation and check the impact of outliers\n",
    "df.insert(4,'person_income_log',df.person_income)\n",
    "import math\n",
    "data = df.person_income_log\n",
    "df.person_income_log = [math.log(x) for x in data]"
   ]
  },
  {
   "cell_type": "code",
   "execution_count": 25,
   "id": "8627a4b6",
   "metadata": {},
   "outputs": [
    {
     "data": {
      "text/html": [
       "<div>\n",
       "<style scoped>\n",
       "    .dataframe tbody tr th:only-of-type {\n",
       "        vertical-align: middle;\n",
       "    }\n",
       "\n",
       "    .dataframe tbody tr th {\n",
       "        vertical-align: top;\n",
       "    }\n",
       "\n",
       "    .dataframe thead th {\n",
       "        text-align: right;\n",
       "    }\n",
       "</style>\n",
       "<table border=\"1\" class=\"dataframe\">\n",
       "  <thead>\n",
       "    <tr style=\"text-align: right;\">\n",
       "      <th></th>\n",
       "      <th>person_age</th>\n",
       "      <th>person_age_truncate</th>\n",
       "      <th>person_age_winsorize</th>\n",
       "      <th>person_income</th>\n",
       "      <th>person_income_log</th>\n",
       "      <th>person_home_ownership</th>\n",
       "      <th>person_emp_length</th>\n",
       "      <th>loan_intent</th>\n",
       "      <th>loan_grade</th>\n",
       "      <th>loan_amnt</th>\n",
       "      <th>loan_int_rate</th>\n",
       "      <th>loan_status</th>\n",
       "      <th>loan_percent_income</th>\n",
       "      <th>cb_person_default_on_file</th>\n",
       "      <th>cb_person_cred_hist_length</th>\n",
       "    </tr>\n",
       "  </thead>\n",
       "  <tbody>\n",
       "    <tr>\n",
       "      <th>0</th>\n",
       "      <td>22</td>\n",
       "      <td>22</td>\n",
       "      <td>22</td>\n",
       "      <td>59000</td>\n",
       "      <td>10.985293</td>\n",
       "      <td>RENT</td>\n",
       "      <td>123.0</td>\n",
       "      <td>PERSONAL</td>\n",
       "      <td>D</td>\n",
       "      <td>35000</td>\n",
       "      <td>16.02</td>\n",
       "      <td>1</td>\n",
       "      <td>0.59</td>\n",
       "      <td>Y</td>\n",
       "      <td>3</td>\n",
       "    </tr>\n",
       "    <tr>\n",
       "      <th>1</th>\n",
       "      <td>21</td>\n",
       "      <td>22</td>\n",
       "      <td>22</td>\n",
       "      <td>9600</td>\n",
       "      <td>9.169518</td>\n",
       "      <td>OWN</td>\n",
       "      <td>5.0</td>\n",
       "      <td>EDUCATION</td>\n",
       "      <td>B</td>\n",
       "      <td>1000</td>\n",
       "      <td>11.14</td>\n",
       "      <td>0</td>\n",
       "      <td>0.10</td>\n",
       "      <td>N</td>\n",
       "      <td>2</td>\n",
       "    </tr>\n",
       "    <tr>\n",
       "      <th>2</th>\n",
       "      <td>25</td>\n",
       "      <td>25</td>\n",
       "      <td>25</td>\n",
       "      <td>9600</td>\n",
       "      <td>9.169518</td>\n",
       "      <td>MORTGAGE</td>\n",
       "      <td>1.0</td>\n",
       "      <td>MEDICAL</td>\n",
       "      <td>C</td>\n",
       "      <td>5500</td>\n",
       "      <td>12.87</td>\n",
       "      <td>1</td>\n",
       "      <td>0.57</td>\n",
       "      <td>N</td>\n",
       "      <td>3</td>\n",
       "    </tr>\n",
       "    <tr>\n",
       "      <th>3</th>\n",
       "      <td>23</td>\n",
       "      <td>23</td>\n",
       "      <td>23</td>\n",
       "      <td>65500</td>\n",
       "      <td>11.089805</td>\n",
       "      <td>RENT</td>\n",
       "      <td>4.0</td>\n",
       "      <td>MEDICAL</td>\n",
       "      <td>C</td>\n",
       "      <td>35000</td>\n",
       "      <td>15.23</td>\n",
       "      <td>1</td>\n",
       "      <td>0.53</td>\n",
       "      <td>N</td>\n",
       "      <td>2</td>\n",
       "    </tr>\n",
       "  </tbody>\n",
       "</table>\n",
       "</div>"
      ],
      "text/plain": [
       "   person_age  person_age_truncate  person_age_winsorize  person_income  \\\n",
       "0          22                   22                    22          59000   \n",
       "1          21                   22                    22           9600   \n",
       "2          25                   25                    25           9600   \n",
       "3          23                   23                    23          65500   \n",
       "\n",
       "   person_income_log person_home_ownership  person_emp_length loan_intent  \\\n",
       "0          10.985293                  RENT              123.0    PERSONAL   \n",
       "1           9.169518                   OWN                5.0   EDUCATION   \n",
       "2           9.169518              MORTGAGE                1.0     MEDICAL   \n",
       "3          11.089805                  RENT                4.0     MEDICAL   \n",
       "\n",
       "  loan_grade  loan_amnt  loan_int_rate  loan_status  loan_percent_income  \\\n",
       "0          D      35000          16.02            1                 0.59   \n",
       "1          B       1000          11.14            0                 0.10   \n",
       "2          C       5500          12.87            1                 0.57   \n",
       "3          C      35000          15.23            1                 0.53   \n",
       "\n",
       "  cb_person_default_on_file  cb_person_cred_hist_length  \n",
       "0                         Y                           3  \n",
       "1                         N                           2  \n",
       "2                         N                           3  \n",
       "3                         N                           2  "
      ]
     },
     "execution_count": 25,
     "metadata": {},
     "output_type": "execute_result"
    }
   ],
   "source": [
    "df.head(4)"
   ]
  },
  {
   "cell_type": "code",
   "execution_count": 26,
   "id": "dcf79e49",
   "metadata": {},
   "outputs": [
    {
     "name": "stdout",
     "output_type": "stream",
     "text": [
      "0.1577119048511239\n"
     ]
    },
    {
     "data": {
      "image/png": "[encoded data removed]",
      "text/plain": [
       "<Figure size 1200x450 with 2 Axes>"
      ]
     },
     "metadata": {},
     "output_type": "display_data"
    }
   ],
   "source": [
    "# Now lets check the skewness of the variable\n",
    "print(df.person_income_log.skew()) # as you can observe the skewness has been reduced to minimal value\n",
    "# lets see the outliers using VIZ\n",
    "plt.figure(figsize=(8,3), dpi = 150)\n",
    "plt.subplot(121)\n",
    "sns.boxplot(x = 'person_income_log', data = df);\n",
    "plt.subplot(122)\n",
    "sns.boxplot(x = 'person_income', data = df);"
   ]
  },
  {
   "cell_type": "markdown",
   "id": "0badc854",
   "metadata": {},
   "source": [
    "### Common Log base 10"
   ]
  },
  {
   "cell_type": "code",
   "execution_count": 27,
   "id": "c6c4bcb3",
   "metadata": {},
   "outputs": [
    {
     "name": "stdout",
     "output_type": "stream",
     "text": [
      "32.95874828815014\n"
     ]
    }
   ],
   "source": [
    "# lets take the feature with maximum skewness.\n",
    "print(df.person_income.skew())\n",
    "# Lets apply the log transformation and check the impact of outliers\n",
    "df.insert(5,'person_income_log1',df.person_income)\n",
    "import math\n",
    "data = df.person_income_log1\n",
    "df.person_income_log1 = [math.log10(x) for x in data]"
   ]
  },
  {
   "cell_type": "code",
   "execution_count": 28,
   "id": "19926a24",
   "metadata": {},
   "outputs": [
    {
     "data": {
      "text/html": [
       "<div>\n",
       "<style scoped>\n",
       "    .dataframe tbody tr th:only-of-type {\n",
       "        vertical-align: middle;\n",
       "    }\n",
       "\n",
       "    .dataframe tbody tr th {\n",
       "        vertical-align: top;\n",
       "    }\n",
       "\n",
       "    .dataframe thead th {\n",
       "        text-align: right;\n",
       "    }\n",
       "</style>\n",
       "<table border=\"1\" class=\"dataframe\">\n",
       "  <thead>\n",
       "    <tr style=\"text-align: right;\">\n",
       "      <th></th>\n",
       "      <th>person_age</th>\n",
       "      <th>person_age_truncate</th>\n",
       "      <th>person_age_winsorize</th>\n",
       "      <th>person_income</th>\n",
       "      <th>person_income_log</th>\n",
       "      <th>person_income_log1</th>\n",
       "      <th>person_home_ownership</th>\n",
       "      <th>person_emp_length</th>\n",
       "      <th>loan_intent</th>\n",
       "      <th>loan_grade</th>\n",
       "      <th>loan_amnt</th>\n",
       "      <th>loan_int_rate</th>\n",
       "      <th>loan_status</th>\n",
       "      <th>loan_percent_income</th>\n",
       "      <th>cb_person_default_on_file</th>\n",
       "      <th>cb_person_cred_hist_length</th>\n",
       "    </tr>\n",
       "  </thead>\n",
       "  <tbody>\n",
       "    <tr>\n",
       "      <th>0</th>\n",
       "      <td>22</td>\n",
       "      <td>22</td>\n",
       "      <td>22</td>\n",
       "      <td>59000</td>\n",
       "      <td>10.985293</td>\n",
       "      <td>4.770852</td>\n",
       "      <td>RENT</td>\n",
       "      <td>123.0</td>\n",
       "      <td>PERSONAL</td>\n",
       "      <td>D</td>\n",
       "      <td>35000</td>\n",
       "      <td>16.02</td>\n",
       "      <td>1</td>\n",
       "      <td>0.59</td>\n",
       "      <td>Y</td>\n",
       "      <td>3</td>\n",
       "    </tr>\n",
       "    <tr>\n",
       "      <th>1</th>\n",
       "      <td>21</td>\n",
       "      <td>22</td>\n",
       "      <td>22</td>\n",
       "      <td>9600</td>\n",
       "      <td>9.169518</td>\n",
       "      <td>3.982271</td>\n",
       "      <td>OWN</td>\n",
       "      <td>5.0</td>\n",
       "      <td>EDUCATION</td>\n",
       "      <td>B</td>\n",
       "      <td>1000</td>\n",
       "      <td>11.14</td>\n",
       "      <td>0</td>\n",
       "      <td>0.10</td>\n",
       "      <td>N</td>\n",
       "      <td>2</td>\n",
       "    </tr>\n",
       "    <tr>\n",
       "      <th>2</th>\n",
       "      <td>25</td>\n",
       "      <td>25</td>\n",
       "      <td>25</td>\n",
       "      <td>9600</td>\n",
       "      <td>9.169518</td>\n",
       "      <td>3.982271</td>\n",
       "      <td>MORTGAGE</td>\n",
       "      <td>1.0</td>\n",
       "      <td>MEDICAL</td>\n",
       "      <td>C</td>\n",
       "      <td>5500</td>\n",
       "      <td>12.87</td>\n",
       "      <td>1</td>\n",
       "      <td>0.57</td>\n",
       "      <td>N</td>\n",
       "      <td>3</td>\n",
       "    </tr>\n",
       "    <tr>\n",
       "      <th>3</th>\n",
       "      <td>23</td>\n",
       "      <td>23</td>\n",
       "      <td>23</td>\n",
       "      <td>65500</td>\n",
       "      <td>11.089805</td>\n",
       "      <td>4.816241</td>\n",
       "      <td>RENT</td>\n",
       "      <td>4.0</td>\n",
       "      <td>MEDICAL</td>\n",
       "      <td>C</td>\n",
       "      <td>35000</td>\n",
       "      <td>15.23</td>\n",
       "      <td>1</td>\n",
       "      <td>0.53</td>\n",
       "      <td>N</td>\n",
       "      <td>2</td>\n",
       "    </tr>\n",
       "  </tbody>\n",
       "</table>\n",
       "</div>"
      ],
      "text/plain": [
       "   person_age  person_age_truncate  person_age_winsorize  person_income  \\\n",
       "0          22                   22                    22          59000   \n",
       "1          21                   22                    22           9600   \n",
       "2          25                   25                    25           9600   \n",
       "3          23                   23                    23          65500   \n",
       "\n",
       "   person_income_log  person_income_log1 person_home_ownership  \\\n",
       "0          10.985293            4.770852                  RENT   \n",
       "1           9.169518            3.982271                   OWN   \n",
       "2           9.169518            3.982271              MORTGAGE   \n",
       "3          11.089805            4.816241                  RENT   \n",
       "\n",
       "   person_emp_length loan_intent loan_grade  loan_amnt  loan_int_rate  \\\n",
       "0              123.0    PERSONAL          D      35000          16.02   \n",
       "1                5.0   EDUCATION          B       1000          11.14   \n",
       "2                1.0     MEDICAL          C       5500          12.87   \n",
       "3                4.0     MEDICAL          C      35000          15.23   \n",
       "\n",
       "   loan_status  loan_percent_income cb_person_default_on_file  \\\n",
       "0            1                 0.59                         Y   \n",
       "1            0                 0.10                         N   \n",
       "2            1                 0.57                         N   \n",
       "3            1                 0.53                         N   \n",
       "\n",
       "   cb_person_cred_hist_length  \n",
       "0                           3  \n",
       "1                           2  \n",
       "2                           3  \n",
       "3                           2  "
      ]
     },
     "execution_count": 28,
     "metadata": {},
     "output_type": "execute_result"
    }
   ],
   "source": [
    "df.head(4)"
   ]
  },
  {
   "cell_type": "code",
   "execution_count": 29,
   "id": "a50c6ac4",
   "metadata": {},
   "outputs": [
    {
     "name": "stdout",
     "output_type": "stream",
     "text": [
      "0.15771190485113093\n"
     ]
    },
    {
     "data": {
      "image/png": "[encoded data removed]",
      "text/plain": [
       "<Figure size 1200x450 with 2 Axes>"
      ]
     },
     "metadata": {},
     "output_type": "display_data"
    }
   ],
   "source": [
    "# Now lets check the skewness of the variable\n",
    "print(df.person_income_log1.skew()) # as you can observe the skewness has been reduced to minimal value\n",
    "# lets see the outliers using VIZ\n",
    "plt.figure(figsize=(8,3), dpi = 150)\n",
    "plt.subplot(121)\n",
    "sns.boxplot(x = 'person_income_log1', data = df);\n",
    "plt.subplot(122)\n",
    "sns.boxplot(x = 'person_income', data = df);"
   ]
  },
  {
   "cell_type": "markdown",
   "id": "ce3cdda6",
   "metadata": {},
   "source": [
    "## Box-Cox Transformation"
   ]
  },
  {
   "cell_type": "markdown",
   "id": "aedb972f",
   "metadata": {},
   "source": [
    "- This transformation technique is used to stabilize the variance of a variable/feature in our data\n",
    "- The transformation is defined by a power function that can be applied to the original data. \n",
    "- The general form of the Box-Cox transformation is:\n",
    ">`Y(lambda) = (X^lambda - 1) / lambda`"
   ]
  },
  {
   "cell_type": "code",
   "execution_count": 33,
   "id": "efc2671c",
   "metadata": {},
   "outputs": [
    {
     "data": {
      "text/plain": [
       "1.6593687613558725"
      ]
     },
     "execution_count": 33,
     "metadata": {},
     "output_type": "execute_result"
    }
   ],
   "source": [
    "df.cb_person_cred_hist_length.skew()\n",
    "df.insert(3,'cb_hist_length_boxcox',df.cb_person_cred_hist_length)"
   ]
  },
  {
   "cell_type": "code",
   "execution_count": 35,
   "id": "1111963e",
   "metadata": {},
   "outputs": [],
   "source": [
    "import scipy.stats as stats\n",
    "df.cb_hist_length_boxcox, lamb = stats.boxcox(df.cb_hist_length_boxcox)"
   ]
  },
  {
   "cell_type": "code",
   "execution_count": 38,
   "id": "fa33432b",
   "metadata": {},
   "outputs": [
    {
     "name": "stdout",
     "output_type": "stream",
     "text": [
      "0.0614922288674664\n"
     ]
    },
    {
     "data": {
      "image/png": "[encoded data removed]",
      "text/plain": [
       "<Figure size 1200x450 with 2 Axes>"
      ]
     },
     "metadata": {},
     "output_type": "display_data"
    }
   ],
   "source": [
    "# Now lets check the skewness of the variable\n",
    "print(df.cb_hist_length_boxcox.skew()) # as you can observe the skewness has been reduced to minimal value\n",
    "# lets see the outliers using VIZ\n",
    "plt.figure(figsize=(8,3), dpi = 150)\n",
    "plt.subplot(121)\n",
    "sns.boxplot(x = 'cb_hist_length_boxcox', data = df);\n",
    "plt.subplot(122)\n",
    "sns.boxplot(x = 'cb_person_cred_hist_length', data = df);"
   ]
  },
  {
   "cell_type": "markdown",
   "id": "abf35a69",
   "metadata": {},
   "source": [
    "## Feature Engineering "
   ]
  },
  {
   "cell_type": "markdown",
   "id": "c687ae42",
   "metadata": {},
   "source": [
    "**Feature engineering is the process of Data Transformation (Raw Data) into meaningful features that can be used to train machine learning models. It has three forms:**\n",
    "1. Feature Selection\n",
    "2. Feature Extraction or creation\n",
    "3. Feature Transformation"
   ]
  },
  {
   "cell_type": "markdown",
   "id": "1856f56a",
   "metadata": {},
   "source": [
    "**Let's check Multi-Collinearity between input numerical features using feature selection**"
   ]
  },
  {
   "cell_type": "markdown",
   "id": "f6e5b180",
   "metadata": {},
   "source": [
    "## Variance Inflation Factor (VIF)"
   ]
  },
  {
   "cell_type": "markdown",
   "id": "3b6da995",
   "metadata": {},
   "source": [
    "The VIF is calculated as` 1 / (1 - R^2)`, where R^2 is the coefficient of determination of the regression model.\n",
    "\n",
    "**VIF gives a variance value for each feature in our data**\n",
    "- if variance value 0-4 - it means there is low multi-collinearity\n",
    "- if variance value 4-8 - it means there is medium multi-collinearity\n",
    "- if variance value above 8 - it means there is high multi-collinearity features --> Should be removed"
   ]
  },
  {
   "cell_type": "code",
   "execution_count": 39,
   "id": "45abacf4",
   "metadata": {},
   "outputs": [],
   "source": [
    "from statsmodels.stats.outliers_influence import variance_inflation_factor"
   ]
  },
  {
   "cell_type": "code",
   "execution_count": 40,
   "id": "20989c2b",
   "metadata": {},
   "outputs": [
    {
     "data": {
      "text/plain": [
       "person_age                      int64\n",
       "person_age_truncate             int64\n",
       "person_age_winsorize            int64\n",
       "cb_hist_length_boxcox         float64\n",
       "person_income                   int64\n",
       "person_income_log             float64\n",
       "person_income_log1            float64\n",
       "person_home_ownership          object\n",
       "person_emp_length             float64\n",
       "loan_intent                    object\n",
       "loan_grade                     object\n",
       "loan_amnt                       int64\n",
       "loan_int_rate                 float64\n",
       "loan_status                     int64\n",
       "loan_percent_income           float64\n",
       "cb_person_default_on_file      object\n",
       "cb_person_cred_hist_length      int64\n",
       "dtype: object"
      ]
     },
     "execution_count": 40,
     "metadata": {},
     "output_type": "execute_result"
    }
   ],
   "source": [
    "df.dtypes"
   ]
  },
  {
   "cell_type": "code",
   "execution_count": 41,
   "id": "e249a4db",
   "metadata": {},
   "outputs": [],
   "source": [
    "df1 = df.select_dtypes(include = ['int64','float64'])"
   ]
  },
  {
   "cell_type": "code",
   "execution_count": 42,
   "id": "78c38070",
   "metadata": {},
   "outputs": [
    {
     "data": {
      "text/html": [
       "<div>\n",
       "<style scoped>\n",
       "    .dataframe tbody tr th:only-of-type {\n",
       "        vertical-align: middle;\n",
       "    }\n",
       "\n",
       "    .dataframe tbody tr th {\n",
       "        vertical-align: top;\n",
       "    }\n",
       "\n",
       "    .dataframe thead th {\n",
       "        text-align: right;\n",
       "    }\n",
       "</style>\n",
       "<table border=\"1\" class=\"dataframe\">\n",
       "  <thead>\n",
       "    <tr style=\"text-align: right;\">\n",
       "      <th></th>\n",
       "      <th>features</th>\n",
       "      <th>VIF</th>\n",
       "    </tr>\n",
       "  </thead>\n",
       "  <tbody>\n",
       "    <tr>\n",
       "      <th>0</th>\n",
       "      <td>person_age</td>\n",
       "      <td>181.39</td>\n",
       "    </tr>\n",
       "    <tr>\n",
       "      <th>1</th>\n",
       "      <td>person_age_truncate</td>\n",
       "      <td>inf</td>\n",
       "    </tr>\n",
       "    <tr>\n",
       "      <th>2</th>\n",
       "      <td>person_age_winsorize</td>\n",
       "      <td>inf</td>\n",
       "    </tr>\n",
       "    <tr>\n",
       "      <th>3</th>\n",
       "      <td>cb_hist_length_boxcox</td>\n",
       "      <td>78.56</td>\n",
       "    </tr>\n",
       "    <tr>\n",
       "      <th>4</th>\n",
       "      <td>person_income</td>\n",
       "      <td>3.41</td>\n",
       "    </tr>\n",
       "    <tr>\n",
       "      <th>5</th>\n",
       "      <td>person_income_log</td>\n",
       "      <td>inf</td>\n",
       "    </tr>\n",
       "    <tr>\n",
       "      <th>6</th>\n",
       "      <td>person_income_log1</td>\n",
       "      <td>inf</td>\n",
       "    </tr>\n",
       "    <tr>\n",
       "      <th>7</th>\n",
       "      <td>person_emp_length</td>\n",
       "      <td>2.53</td>\n",
       "    </tr>\n",
       "    <tr>\n",
       "      <th>8</th>\n",
       "      <td>loan_amnt</td>\n",
       "      <td>7.28</td>\n",
       "    </tr>\n",
       "    <tr>\n",
       "      <th>9</th>\n",
       "      <td>loan_int_rate</td>\n",
       "      <td>15.46</td>\n",
       "    </tr>\n",
       "    <tr>\n",
       "      <th>10</th>\n",
       "      <td>loan_status</td>\n",
       "      <td>1.71</td>\n",
       "    </tr>\n",
       "    <tr>\n",
       "      <th>11</th>\n",
       "      <td>loan_percent_income</td>\n",
       "      <td>8.04</td>\n",
       "    </tr>\n",
       "    <tr>\n",
       "      <th>12</th>\n",
       "      <td>cb_person_cred_hist_length</td>\n",
       "      <td>31.12</td>\n",
       "    </tr>\n",
       "  </tbody>\n",
       "</table>\n",
       "</div>"
      ],
      "text/plain": [
       "                      features     VIF\n",
       "0                   person_age  181.39\n",
       "1          person_age_truncate     inf\n",
       "2         person_age_winsorize     inf\n",
       "3        cb_hist_length_boxcox   78.56\n",
       "4                person_income    3.41\n",
       "5            person_income_log     inf\n",
       "6           person_income_log1     inf\n",
       "7            person_emp_length    2.53\n",
       "8                    loan_amnt    7.28\n",
       "9                loan_int_rate   15.46\n",
       "10                 loan_status    1.71\n",
       "11         loan_percent_income    8.04\n",
       "12  cb_person_cred_hist_length   31.12"
      ]
     },
     "execution_count": 42,
     "metadata": {},
     "output_type": "execute_result"
    }
   ],
   "source": [
    "vif = pd.DataFrame()\n",
    "vif['features'] = df1.columns\n",
    "vif['VIF'] = [variance_inflation_factor(df1.values, i) for i in range(df1.shape[1])]\n",
    "vif['VIF'] = round(vif['VIF'],2)\n",
    "vif"
   ]
  },
  {
   "cell_type": "code",
   "execution_count": 43,
   "id": "a5637d2f",
   "metadata": {},
   "outputs": [],
   "source": [
    "# If you observe, clearly the boxcox transformation is eliminating the outliers but it is having a huge value for variance\n",
    "# It indicates the feature is having high multi-collinearity"
   ]
  },
  {
   "cell_type": "markdown",
   "id": "559ff8e6",
   "metadata": {},
   "source": [
    "## RFE - Recursive Feature Elimination"
   ]
  },
  {
   "cell_type": "markdown",
   "id": "7fcb91e4",
   "metadata": {},
   "source": [
    "* This is a feature selection method used in feature engineering to identify the most relevant features in our data. Choose the appropriate estimater which completely depends on your EDA, the data and the problem statement you are dealing with.\n",
    "* RFE works by iteratively eliminating the least important features based on the estimator's coefficients or feature importances. The process continues until the specified number of features is reached.\n",
    "* Linear regression, logistic regression, and decision trees are commonly used, but you can explore other models as well."
   ]
  },
  {
   "cell_type": "code",
   "execution_count": 57,
   "id": "228a55ae",
   "metadata": {},
   "outputs": [],
   "source": [
    "from sklearn.linear_model import LinearRegression\n",
    "from sklearn.feature_selection import RFE"
   ]
  },
  {
   "cell_type": "code",
   "execution_count": 58,
   "id": "7c2915b6",
   "metadata": {},
   "outputs": [],
   "source": [
    "estimator = LinearRegression()\n",
    "rfe = RFE(estimator= estimator, n_features_to_select=6, verbose=1)"
   ]
  },
  {
   "cell_type": "code",
   "execution_count": 59,
   "id": "6c0a1b63",
   "metadata": {},
   "outputs": [],
   "source": [
    "X = df1\n",
    "y = df.loan_status"
   ]
  },
  {
   "cell_type": "code",
   "execution_count": 60,
   "id": "06070e0b",
   "metadata": {},
   "outputs": [
    {
     "name": "stdout",
     "output_type": "stream",
     "text": [
      "Fitting estimator with 13 features.\n",
      "Fitting estimator with 12 features.\n",
      "Fitting estimator with 11 features.\n",
      "Fitting estimator with 10 features.\n",
      "Fitting estimator with 9 features.\n",
      "Fitting estimator with 8 features.\n",
      "Fitting estimator with 7 features.\n"
     ]
    }
   ],
   "source": [
    "rfe = rfe.fit(X, y)"
   ]
  },
  {
   "cell_type": "code",
   "execution_count": 61,
   "id": "e46d8ae2",
   "metadata": {},
   "outputs": [
    {
     "data": {
      "text/html": [
       "<div>\n",
       "<style scoped>\n",
       "    .dataframe tbody tr th:only-of-type {\n",
       "        vertical-align: middle;\n",
       "    }\n",
       "\n",
       "    .dataframe tbody tr th {\n",
       "        vertical-align: top;\n",
       "    }\n",
       "\n",
       "    .dataframe thead th {\n",
       "        text-align: right;\n",
       "    }\n",
       "</style>\n",
       "<table border=\"1\" class=\"dataframe\">\n",
       "  <thead>\n",
       "    <tr style=\"text-align: right;\">\n",
       "      <th></th>\n",
       "      <th>Columns</th>\n",
       "      <th>Included</th>\n",
       "      <th>Ranking</th>\n",
       "    </tr>\n",
       "  </thead>\n",
       "  <tbody>\n",
       "    <tr>\n",
       "      <th>0</th>\n",
       "      <td>person_age</td>\n",
       "      <td>False</td>\n",
       "      <td>6</td>\n",
       "    </tr>\n",
       "    <tr>\n",
       "      <th>1</th>\n",
       "      <td>person_age_truncate</td>\n",
       "      <td>True</td>\n",
       "      <td>1</td>\n",
       "    </tr>\n",
       "    <tr>\n",
       "      <th>2</th>\n",
       "      <td>person_age_winsorize</td>\n",
       "      <td>True</td>\n",
       "      <td>1</td>\n",
       "    </tr>\n",
       "    <tr>\n",
       "      <th>3</th>\n",
       "      <td>cb_hist_length_boxcox</td>\n",
       "      <td>True</td>\n",
       "      <td>1</td>\n",
       "    </tr>\n",
       "    <tr>\n",
       "      <th>4</th>\n",
       "      <td>person_income</td>\n",
       "      <td>False</td>\n",
       "      <td>8</td>\n",
       "    </tr>\n",
       "    <tr>\n",
       "      <th>5</th>\n",
       "      <td>person_income_log</td>\n",
       "      <td>True</td>\n",
       "      <td>1</td>\n",
       "    </tr>\n",
       "    <tr>\n",
       "      <th>6</th>\n",
       "      <td>person_income_log1</td>\n",
       "      <td>True</td>\n",
       "      <td>1</td>\n",
       "    </tr>\n",
       "    <tr>\n",
       "      <th>7</th>\n",
       "      <td>person_emp_length</td>\n",
       "      <td>False</td>\n",
       "      <td>5</td>\n",
       "    </tr>\n",
       "    <tr>\n",
       "      <th>8</th>\n",
       "      <td>loan_amnt</td>\n",
       "      <td>False</td>\n",
       "      <td>7</td>\n",
       "    </tr>\n",
       "    <tr>\n",
       "      <th>9</th>\n",
       "      <td>loan_int_rate</td>\n",
       "      <td>False</td>\n",
       "      <td>2</td>\n",
       "    </tr>\n",
       "    <tr>\n",
       "      <th>10</th>\n",
       "      <td>loan_status</td>\n",
       "      <td>True</td>\n",
       "      <td>1</td>\n",
       "    </tr>\n",
       "    <tr>\n",
       "      <th>11</th>\n",
       "      <td>loan_percent_income</td>\n",
       "      <td>False</td>\n",
       "      <td>3</td>\n",
       "    </tr>\n",
       "    <tr>\n",
       "      <th>12</th>\n",
       "      <td>cb_person_cred_hist_length</td>\n",
       "      <td>False</td>\n",
       "      <td>4</td>\n",
       "    </tr>\n",
       "  </tbody>\n",
       "</table>\n",
       "</div>"
      ],
      "text/plain": [
       "                       Columns  Included  Ranking\n",
       "0                   person_age     False        6\n",
       "1          person_age_truncate      True        1\n",
       "2         person_age_winsorize      True        1\n",
       "3        cb_hist_length_boxcox      True        1\n",
       "4                person_income     False        8\n",
       "5            person_income_log      True        1\n",
       "6           person_income_log1      True        1\n",
       "7            person_emp_length     False        5\n",
       "8                    loan_amnt     False        7\n",
       "9                loan_int_rate     False        2\n",
       "10                 loan_status      True        1\n",
       "11         loan_percent_income     False        3\n",
       "12  cb_person_cred_hist_length     False        4"
      ]
     },
     "execution_count": 61,
     "metadata": {},
     "output_type": "execute_result"
    }
   ],
   "source": [
    "temp_df = pd.DataFrame({'Columns' : X.columns, 'Included' : rfe.support_, 'Ranking' : rfe.ranking_})\n",
    "\n",
    "temp_df"
   ]
  },
  {
   "cell_type": "markdown",
   "id": "29b11548",
   "metadata": {},
   "source": [
    "* RFE gives us ranking and support - if we want 6 important features from our data it gives us the top 6 important features from our data by giving them the rank as 1 and support as True, the remaining features will be given starting from rank 2 to remaining and termed as un-important."
   ]
  },
  {
   "cell_type": "code",
   "execution_count": null,
   "id": "81c4ca09",
   "metadata": {},
   "outputs": [],
   "source": []
  },
  {
   "cell_type": "code",
   "execution_count": null,
   "id": "f21282b4",
   "metadata": {},
   "outputs": [],
   "source": []
  },
  {
   "cell_type": "code",
   "execution_count": null,
   "id": "29530a83",
   "metadata": {},
   "outputs": [],
   "source": []
  },
  {
   "cell_type": "code",
   "execution_count": null,
   "id": "e55836ac",
   "metadata": {},
   "outputs": [],
   "source": []
  }
 ],
 "metadata": {
  "kernelspec": {
   "display_name": "Python 3 (ipykernel)",
   "language": "python",
   "name": "python3"
  },
  "language_info": {
   "codemirror_mode": {
    "name": "ipython",
    "version": 3
   },
   "file_extension": ".py",
   "mimetype": "text/x-python",
   "name": "python",
   "nbconvert_exporter": "python",
   "pygments_lexer": "ipython3",
   "version": "3.10.9"
  }
 },
 "nbformat": 4,
 "nbformat_minor": 5
}
